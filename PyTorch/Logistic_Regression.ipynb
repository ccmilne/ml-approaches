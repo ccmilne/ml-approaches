{
 "cells": [
  {
   "cell_type": "markdown",
   "metadata": {},
   "source": [
    "# SI 630: Homework 1: Classification\n",
    "\n",
    "Name on Kaggle: ccmilne"
   ]
  },
  {
   "cell_type": "code",
   "execution_count": 1,
   "metadata": {},
   "outputs": [],
   "source": [
    "import pandas as pd\n",
    "import numpy as np\n",
    "\n",
    "from tqdm import tqdm\n",
    "from collections import Counter\n",
    "import random\n",
    "\n",
    "train = pd.read_csv('train.csv')\n",
    "test = pd.read_csv('test.csv')\n",
    "dev = pd.read_csv('dev.csv')"
   ]
  },
  {
   "cell_type": "code",
   "execution_count": 2,
   "metadata": {},
   "outputs": [],
   "source": [
    "train['labels'] = np.where(train['party_affiliation'].str.contains(\"Democratic Party\"), 1, 0)\n",
    "dev['labels'] = np.where(dev['party_affiliation'].str.contains(\"Democratic Party\"), 1, 0)"
   ]
  },
  {
   "cell_type": "code",
   "execution_count": 3,
   "metadata": {},
   "outputs": [
    {
     "name": "stdout",
     "output_type": "stream",
     "text": [
      "59999\n",
      "20000\n",
      "20000\n"
     ]
    }
   ],
   "source": [
    "print(len(train))\n",
    "print(len(test))\n",
    "print(len(dev))"
   ]
  },
  {
   "cell_type": "code",
   "execution_count": 4,
   "metadata": {},
   "outputs": [
    {
     "data": {
      "text/html": [
       "<div>\n",
       "<style scoped>\n",
       "    .dataframe tbody tr th:only-of-type {\n",
       "        vertical-align: middle;\n",
       "    }\n",
       "\n",
       "    .dataframe tbody tr th {\n",
       "        vertical-align: top;\n",
       "    }\n",
       "\n",
       "    .dataframe thead th {\n",
       "        text-align: right;\n",
       "    }\n",
       "</style>\n",
       "<table border=\"1\" class=\"dataframe\">\n",
       "  <thead>\n",
       "    <tr style=\"text-align: right;\">\n",
       "      <th></th>\n",
       "      <th>email_text</th>\n",
       "      <th>uid_email</th>\n",
       "    </tr>\n",
       "  </thead>\n",
       "  <tbody>\n",
       "    <tr>\n",
       "      <th>0</th>\n",
       "      <td>20,000 &lt;GPE&gt; &lt;GPE&gt; signatures needed \\n 20,000...</td>\n",
       "      <td>5dfbe09ce5b500dd3dcb9f93c8fb185f</td>\n",
       "    </tr>\n",
       "    <tr>\n",
       "      <th>1</th>\n",
       "      <td>We 've worked way too hard and given way too m...</td>\n",
       "      <td>07e48f4183b98420a18503791fb412f6</td>\n",
       "    </tr>\n",
       "    <tr>\n",
       "      <th>2</th>\n",
       "      <td>If you use your 800%-MATCH \\n  &lt;&gt; \\n &lt;ORG&gt; &lt;OR...</td>\n",
       "      <td>b58c8607d96a414db0e9cc10108c35f5</td>\n",
       "    </tr>\n",
       "    <tr>\n",
       "      <th>3</th>\n",
       "      <td>&lt;PERSON&gt;, a proposal for Vote- by- &lt;&gt; threaten...</td>\n",
       "      <td>3901d9539d69ada89e5c82e2f1ca950d</td>\n",
       "    </tr>\n",
       "    <tr>\n",
       "      <th>4</th>\n",
       "      <td>The &lt;ORG&gt; &lt;ORG&gt; &lt;ORG&gt; is under immediate threa...</td>\n",
       "      <td>6a3e8e6f31381e84a34571deee0f1238</td>\n",
       "    </tr>\n",
       "    <tr>\n",
       "      <th>...</th>\n",
       "      <td>...</td>\n",
       "      <td>...</td>\n",
       "    </tr>\n",
       "    <tr>\n",
       "      <th>19995</th>\n",
       "      <td>View this email in your browser \\n  View this ...</td>\n",
       "      <td>9b11afd6a84d3806034d9080f4e9752a</td>\n",
       "    </tr>\n",
       "    <tr>\n",
       "      <th>19996</th>\n",
       "      <td>There are few things nearly every &lt;NORP&gt; can a...</td>\n",
       "      <td>888cacc2d660bf040f04ef1caf6ce844</td>\n",
       "    </tr>\n",
       "    <tr>\n",
       "      <th>19997</th>\n",
       "      <td>FIGHT for the truth by making 1000 % MORE of a...</td>\n",
       "      <td>712dc83f7a455870373c7a9eb30445d7</td>\n",
       "    </tr>\n",
       "    <tr>\n",
       "      <th>19998</th>\n",
       "      <td>I do n't need six- figure checks, but I do nee...</td>\n",
       "      <td>0bf3265244c2c06fff084c5a79a6387c</td>\n",
       "    </tr>\n",
       "    <tr>\n",
       "      <th>19999</th>\n",
       "      <td>When &lt;NORP&gt; Turn Out \\n &lt;&gt;, \\n  At a maskless ...</td>\n",
       "      <td>9b1f0f8d8a5da9840901f214ff59add7</td>\n",
       "    </tr>\n",
       "  </tbody>\n",
       "</table>\n",
       "<p>20000 rows × 2 columns</p>\n",
       "</div>"
      ],
      "text/plain": [
       "                                              email_text  \\\n",
       "0      20,000 <GPE> <GPE> signatures needed \\n 20,000...   \n",
       "1      We 've worked way too hard and given way too m...   \n",
       "2      If you use your 800%-MATCH \\n  <> \\n <ORG> <OR...   \n",
       "3      <PERSON>, a proposal for Vote- by- <> threaten...   \n",
       "4      The <ORG> <ORG> <ORG> is under immediate threa...   \n",
       "...                                                  ...   \n",
       "19995  View this email in your browser \\n  View this ...   \n",
       "19996  There are few things nearly every <NORP> can a...   \n",
       "19997  FIGHT for the truth by making 1000 % MORE of a...   \n",
       "19998  I do n't need six- figure checks, but I do nee...   \n",
       "19999  When <NORP> Turn Out \\n <>, \\n  At a maskless ...   \n",
       "\n",
       "                              uid_email  \n",
       "0      5dfbe09ce5b500dd3dcb9f93c8fb185f  \n",
       "1      07e48f4183b98420a18503791fb412f6  \n",
       "2      b58c8607d96a414db0e9cc10108c35f5  \n",
       "3      3901d9539d69ada89e5c82e2f1ca950d  \n",
       "4      6a3e8e6f31381e84a34571deee0f1238  \n",
       "...                                 ...  \n",
       "19995  9b11afd6a84d3806034d9080f4e9752a  \n",
       "19996  888cacc2d660bf040f04ef1caf6ce844  \n",
       "19997  712dc83f7a455870373c7a9eb30445d7  \n",
       "19998  0bf3265244c2c06fff084c5a79a6387c  \n",
       "19999  9b1f0f8d8a5da9840901f214ff59add7  \n",
       "\n",
       "[20000 rows x 2 columns]"
      ]
     },
     "execution_count": 4,
     "metadata": {},
     "output_type": "execute_result"
    }
   ],
   "source": [
    "test"
   ]
  },
  {
   "cell_type": "markdown",
   "metadata": {},
   "source": [
    "## Part 1: Text Data\n",
    "\n",
    "### 1.1: Tokenization"
   ]
  },
  {
   "cell_type": "code",
   "execution_count": 5,
   "metadata": {},
   "outputs": [],
   "source": [
    "s = 'Before we can start classifying, we need to turn our text data into some numeric representation that classifiers can work with. In class, we talked about using a bag of words representation—i.e., each document is represented as a vector.'"
   ]
  },
  {
   "cell_type": "code",
   "execution_count": 6,
   "metadata": {},
   "outputs": [],
   "source": [
    "def tokenize(string):\n",
    "    return string.split()"
   ]
  },
  {
   "cell_type": "code",
   "execution_count": 7,
   "metadata": {},
   "outputs": [],
   "source": [
    "# tokenize(s)"
   ]
  },
  {
   "cell_type": "code",
   "execution_count": 8,
   "metadata": {},
   "outputs": [],
   "source": [
    "# stop_words = [\"i\", \"me\", \"my\", \"myself\", \"we\", \"our\", \"ours\", \"ourselves\", \"you\", \"your\", \"yours\", \"yourself\", \"yourselves\", \"he\", \"him\", \"his\", \"himself\", \"she\", \"her\", \"hers\", \"herself\", \"it\", \"its\", \"itself\", \"they\", \"them\", \"their\", \"theirs\", \"themselves\", \"what\", \"which\", \"who\", \"whom\", \"this\", \"that\", \"these\", \"those\", \"am\", \"is\", \"are\", \"was\", \"were\", \"be\", \"been\", \"being\", \"have\", \"has\", \"had\", \"having\", \"do\", \"does\", \"did\", \"doing\", \"a\", \"an\", \"the\", \"and\", \"but\", \"if\", \"or\", \"because\", \"as\", \"until\", \"while\", \"of\", \"at\", \"by\", \"for\", \"with\", \"about\", \"against\", \"between\", \"into\", \"through\", \"during\", \"before\", \"after\", \"above\", \"below\", \"to\", \"from\", \"up\", \"down\", \"in\", \"out\", \"on\", \"off\", \"over\", \"under\", \"again\", \"further\", \"then\", \"once\", \"here\", \"there\", \"when\", \"where\", \"why\", \"how\", \"all\", \"any\", \"both\", \"each\", \"few\", \"more\", \"most\", \"other\", \"some\", \"such\", \"no\", \"nor\", \"not\", \"only\", \"own\", \"same\", \"so\", \"than\", \"too\", \"very\", \"s\", \"t\", \"can\", \"will\", \"just\", \"don\", \"should\", \"now\"]\n",
    "# spacy_terms = ['person', 'norp', 'org', 'gpe']\n",
    "# stopwords = stop_words + spacy_terms\n",
    "# [w for w in tokens if not w in stopwords]"
   ]
  },
  {
   "cell_type": "code",
   "execution_count": 9,
   "metadata": {},
   "outputs": [],
   "source": [
    "import re\n",
    "\n",
    "def better_tokenize(string):\n",
    "    pattern = r\"\\w+\\w\"\n",
    "    return re.findall(pattern, string.lower())"
   ]
  },
  {
   "cell_type": "code",
   "execution_count": 10,
   "metadata": {},
   "outputs": [],
   "source": [
    "# better_tokenize(s)"
   ]
  },
  {
   "cell_type": "code",
   "execution_count": null,
   "metadata": {},
   "outputs": [],
   "source": []
  },
  {
   "cell_type": "markdown",
   "metadata": {},
   "source": [
    "### 1.2: Building the Term-Document Matrix"
   ]
  },
  {
   "cell_type": "markdown",
   "metadata": {},
   "source": [
    "This section uses four functions to build the term-document matrices for each data set. They include:\n",
    "\n",
    "- term_frequency()\n",
    "- build_docs()\n",
    "- create_vocab()\n",
    "- create_matrix()"
   ]
  },
  {
   "cell_type": "code",
   "execution_count": 11,
   "metadata": {},
   "outputs": [],
   "source": [
    "# import sparse module from SciPy package \n",
    "from scipy import sparse"
   ]
  },
  {
   "cell_type": "code",
   "execution_count": 12,
   "metadata": {},
   "outputs": [],
   "source": [
    "def term_frequency(df, minimum_word_frequency=10):\n",
    "    emails = list(df['email_text'])\n",
    "    \n",
    "    #Build Term Frequency Dictionary\n",
    "    cnt = Counter()\n",
    "    for email in tqdm(emails):\n",
    "        tokens = better_tokenize(email)\n",
    "        for t in tokens:\n",
    "            cnt[t] += 1\n",
    "\n",
    "    #Remove rare words\n",
    "    minimum_word_frequency = 10\n",
    "    only_common = Counter({k: v for k, v in cnt.items() if v >= minimum_word_frequency})\n",
    "    \n",
    "    return only_common"
   ]
  },
  {
   "cell_type": "code",
   "execution_count": 13,
   "metadata": {},
   "outputs": [],
   "source": [
    "def build_docs(df, term_freq):\n",
    "    emails = list(df['email_text'])\n",
    "    \n",
    "    docs = {}\n",
    "    counter = 1\n",
    "    \n",
    "    for email in tqdm(emails):\n",
    "        tokens = better_tokenize(email)    \n",
    "        for t in tokens:\n",
    "            if t not in term_freq.keys(): tokens.remove(t)\n",
    "        docs[counter] = tokens\n",
    "        counter += 1\n",
    "\n",
    "    return docs"
   ]
  },
  {
   "cell_type": "code",
   "execution_count": null,
   "metadata": {},
   "outputs": [],
   "source": []
  },
  {
   "cell_type": "code",
   "execution_count": 14,
   "metadata": {},
   "outputs": [],
   "source": [
    "def create_vocab(docs):\n",
    "    n_nonzero = 0 #number of nonzero values in the matrix\n",
    "    vocab = set()\n",
    "\n",
    "    for docterms in docs.values():\n",
    "        unique_terms = set(docterms)    # all unique terms of this doc\n",
    "        vocab |= unique_terms           # set union: add unique terms of this doc\n",
    "        n_nonzero += len(unique_terms)  # add count of unique terms in this doc\n",
    "\n",
    "    docnames = np.array(list(docs.keys()))\n",
    "    vocab = np.array(list(vocab))\n",
    "    vocab_sorter = np.argsort(vocab)\n",
    "\n",
    "    ndocs = len(docnames) #Matrix rows\n",
    "    nvocab = len(vocab) #Matrix columns\n",
    "\n",
    "    data = np.empty(n_nonzero, dtype=np.intc)\n",
    "    rows = np.empty(n_nonzero, dtype=np.intc)\n",
    "    cols = np.empty(n_nonzero, dtype=np.intc)\n",
    "        \n",
    "    return vocab, vocab_sorter, data, rows, cols, ndocs, nvocab"
   ]
  },
  {
   "cell_type": "code",
   "execution_count": null,
   "metadata": {},
   "outputs": [],
   "source": []
  },
  {
   "cell_type": "code",
   "execution_count": 15,
   "metadata": {},
   "outputs": [],
   "source": [
    "def create_matrix(docs, vocab, vocab_sorter, data, rows, cols, ndocs, nvocab):\n",
    "    current_index = 0\n",
    "    \n",
    "    docnames = np.arange(1, len(docs) + 1)\n",
    "\n",
    "    for docname, terms in tqdm(docs.items()):\n",
    "#         term_indices = vocab_sorter[np.searchsorted(vocab, terms, sorter=vocab_sorter)]\n",
    "        try:\n",
    "            term_indices = vocab_sorter[np.searchsorted(vocab, terms, sorter=vocab_sorter)]\n",
    "        except:\n",
    "            print(\"Error with doc:\")\n",
    "            print(docname)\n",
    "            \n",
    "        uniq_indices, counts = np.unique(term_indices, return_counts=True)\n",
    "        n_vals = len(uniq_indices)\n",
    "        ind_end = current_index + n_vals\n",
    "\n",
    "        data[current_index:ind_end] = counts\n",
    "        cols[current_index:ind_end] = uniq_indices\n",
    "        doc_idx = np.where(docnames == docname)\n",
    "        rows[current_index:ind_end] = np.repeat(doc_idx, n_vals)\n",
    "\n",
    "        current_index = ind_end\n",
    "    \n",
    "    return sparse.csr_matrix((data, (rows, cols)), shape=(ndocs, nvocab), dtype=np.intc)"
   ]
  },
  {
   "cell_type": "markdown",
   "metadata": {},
   "source": [
    "Training Data"
   ]
  },
  {
   "cell_type": "code",
   "execution_count": 16,
   "metadata": {},
   "outputs": [
    {
     "name": "stderr",
     "output_type": "stream",
     "text": [
      "100%|██████████| 59999/59999 [00:23<00:00, 2556.73it/s]\n",
      "100%|██████████| 59999/59999 [00:20<00:00, 2893.12it/s]\n",
      "100%|██████████| 59999/59999 [00:27<00:00, 2158.68it/s]\n"
     ]
    }
   ],
   "source": [
    "term_freq_train = term_frequency(df=train)\n",
    "docs_train = build_docs(train, term_freq_train)\n",
    "\n",
    "vocab, vocab_sorter, data, rows, cols, ndocs, nvocab = create_vocab(docs_train)\n",
    "\n",
    "sparse_matrix_train = create_matrix(docs_train, vocab, vocab_sorter, data, rows, cols, ndocs, nvocab)"
   ]
  },
  {
   "cell_type": "code",
   "execution_count": 17,
   "metadata": {},
   "outputs": [
    {
     "data": {
      "text/plain": [
       "<59999x15389 sparse matrix of type '<class 'numpy.intc'>'\n",
       "\twith 9891710 stored elements in Compressed Sparse Row format>"
      ]
     },
     "execution_count": 17,
     "metadata": {},
     "output_type": "execute_result"
    }
   ],
   "source": [
    "sparse_matrix_train"
   ]
  },
  {
   "cell_type": "markdown",
   "metadata": {},
   "source": [
    "Development/Validation Data"
   ]
  },
  {
   "cell_type": "code",
   "execution_count": 18,
   "metadata": {},
   "outputs": [
    {
     "name": "stderr",
     "output_type": "stream",
     "text": [
      "100%|██████████| 20000/20000 [00:08<00:00, 2369.48it/s]\n",
      "100%|██████████| 20000/20000 [00:06<00:00, 2918.73it/s]\n"
     ]
    }
   ],
   "source": [
    "term_freq_dev = term_frequency(df=dev)\n",
    "docs_dev = build_docs(dev, term_freq_dev)\n",
    "\n",
    "vocab_dev, vocab_sorter_dev, data_dev, rows_dev, cols_dev, ndocs_dev, nvocab_dev = create_vocab(docs_dev)"
   ]
  },
  {
   "cell_type": "code",
   "execution_count": 19,
   "metadata": {},
   "outputs": [
    {
     "name": "stderr",
     "output_type": "stream",
     "text": [
      "100%|██████████| 20000/20000 [00:07<00:00, 2614.17it/s]\n"
     ]
    }
   ],
   "source": [
    "ndocs_dev = len(docs_dev)\n",
    "\n",
    "sparse_matrix_dev = create_matrix(docs_dev, vocab, vocab_sorter, data_dev, rows_dev, cols_dev, ndocs_dev, nvocab)"
   ]
  },
  {
   "cell_type": "code",
   "execution_count": 20,
   "metadata": {},
   "outputs": [
    {
     "data": {
      "text/plain": [
       "<20000x15389 sparse matrix of type '<class 'numpy.intc'>'\n",
       "\twith 3276016 stored elements in Compressed Sparse Row format>"
      ]
     },
     "execution_count": 20,
     "metadata": {},
     "output_type": "execute_result"
    }
   ],
   "source": [
    "sparse_matrix_dev"
   ]
  },
  {
   "cell_type": "markdown",
   "metadata": {},
   "source": [
    "Testing Data"
   ]
  },
  {
   "cell_type": "code",
   "execution_count": 21,
   "metadata": {
    "scrolled": true
   },
   "outputs": [
    {
     "name": "stderr",
     "output_type": "stream",
     "text": [
      "100%|██████████| 20000/20000 [00:07<00:00, 2656.49it/s]\n",
      "100%|██████████| 20000/20000 [01:08<00:00, 291.46it/s] \n"
     ]
    }
   ],
   "source": [
    "term_freq_test = term_frequency(df=test)\n",
    "docs_test = build_docs(test, term_freq_test)\n",
    "\n",
    "vocab_test, vocab_sorter_test, data_test, rows_test, cols_test, ndocs_test, nvocab_test = create_vocab(docs_test)"
   ]
  },
  {
   "cell_type": "code",
   "execution_count": 22,
   "metadata": {},
   "outputs": [
    {
     "name": "stderr",
     "output_type": "stream",
     "text": [
      " 57%|█████▋    | 11465/20000 [00:04<00:03, 2628.51it/s]"
     ]
    },
    {
     "name": "stdout",
     "output_type": "stream",
     "text": [
      "Error with doc:\n",
      "11108\n"
     ]
    },
    {
     "name": "stderr",
     "output_type": "stream",
     "text": [
      "100%|██████████| 20000/20000 [00:08<00:00, 2471.51it/s]\n"
     ]
    }
   ],
   "source": [
    "ndocs_test = len(docs_test)\n",
    "\n",
    "sparse_matrix_test = create_matrix(docs_test, vocab, vocab_sorter, data_test, rows_test, cols_test, ndocs_test, nvocab)"
   ]
  },
  {
   "cell_type": "code",
   "execution_count": 23,
   "metadata": {},
   "outputs": [
    {
     "data": {
      "text/plain": [
       "<20000x15389 sparse matrix of type '<class 'numpy.intc'>'\n",
       "\twith 3271395 stored elements in Compressed Sparse Row format>"
      ]
     },
     "execution_count": 23,
     "metadata": {},
     "output_type": "execute_result"
    }
   ],
   "source": [
    "sparse_matrix_test"
   ]
  },
  {
   "cell_type": "code",
   "execution_count": null,
   "metadata": {},
   "outputs": [],
   "source": []
  },
  {
   "cell_type": "markdown",
   "metadata": {},
   "source": [
    "## Part 2: Logistic Regression in numpy"
   ]
  },
  {
   "cell_type": "code",
   "execution_count": 24,
   "metadata": {},
   "outputs": [],
   "source": [
    "def sigmoid(X):\n",
    "    return 1 / (1 + np.exp(-X))"
   ]
  },
  {
   "cell_type": "code",
   "execution_count": 25,
   "metadata": {},
   "outputs": [],
   "source": [
    "def log_likelihood(b, X, y):\n",
    "    '''\n",
    "    Calculates the log likelihood (aka maximum likelihood) \n",
    "    of the training data given Beta parameters    \n",
    "    '''\n",
    "    return np.dot(y, X*b) - np.log(1 + np.exp(X*b)).sum()"
   ]
  },
  {
   "cell_type": "code",
   "execution_count": 26,
   "metadata": {},
   "outputs": [],
   "source": [
    "def compute_gradient(b, X, y):\n",
    "    return X * (sigmoid(np.dot(b, X)) - y)"
   ]
  },
  {
   "cell_type": "code",
   "execution_count": 27,
   "metadata": {},
   "outputs": [],
   "source": [
    "def logistic_regression(X, y, learning_rate, num_steps):\n",
    "    '''\n",
    "    Logistic regression function that takes in:\n",
    "    \n",
    "    – a matrix X where each row is a vector that has the features for that instance\n",
    "    – a vector Y containing the class of the row\n",
    "    – learning rate which is a parameter to control how much you change the β values each step\n",
    "    – num step how many steps to update β before stopping\n",
    "    \n",
    "    '''\n",
    "    ### Initialize parameters (betas)\n",
    "#     betas = (np.random.random(X.shape[1]) - 0.5) / 100\n",
    "    betas = np.zeros(X.shape[1])    \n",
    "    \n",
    "    lls = []\n",
    "    \n",
    "    idx = 0\n",
    "    \n",
    "    for i in range(num_steps):\n",
    "        betas -= learning_rate * compute_gradient(b=betas, X=X[idx].toarray()[0], y=y[idx])\n",
    "        \n",
    "        ### Compute log likelihood to observe the loss rate (for graphing purposes)\n",
    "        if i % 100 == 100 - 1: #any time the remainder of i-100=99: \n",
    "            ll = log_likelihood(b=betas, X=X, y=y)\n",
    "            lls.append(ll)\n",
    "            print(f\"Turn {i + 1}: ll: {ll}\")\n",
    "        \n",
    "#         idx += 1\n",
    "        idx = (idx + 1) % X.shape[0]\n",
    "    \n",
    "    return (betas, lls)"
   ]
  },
  {
   "cell_type": "markdown",
   "metadata": {},
   "source": [
    "Training Data and Log-Likelihood Mapping"
   ]
  },
  {
   "cell_type": "code",
   "execution_count": 28,
   "metadata": {
    "scrolled": true
   },
   "outputs": [
    {
     "name": "stdout",
     "output_type": "stream",
     "text": [
      "Turn 100: ll: -35703.508718314646\n",
      "Turn 200: ll: -33736.60604505231\n",
      "Turn 300: ll: -32211.09688165535\n",
      "Turn 400: ll: -31455.44974741259\n",
      "Turn 500: ll: -30979.55760565806\n",
      "Turn 600: ll: -30625.516861198033\n",
      "Turn 700: ll: -30138.87604433771\n",
      "Turn 800: ll: -29988.445064203952\n",
      "Turn 900: ll: -29936.203300699934\n",
      "Turn 1000: ll: -29839.31606744811\n"
     ]
    }
   ],
   "source": [
    "X = sparse_matrix_train\n",
    "y = list(train['labels'])\n",
    "\n",
    "model = logistic_regression(X, y, learning_rate=1e-5, num_steps=1000)"
   ]
  },
  {
   "cell_type": "code",
   "execution_count": 29,
   "metadata": {},
   "outputs": [
    {
     "data": {
      "text/plain": [
       "array([0.00000000e+00, 8.67293249e-06, 0.00000000e+00, ...,\n",
       "       0.00000000e+00, 0.00000000e+00, 0.00000000e+00])"
      ]
     },
     "execution_count": 29,
     "metadata": {},
     "output_type": "execute_result"
    }
   ],
   "source": [
    "betas = model[0]\n",
    "betas"
   ]
  },
  {
   "cell_type": "code",
   "execution_count": 30,
   "metadata": {},
   "outputs": [],
   "source": [
    "lls = model[1]"
   ]
  },
  {
   "cell_type": "code",
   "execution_count": 31,
   "metadata": {},
   "outputs": [
    {
     "data": {
      "image/png": "[encoded data removed]",
      "text/plain": [
       "<Figure size 432x288 with 1 Axes>"
      ]
     },
     "metadata": {
      "needs_background": "light"
     },
     "output_type": "display_data"
    }
   ],
   "source": [
    "import matplotlib.pyplot as plt\n",
    "\n",
    "lls = model[1]\n",
    "\n",
    "x_axis = np.arange(0, 1000, 100)\n",
    "\n",
    "plt.figure()\n",
    "plt.plot(x_axis, lls)\n",
    "plt.title(\"Convergence Graph of Log-Likelihood\")\n",
    "plt.xlim(-50, 1000)\n",
    "plt.xlabel(\"Number of Iterations\")\n",
    "plt.ylabel(\"Log-Likelihood\")\n",
    "plt.show()"
   ]
  },
  {
   "cell_type": "code",
   "execution_count": 32,
   "metadata": {},
   "outputs": [],
   "source": [
    "def predict(b, X, y, threshold=0.5):\n",
    "    '''   \n",
    "    Prediction function that takes in:\n",
    "    \n",
    "    - betas from training set\n",
    "    - a vector X from a dev/test set\n",
    "    - a vector y as the true values\n",
    "    '''\n",
    "    iterations = len(y) #X.shape[0]\n",
    "    \n",
    "    y_predictions = 0\n",
    "    idx = 0\n",
    "    \n",
    "    for i in tqdm(range(iterations)):\n",
    "        outcome = np.round(sigmoid(np.dot(X[idx].toarray()[0], b)))\n",
    "        if outcome == y[idx]:\n",
    "            y_predictions += 1\n",
    "        idx += 1\n",
    "        \n",
    "#     outcome = np.round(sigmoid(np.dot(X, b))) >= threshold\n",
    "#     return outcome\n",
    "    return y_predictions"
   ]
  },
  {
   "cell_type": "code",
   "execution_count": 33,
   "metadata": {},
   "outputs": [],
   "source": [
    "X = sparse_matrix_dev\n",
    "y_dev = list(dev['labels'])"
   ]
  },
  {
   "cell_type": "code",
   "execution_count": 34,
   "metadata": {},
   "outputs": [
    {
     "name": "stderr",
     "output_type": "stream",
     "text": [
      "100%|██████████| 20000/20000 [00:04<00:00, 4203.69it/s]\n"
     ]
    }
   ],
   "source": [
    "y_predictions = predict(betas, X, y_dev)"
   ]
  },
  {
   "cell_type": "code",
   "execution_count": 35,
   "metadata": {},
   "outputs": [
    {
     "data": {
      "text/plain": [
       "0.8047"
      ]
     },
     "execution_count": 35,
     "metadata": {},
     "output_type": "execute_result"
    }
   ],
   "source": [
    "f1 = y_predictions / len(y_dev)\n",
    "f1"
   ]
  },
  {
   "cell_type": "code",
   "execution_count": null,
   "metadata": {},
   "outputs": [],
   "source": []
  },
  {
   "cell_type": "markdown",
   "metadata": {},
   "source": [
    "Submission for Kaggle with test data"
   ]
  },
  {
   "cell_type": "code",
   "execution_count": 36,
   "metadata": {
    "scrolled": true
   },
   "outputs": [
    {
     "name": "stdout",
     "output_type": "stream",
     "text": [
      "Turn 100: ll: -35703.508718314646\n",
      "Turn 200: ll: -33736.60604505231\n",
      "Turn 300: ll: -32211.09688165535\n",
      "Turn 400: ll: -31455.44974741259\n",
      "Turn 500: ll: -30979.55760565806\n",
      "Turn 600: ll: -30625.516861198033\n",
      "Turn 700: ll: -30138.87604433771\n",
      "Turn 800: ll: -29988.445064203952\n",
      "Turn 900: ll: -29936.203300699934\n",
      "Turn 1000: ll: -29839.31606744811\n",
      "Turn 1100: ll: -29830.962427717903\n",
      "Turn 1200: ll: -29763.289783843924\n",
      "Turn 1300: ll: -29773.29587398129\n",
      "Turn 1400: ll: -29667.931755179423\n",
      "Turn 1500: ll: -29529.649763264322\n",
      "Turn 1600: ll: -29472.687704635406\n",
      "Turn 1700: ll: -29410.72630952341\n",
      "Turn 1800: ll: -29376.25701289758\n",
      "Turn 1900: ll: -29291.25626646432\n",
      "Turn 2000: ll: -29237.174414193214\n",
      "Turn 2100: ll: -29166.58580461472\n",
      "Turn 2200: ll: -29112.061106729932\n",
      "Turn 2300: ll: -29079.392065691165\n",
      "Turn 2400: ll: -29003.323058343318\n",
      "Turn 2500: ll: -28960.147029382177\n",
      "Turn 2600: ll: -28950.72671527654\n",
      "Turn 2700: ll: -28894.481492140083\n",
      "Turn 2800: ll: -28792.246458935755\n",
      "Turn 2900: ll: -28727.823411596117\n",
      "Turn 3000: ll: -28658.849359602973\n",
      "Turn 3100: ll: -28595.01630254918\n",
      "Turn 3200: ll: -28551.233778786976\n",
      "Turn 3300: ll: -28554.261235242237\n",
      "Turn 3400: ll: -28465.19475876486\n",
      "Turn 3500: ll: -28408.1338802011\n",
      "Turn 3600: ll: -28352.305019042586\n",
      "Turn 3700: ll: -28311.886777477368\n",
      "Turn 3800: ll: -28249.898923461544\n",
      "Turn 3900: ll: -28204.330436967648\n",
      "Turn 4000: ll: -28161.01486562156\n",
      "Turn 4100: ll: -28122.177790292466\n",
      "Turn 4200: ll: -28085.43859257194\n",
      "Turn 4300: ll: -28127.245926040137\n",
      "Turn 4400: ll: -28126.986458248568\n",
      "Turn 4500: ll: -28193.369494018916\n",
      "Turn 4600: ll: -28100.27074932261\n",
      "Turn 4700: ll: -27925.449627396236\n",
      "Turn 4800: ll: -27842.596062872923\n",
      "Turn 4900: ll: -27877.583668825908\n",
      "Turn 5000: ll: -27698.313045920724\n",
      "Turn 5100: ll: -27795.902678777347\n",
      "Turn 5200: ll: -27918.309236450215\n",
      "Turn 5300: ll: -27915.160176629972\n",
      "Turn 5400: ll: -27817.15978241845\n",
      "Turn 5500: ll: -27779.333589407637\n",
      "Turn 5600: ll: -27503.266524842613\n",
      "Turn 5700: ll: -27548.07595750576\n",
      "Turn 5800: ll: -27429.256507360507\n",
      "Turn 5900: ll: -27303.99116955846\n",
      "Turn 6000: ll: -27296.397058132075\n",
      "Turn 6100: ll: -27220.09260579184\n",
      "Turn 6200: ll: -27117.747578717113\n",
      "Turn 6300: ll: -27102.48546535807\n",
      "Turn 6400: ll: -27058.601598458743\n",
      "Turn 6500: ll: -27050.516018642447\n",
      "Turn 6600: ll: -26982.447710563603\n",
      "Turn 6700: ll: -26949.639269919906\n",
      "Turn 6800: ll: -26893.567213397982\n",
      "Turn 6900: ll: -26855.634719382317\n",
      "Turn 7000: ll: -26826.145643979136\n",
      "Turn 7100: ll: -26777.492207516218\n",
      "Turn 7200: ll: -26733.85392951721\n",
      "Turn 7300: ll: -26705.162790493952\n",
      "Turn 7400: ll: -26714.499253441667\n",
      "Turn 7500: ll: -26670.85721369693\n",
      "Turn 7600: ll: -26661.877201533178\n",
      "Turn 7700: ll: -26599.980923021256\n",
      "Turn 7800: ll: -26585.986734528837\n",
      "Turn 7900: ll: -26685.60035963518\n",
      "Turn 8000: ll: -26629.985841608766\n",
      "Turn 8100: ll: -26669.35032325459\n",
      "Turn 8200: ll: -26546.550184092615\n",
      "Turn 8300: ll: -26497.420002970743\n",
      "Turn 8400: ll: -26402.50425001036\n",
      "Turn 8500: ll: -26402.69570348425\n",
      "Turn 8600: ll: -26457.279502951293\n",
      "Turn 8700: ll: -26298.956116061512\n",
      "Turn 8800: ll: -26288.990450545753\n",
      "Turn 8900: ll: -26230.994245754773\n",
      "Turn 9000: ll: -26212.252452561763\n",
      "Turn 9100: ll: -26181.466219316368\n",
      "Turn 9200: ll: -26155.614936164508\n",
      "Turn 9300: ll: -26122.590769840477\n",
      "Turn 9400: ll: -26118.79483592356\n",
      "Turn 9500: ll: -26141.674885301254\n",
      "Turn 9600: ll: -26102.610050940275\n",
      "Turn 9700: ll: -26193.41055168629\n",
      "Turn 9800: ll: -26009.409255249135\n",
      "Turn 9900: ll: -26058.301122634235\n",
      "Turn 10000: ll: -26051.65211285936\n"
     ]
    }
   ],
   "source": [
    "X = sparse_matrix_train\n",
    "y = list(train['labels'])\n",
    "\n",
    "model = logistic_regression(X, y, learning_rate=1e-5, num_steps=10000)\n",
    "betas = model[0]"
   ]
  },
  {
   "cell_type": "code",
   "execution_count": 37,
   "metadata": {},
   "outputs": [],
   "source": [
    "def predict(b, X, threshold=0.5):\n",
    "    \n",
    "    outcomes = []\n",
    "    idx = 0\n",
    "    \n",
    "    for i in tqdm(range(sparse_matrix_test.shape[0])):\n",
    "        outcome = sigmoid(np.dot(X[idx].toarray()[0], b))\n",
    "#         print(outcome)\n",
    "\n",
    "        if outcome > threshold:\n",
    "            outcomes.append(\"Democratic Party\")\n",
    "        else:\n",
    "            outcomes.append(\"Republican Party\")         \n",
    "        idx += 1\n",
    "        \n",
    "    return outcomes"
   ]
  },
  {
   "cell_type": "code",
   "execution_count": 38,
   "metadata": {
    "scrolled": true
   },
   "outputs": [
    {
     "name": "stderr",
     "output_type": "stream",
     "text": [
      "100%|██████████| 20000/20000 [00:04<00:00, 4801.22it/s]\n"
     ]
    }
   ],
   "source": [
    "predictions = predict(betas, sparse_matrix_test)"
   ]
  },
  {
   "cell_type": "code",
   "execution_count": 39,
   "metadata": {},
   "outputs": [
    {
     "data": {
      "text/plain": [
       "(array(['Democratic Party', 'Republican Party'], dtype='<U16'),\n",
       " array([19987,    13], dtype=int64))"
      ]
     },
     "execution_count": 39,
     "metadata": {},
     "output_type": "execute_result"
    }
   ],
   "source": [
    "np.unique(predictions, return_counts=True)"
   ]
  },
  {
   "cell_type": "code",
   "execution_count": 40,
   "metadata": {},
   "outputs": [
    {
     "data": {
      "text/html": [
       "<div>\n",
       "<style scoped>\n",
       "    .dataframe tbody tr th:only-of-type {\n",
       "        vertical-align: middle;\n",
       "    }\n",
       "\n",
       "    .dataframe tbody tr th {\n",
       "        vertical-align: top;\n",
       "    }\n",
       "\n",
       "    .dataframe thead th {\n",
       "        text-align: right;\n",
       "    }\n",
       "</style>\n",
       "<table border=\"1\" class=\"dataframe\">\n",
       "  <thead>\n",
       "    <tr style=\"text-align: right;\">\n",
       "      <th></th>\n",
       "      <th>uid_email</th>\n",
       "      <th>party_affiliation</th>\n",
       "    </tr>\n",
       "  </thead>\n",
       "  <tbody>\n",
       "    <tr>\n",
       "      <th>0</th>\n",
       "      <td>5dfbe09ce5b500dd3dcb9f93c8fb185f</td>\n",
       "      <td>Democratic Party</td>\n",
       "    </tr>\n",
       "    <tr>\n",
       "      <th>1</th>\n",
       "      <td>07e48f4183b98420a18503791fb412f6</td>\n",
       "      <td>Democratic Party</td>\n",
       "    </tr>\n",
       "    <tr>\n",
       "      <th>2</th>\n",
       "      <td>b58c8607d96a414db0e9cc10108c35f5</td>\n",
       "      <td>Democratic Party</td>\n",
       "    </tr>\n",
       "    <tr>\n",
       "      <th>3</th>\n",
       "      <td>3901d9539d69ada89e5c82e2f1ca950d</td>\n",
       "      <td>Democratic Party</td>\n",
       "    </tr>\n",
       "    <tr>\n",
       "      <th>4</th>\n",
       "      <td>6a3e8e6f31381e84a34571deee0f1238</td>\n",
       "      <td>Democratic Party</td>\n",
       "    </tr>\n",
       "    <tr>\n",
       "      <th>...</th>\n",
       "      <td>...</td>\n",
       "      <td>...</td>\n",
       "    </tr>\n",
       "    <tr>\n",
       "      <th>19995</th>\n",
       "      <td>9b11afd6a84d3806034d9080f4e9752a</td>\n",
       "      <td>Democratic Party</td>\n",
       "    </tr>\n",
       "    <tr>\n",
       "      <th>19996</th>\n",
       "      <td>888cacc2d660bf040f04ef1caf6ce844</td>\n",
       "      <td>Democratic Party</td>\n",
       "    </tr>\n",
       "    <tr>\n",
       "      <th>19997</th>\n",
       "      <td>712dc83f7a455870373c7a9eb30445d7</td>\n",
       "      <td>Democratic Party</td>\n",
       "    </tr>\n",
       "    <tr>\n",
       "      <th>19998</th>\n",
       "      <td>0bf3265244c2c06fff084c5a79a6387c</td>\n",
       "      <td>Democratic Party</td>\n",
       "    </tr>\n",
       "    <tr>\n",
       "      <th>19999</th>\n",
       "      <td>9b1f0f8d8a5da9840901f214ff59add7</td>\n",
       "      <td>Democratic Party</td>\n",
       "    </tr>\n",
       "  </tbody>\n",
       "</table>\n",
       "<p>20000 rows × 2 columns</p>\n",
       "</div>"
      ],
      "text/plain": [
       "                              uid_email party_affiliation\n",
       "0      5dfbe09ce5b500dd3dcb9f93c8fb185f  Democratic Party\n",
       "1      07e48f4183b98420a18503791fb412f6  Democratic Party\n",
       "2      b58c8607d96a414db0e9cc10108c35f5  Democratic Party\n",
       "3      3901d9539d69ada89e5c82e2f1ca950d  Democratic Party\n",
       "4      6a3e8e6f31381e84a34571deee0f1238  Democratic Party\n",
       "...                                 ...               ...\n",
       "19995  9b11afd6a84d3806034d9080f4e9752a  Democratic Party\n",
       "19996  888cacc2d660bf040f04ef1caf6ce844  Democratic Party\n",
       "19997  712dc83f7a455870373c7a9eb30445d7  Democratic Party\n",
       "19998  0bf3265244c2c06fff084c5a79a6387c  Democratic Party\n",
       "19999  9b1f0f8d8a5da9840901f214ff59add7  Democratic Party\n",
       "\n",
       "[20000 rows x 2 columns]"
      ]
     },
     "execution_count": 40,
     "metadata": {},
     "output_type": "execute_result"
    }
   ],
   "source": [
    "test['party_affiliation'] = predictions\n",
    "submission_df = test[['uid_email', 'party_affiliation']]\n",
    "submission_df"
   ]
  },
  {
   "cell_type": "code",
   "execution_count": 41,
   "metadata": {},
   "outputs": [],
   "source": [
    "submission_df.to_csv('numpy_logit_submission.csv', index=False)"
   ]
  },
  {
   "cell_type": "markdown",
   "metadata": {},
   "source": [
    "## Part 3: Logistic Regression with PyTorch"
   ]
  },
  {
   "cell_type": "code",
   "execution_count": 42,
   "metadata": {},
   "outputs": [],
   "source": [
    "import torch\n",
    "import torch.nn as nn\n",
    "import torch.optim as optim\n",
    "\n",
    "import matplotlib.pyplot as plt\n",
    "import seaborn as sns"
   ]
  },
  {
   "cell_type": "code",
   "execution_count": 43,
   "metadata": {},
   "outputs": [],
   "source": [
    "def to_sparse_tensor(sparse_matrix):\n",
    "    X = sparse_matrix.tocoo()\n",
    "    return torch.sparse_coo_tensor(np.mat([X.row, X.col]), X.data, size = X.shape).to(torch.float)\n",
    "\n",
    "sparse_tensor_train = to_sparse_tensor(sparse_matrix_train)\n",
    "sparse_tensor_dev = to_sparse_tensor(sparse_matrix_dev)\n",
    "sparse_tensor_test = to_sparse_tensor(sparse_matrix_test)"
   ]
  },
  {
   "cell_type": "code",
   "execution_count": 44,
   "metadata": {},
   "outputs": [
    {
     "data": {
      "text/plain": [
       "tensor(indices=tensor([[    0,     0,     0,  ..., 19999, 19999, 19999],\n",
       "                       [    0,    45,   145,  ..., 14544, 14820, 15145]]),\n",
       "       values=tensor([0., 2., 1.,  ..., 1., 1., 1.]),\n",
       "       size=(20000, 15389), nnz=3271395, layout=torch.sparse_coo)"
      ]
     },
     "execution_count": 44,
     "metadata": {},
     "output_type": "execute_result"
    }
   ],
   "source": [
    "sparse_tensor_train.to(torch.float)\n",
    "sparse_tensor_dev.to(torch.float)\n",
    "sparse_tensor_test.to(torch.float)"
   ]
  },
  {
   "cell_type": "code",
   "execution_count": 45,
   "metadata": {},
   "outputs": [],
   "source": [
    "y_train = torch.tensor(list(train['labels']), dtype=torch.float)\n",
    "y_dev = torch.tensor(list(dev['labels']), dtype=torch.float)\n",
    "# y_test = torch.tensor(list(test['labels']), dtype=torch.float)"
   ]
  },
  {
   "cell_type": "code",
   "execution_count": 46,
   "metadata": {},
   "outputs": [],
   "source": [
    "class LogisticRegression(nn.Module):\n",
    "    def __init__(self, input_dim, output_dim): #input_dim, output_dim\n",
    "        super(LogisticRegression, self).__init__()\n",
    "        self.linear = nn.Linear(input_dim, output_dim) #input_dim, output_dim\n",
    "        \n",
    "    def forward(self, x):\n",
    "        outputs = torch.sigmoid(self.linear(x))\n",
    "        return outputs\n",
    "\n",
    "input_dim = sparse_tensor_train.shape[1] #size of vocabulary\n",
    "output_dim = 1 #output should always be zero or one"
   ]
  },
  {
   "cell_type": "code",
   "execution_count": 47,
   "metadata": {},
   "outputs": [],
   "source": [
    "model = LogisticRegression(input_dim, output_dim)\n",
    "criterion = nn.BCELoss()\n",
    "optimizer = optim.SGD(model.parameters(), lr=0.05)"
   ]
  },
  {
   "cell_type": "markdown",
   "metadata": {},
   "source": [
    "Step 1"
   ]
  },
  {
   "cell_type": "code",
   "execution_count": 61,
   "metadata": {
    "scrolled": true
   },
   "outputs": [
    {
     "name": "stdout",
     "output_type": "stream",
     "text": [
      "Turn 100: ll: 2200.96484375\n",
      "Turn 200: ll: 2206.35302734375\n",
      "Turn 300: ll: 1767.8411865234375\n",
      "Turn 400: ll: 1311.047607421875\n",
      "Turn 500: ll: 1831.2821044921875\n",
      "Turn 600: ll: 1745.4993896484375\n",
      "Turn 700: ll: 1900.3984375\n",
      "Turn 800: ll: 2000.0\n",
      "Turn 900: ll: 2100.0\n",
      "Turn 1000: ll: 1700.36083984375\n",
      "Turn 1100: ll: 1700.0\n",
      "Turn 1200: ll: 1900.0054931640625\n",
      "Turn 1300: ll: 2100.0\n",
      "Turn 1400: ll: 1514.428466796875\n",
      "Turn 1500: ll: 2500.0009765625\n",
      "Turn 1600: ll: 1631.122802734375\n",
      "Turn 1700: ll: 1600.0\n",
      "Turn 1800: ll: 1800.0\n",
      "Turn 1900: ll: 2100.0048828125\n",
      "Turn 2000: ll: 1800.0\n",
      "Turn 2100: ll: 1312.416748046875\n",
      "Turn 2200: ll: 1700.13916015625\n",
      "Turn 2300: ll: 1853.92529296875\n",
      "Turn 2400: ll: 2400.0\n",
      "Turn 2500: ll: 1804.4130859375\n",
      "Turn 2600: ll: 1700.0\n",
      "Turn 2700: ll: 2200.0\n",
      "Turn 2800: ll: 2109.3212890625\n",
      "Turn 2900: ll: 2049.563720703125\n",
      "Turn 3000: ll: 973.7816772460938\n",
      "Turn 3100: ll: 957.159423828125\n",
      "Turn 3200: ll: 2117.22607421875\n",
      "Turn 3300: ll: 427.3753662109375\n",
      "Turn 3400: ll: 1078.31103515625\n",
      "Turn 3500: ll: 1153.895263671875\n",
      "Turn 3600: ll: 1143.296875\n",
      "Turn 3700: ll: 781.0340576171875\n",
      "Turn 3800: ll: 1265.368408203125\n",
      "Turn 3900: ll: 1544.17333984375\n"
     ]
    },
    {
     "ename": "KeyboardInterrupt",
     "evalue": "",
     "output_type": "error",
     "traceback": [
      "\u001b[1;31m---------------------------------------------------------------------------\u001b[0m",
      "\u001b[1;31mKeyboardInterrupt\u001b[0m                         Traceback (most recent call last)",
      "\u001b[1;32m<ipython-input-61-6479b036de71>\u001b[0m in \u001b[0;36m<module>\u001b[1;34m\u001b[0m\n\u001b[0;32m     10\u001b[0m \u001b[1;33m\u001b[0m\u001b[0m\n\u001b[0;32m     11\u001b[0m     \u001b[1;31m#forward pass\u001b[0m\u001b[1;33m\u001b[0m\u001b[1;33m\u001b[0m\u001b[1;33m\u001b[0m\u001b[0m\n\u001b[1;32m---> 12\u001b[1;33m     \u001b[0mpredictions\u001b[0m \u001b[1;33m=\u001b[0m \u001b[0mmodel\u001b[0m\u001b[1;33m(\u001b[0m\u001b[0msparse_tensor_train\u001b[0m\u001b[1;33m[\u001b[0m\u001b[0mi\u001b[0m\u001b[1;33m]\u001b[0m\u001b[1;33m)\u001b[0m\u001b[1;33m.\u001b[0m\u001b[0msqueeze\u001b[0m\u001b[1;33m(\u001b[0m\u001b[1;33m)\u001b[0m\u001b[1;33m\u001b[0m\u001b[1;33m\u001b[0m\u001b[0m\n\u001b[0m\u001b[0;32m     13\u001b[0m \u001b[1;33m\u001b[0m\u001b[0m\n\u001b[0;32m     14\u001b[0m     \u001b[1;31m#compute loss\u001b[0m\u001b[1;33m\u001b[0m\u001b[1;33m\u001b[0m\u001b[1;33m\u001b[0m\u001b[0m\n",
      "\u001b[1;32mC:\\ProgramData\\Anaconda3\\lib\\site-packages\\torch\\nn\\modules\\module.py\u001b[0m in \u001b[0;36m_call_impl\u001b[1;34m(self, *input, **kwargs)\u001b[0m\n\u001b[0;32m   1094\u001b[0m         \u001b[1;32mreturn\u001b[0m \u001b[0mresult\u001b[0m\u001b[1;33m\u001b[0m\u001b[1;33m\u001b[0m\u001b[0m\n\u001b[0;32m   1095\u001b[0m \u001b[1;33m\u001b[0m\u001b[0m\n\u001b[1;32m-> 1096\u001b[1;33m     \u001b[1;32mdef\u001b[0m \u001b[0m_call_impl\u001b[0m\u001b[1;33m(\u001b[0m\u001b[0mself\u001b[0m\u001b[1;33m,\u001b[0m \u001b[1;33m*\u001b[0m\u001b[0minput\u001b[0m\u001b[1;33m,\u001b[0m \u001b[1;33m**\u001b[0m\u001b[0mkwargs\u001b[0m\u001b[1;33m)\u001b[0m\u001b[1;33m:\u001b[0m\u001b[1;33m\u001b[0m\u001b[1;33m\u001b[0m\u001b[0m\n\u001b[0m\u001b[0;32m   1097\u001b[0m         \u001b[0mforward_call\u001b[0m \u001b[1;33m=\u001b[0m \u001b[1;33m(\u001b[0m\u001b[0mself\u001b[0m\u001b[1;33m.\u001b[0m\u001b[0m_slow_forward\u001b[0m \u001b[1;32mif\u001b[0m \u001b[0mtorch\u001b[0m\u001b[1;33m.\u001b[0m\u001b[0m_C\u001b[0m\u001b[1;33m.\u001b[0m\u001b[0m_get_tracing_state\u001b[0m\u001b[1;33m(\u001b[0m\u001b[1;33m)\u001b[0m \u001b[1;32melse\u001b[0m \u001b[0mself\u001b[0m\u001b[1;33m.\u001b[0m\u001b[0mforward\u001b[0m\u001b[1;33m)\u001b[0m\u001b[1;33m\u001b[0m\u001b[1;33m\u001b[0m\u001b[0m\n\u001b[0;32m   1098\u001b[0m         \u001b[1;31m# If we don't have any hooks, we want to skip the rest of the logic in\u001b[0m\u001b[1;33m\u001b[0m\u001b[1;33m\u001b[0m\u001b[1;33m\u001b[0m\u001b[0m\n",
      "\u001b[1;31mKeyboardInterrupt\u001b[0m: "
     ]
    }
   ],
   "source": [
    "model = LogisticRegression(input_dim, output_dim)\n",
    "criterion = nn.BCELoss()\n",
    "optimizer = optim.SGD(model.parameters(), lr=0.05)\n",
    "\n",
    "running_loss = 0.0\n",
    "for step in range(1000):\n",
    "    i = np.random.randint(1, 20000)\n",
    "\n",
    "    optimizer.zero_grad()\n",
    "    \n",
    "    #forward pass\n",
    "    predictions = model(sparse_tensor_train[i]).squeeze()\n",
    "            \n",
    "    #compute loss\n",
    "    loss = criterion(predictions, y_train[i])\n",
    "    running_loss += loss.detach()\n",
    "    \n",
    "    #backward pass\n",
    "    loss.backward()\n",
    "    optimizer.step()\n",
    "    \n",
    "    if step % 100 == 99:\n",
    "        \n",
    "        #Report Loss\n",
    "        print(f\"Turn {step + 1}: ll: {running_loss}\")\n",
    "        running_loss = 0.0"
   ]
  },
  {
   "cell_type": "markdown",
   "metadata": {},
   "source": [
    "Step 2"
   ]
  },
  {
   "cell_type": "code",
   "execution_count": null,
   "metadata": {},
   "outputs": [],
   "source": [
    "#Credit: https://gist.github.com/SuperShinyEyes/dcc68a08ff8b615442e3bc6a9b55a354\n",
    "\n",
    "def F1_score(y_dev, predictions):\n",
    "    y_true = torch.Tensor(y_dev)\n",
    "    y_pred = torch.Tensor(predictions)\n",
    "\n",
    "    tp = (y_true * y_pred).sum().to(torch.float32)\n",
    "    tn = ((1 - y_true) * (1 - y_pred)).sum().to(torch.float32)\n",
    "    fp = ((1 - y_true) * y_pred).sum().to(torch.float32)\n",
    "    fn = (y_true * (1 - y_pred)).sum().to(torch.float32)\n",
    "\n",
    "    epsilon = 1e-7\n",
    "\n",
    "    precision = tp / (tp + fp + epsilon)\n",
    "    recall = tp / (tp + fn + epsilon)\n",
    "\n",
    "    f1 = 2* (precision*recall) / (precision + recall + epsilon)\n",
    "    return f1"
   ]
  },
  {
   "cell_type": "code",
   "execution_count": 60,
   "metadata": {
    "scrolled": true
   },
   "outputs": [
    {
     "name": "stderr",
     "output_type": "stream",
     "text": [
      "\r",
      "  0%|          | 0/59999 [00:00<?, ?it/s]"
     ]
    },
    {
     "name": "stdout",
     "output_type": "stream",
     "text": [
      "Epoch: 1\n"
     ]
    },
    {
     "name": "stderr",
     "output_type": "stream",
     "text": [
      "  2%|▏         | 1098/59999 [03:40<3:16:53,  4.99it/s]\n"
     ]
    },
    {
     "ename": "KeyboardInterrupt",
     "evalue": "",
     "output_type": "error",
     "traceback": [
      "\u001b[1;31m---------------------------------------------------------------------------\u001b[0m",
      "\u001b[1;31mKeyboardInterrupt\u001b[0m                         Traceback (most recent call last)",
      "\u001b[1;32m<ipython-input-60-90633ceb3421>\u001b[0m in \u001b[0;36m<module>\u001b[1;34m\u001b[0m\n\u001b[0;32m     33\u001b[0m \u001b[1;33m\u001b[0m\u001b[0m\n\u001b[0;32m     34\u001b[0m             \u001b[1;31m#Development Data\u001b[0m\u001b[1;33m\u001b[0m\u001b[1;33m\u001b[0m\u001b[1;33m\u001b[0m\u001b[0m\n\u001b[1;32m---> 35\u001b[1;33m             \u001b[0mpredictions\u001b[0m \u001b[1;33m=\u001b[0m \u001b[0mmodel\u001b[0m\u001b[1;33m(\u001b[0m\u001b[0msparse_tensor_dev\u001b[0m\u001b[1;33m)\u001b[0m\u001b[1;33m.\u001b[0m\u001b[0msqueeze\u001b[0m\u001b[1;33m(\u001b[0m\u001b[1;33m)\u001b[0m\u001b[1;33m\u001b[0m\u001b[1;33m\u001b[0m\u001b[0m\n\u001b[0m\u001b[0;32m     36\u001b[0m             \u001b[0mf1_2\u001b[0m\u001b[1;33m.\u001b[0m\u001b[0mappend\u001b[0m\u001b[1;33m(\u001b[0m\u001b[0mF1_score\u001b[0m\u001b[1;33m(\u001b[0m\u001b[0my_dev\u001b[0m\u001b[1;33m,\u001b[0m \u001b[0mpredictions\u001b[0m\u001b[1;33m)\u001b[0m\u001b[1;33m)\u001b[0m\u001b[1;33m\u001b[0m\u001b[1;33m\u001b[0m\u001b[0m\n",
      "\u001b[1;32mC:\\ProgramData\\Anaconda3\\lib\\site-packages\\torch\\nn\\modules\\module.py\u001b[0m in \u001b[0;36m_call_impl\u001b[1;34m(self, *input, **kwargs)\u001b[0m\n\u001b[0;32m   1100\u001b[0m         if not (self._backward_hooks or self._forward_hooks or self._forward_pre_hooks or _global_backward_hooks\n\u001b[0;32m   1101\u001b[0m                 or _global_forward_hooks or _global_forward_pre_hooks):\n\u001b[1;32m-> 1102\u001b[1;33m             \u001b[1;32mreturn\u001b[0m \u001b[0mforward_call\u001b[0m\u001b[1;33m(\u001b[0m\u001b[1;33m*\u001b[0m\u001b[0minput\u001b[0m\u001b[1;33m,\u001b[0m \u001b[1;33m**\u001b[0m\u001b[0mkwargs\u001b[0m\u001b[1;33m)\u001b[0m\u001b[1;33m\u001b[0m\u001b[1;33m\u001b[0m\u001b[0m\n\u001b[0m\u001b[0;32m   1103\u001b[0m         \u001b[1;31m# Do not call functions when jit is used\u001b[0m\u001b[1;33m\u001b[0m\u001b[1;33m\u001b[0m\u001b[1;33m\u001b[0m\u001b[0m\n\u001b[0;32m   1104\u001b[0m         \u001b[0mfull_backward_hooks\u001b[0m\u001b[1;33m,\u001b[0m \u001b[0mnon_full_backward_hooks\u001b[0m \u001b[1;33m=\u001b[0m \u001b[1;33m[\u001b[0m\u001b[1;33m]\u001b[0m\u001b[1;33m,\u001b[0m \u001b[1;33m[\u001b[0m\u001b[1;33m]\u001b[0m\u001b[1;33m\u001b[0m\u001b[1;33m\u001b[0m\u001b[0m\n",
      "\u001b[1;32m<ipython-input-46-d33f2eb04fb8>\u001b[0m in \u001b[0;36mforward\u001b[1;34m(self, x)\u001b[0m\n\u001b[0;32m      5\u001b[0m \u001b[1;33m\u001b[0m\u001b[0m\n\u001b[0;32m      6\u001b[0m     \u001b[1;32mdef\u001b[0m \u001b[0mforward\u001b[0m\u001b[1;33m(\u001b[0m\u001b[0mself\u001b[0m\u001b[1;33m,\u001b[0m \u001b[0mx\u001b[0m\u001b[1;33m)\u001b[0m\u001b[1;33m:\u001b[0m\u001b[1;33m\u001b[0m\u001b[1;33m\u001b[0m\u001b[0m\n\u001b[1;32m----> 7\u001b[1;33m         \u001b[0moutputs\u001b[0m \u001b[1;33m=\u001b[0m \u001b[0mtorch\u001b[0m\u001b[1;33m.\u001b[0m\u001b[0msigmoid\u001b[0m\u001b[1;33m(\u001b[0m\u001b[0mself\u001b[0m\u001b[1;33m.\u001b[0m\u001b[0mlinear\u001b[0m\u001b[1;33m(\u001b[0m\u001b[0mx\u001b[0m\u001b[1;33m)\u001b[0m\u001b[1;33m)\u001b[0m\u001b[1;33m\u001b[0m\u001b[1;33m\u001b[0m\u001b[0m\n\u001b[0m\u001b[0;32m      8\u001b[0m         \u001b[1;32mreturn\u001b[0m \u001b[0moutputs\u001b[0m\u001b[1;33m\u001b[0m\u001b[1;33m\u001b[0m\u001b[0m\n\u001b[0;32m      9\u001b[0m \u001b[1;33m\u001b[0m\u001b[0m\n",
      "\u001b[1;32mC:\\ProgramData\\Anaconda3\\lib\\site-packages\\torch\\nn\\modules\\module.py\u001b[0m in \u001b[0;36m_call_impl\u001b[1;34m(self, *input, **kwargs)\u001b[0m\n\u001b[0;32m   1100\u001b[0m         if not (self._backward_hooks or self._forward_hooks or self._forward_pre_hooks or _global_backward_hooks\n\u001b[0;32m   1101\u001b[0m                 or _global_forward_hooks or _global_forward_pre_hooks):\n\u001b[1;32m-> 1102\u001b[1;33m             \u001b[1;32mreturn\u001b[0m \u001b[0mforward_call\u001b[0m\u001b[1;33m(\u001b[0m\u001b[1;33m*\u001b[0m\u001b[0minput\u001b[0m\u001b[1;33m,\u001b[0m \u001b[1;33m**\u001b[0m\u001b[0mkwargs\u001b[0m\u001b[1;33m)\u001b[0m\u001b[1;33m\u001b[0m\u001b[1;33m\u001b[0m\u001b[0m\n\u001b[0m\u001b[0;32m   1103\u001b[0m         \u001b[1;31m# Do not call functions when jit is used\u001b[0m\u001b[1;33m\u001b[0m\u001b[1;33m\u001b[0m\u001b[1;33m\u001b[0m\u001b[0m\n\u001b[0;32m   1104\u001b[0m         \u001b[0mfull_backward_hooks\u001b[0m\u001b[1;33m,\u001b[0m \u001b[0mnon_full_backward_hooks\u001b[0m \u001b[1;33m=\u001b[0m \u001b[1;33m[\u001b[0m\u001b[1;33m]\u001b[0m\u001b[1;33m,\u001b[0m \u001b[1;33m[\u001b[0m\u001b[1;33m]\u001b[0m\u001b[1;33m\u001b[0m\u001b[1;33m\u001b[0m\u001b[0m\n",
      "\u001b[1;32mC:\\ProgramData\\Anaconda3\\lib\\site-packages\\torch\\nn\\modules\\linear.py\u001b[0m in \u001b[0;36mforward\u001b[1;34m(self, input)\u001b[0m\n\u001b[0;32m    101\u001b[0m \u001b[1;33m\u001b[0m\u001b[0m\n\u001b[0;32m    102\u001b[0m     \u001b[1;32mdef\u001b[0m \u001b[0mforward\u001b[0m\u001b[1;33m(\u001b[0m\u001b[0mself\u001b[0m\u001b[1;33m,\u001b[0m \u001b[0minput\u001b[0m\u001b[1;33m:\u001b[0m \u001b[0mTensor\u001b[0m\u001b[1;33m)\u001b[0m \u001b[1;33m->\u001b[0m \u001b[0mTensor\u001b[0m\u001b[1;33m:\u001b[0m\u001b[1;33m\u001b[0m\u001b[1;33m\u001b[0m\u001b[0m\n\u001b[1;32m--> 103\u001b[1;33m         \u001b[1;32mreturn\u001b[0m \u001b[0mF\u001b[0m\u001b[1;33m.\u001b[0m\u001b[0mlinear\u001b[0m\u001b[1;33m(\u001b[0m\u001b[0minput\u001b[0m\u001b[1;33m,\u001b[0m \u001b[0mself\u001b[0m\u001b[1;33m.\u001b[0m\u001b[0mweight\u001b[0m\u001b[1;33m,\u001b[0m \u001b[0mself\u001b[0m\u001b[1;33m.\u001b[0m\u001b[0mbias\u001b[0m\u001b[1;33m)\u001b[0m\u001b[1;33m\u001b[0m\u001b[1;33m\u001b[0m\u001b[0m\n\u001b[0m\u001b[0;32m    104\u001b[0m \u001b[1;33m\u001b[0m\u001b[0m\n\u001b[0;32m    105\u001b[0m     \u001b[1;32mdef\u001b[0m \u001b[0mextra_repr\u001b[0m\u001b[1;33m(\u001b[0m\u001b[0mself\u001b[0m\u001b[1;33m)\u001b[0m \u001b[1;33m->\u001b[0m \u001b[0mstr\u001b[0m\u001b[1;33m:\u001b[0m\u001b[1;33m\u001b[0m\u001b[1;33m\u001b[0m\u001b[0m\n",
      "\u001b[1;32mC:\\ProgramData\\Anaconda3\\lib\\site-packages\\torch\\nn\\functional.py\u001b[0m in \u001b[0;36mlinear\u001b[1;34m(input, weight, bias)\u001b[0m\n\u001b[0;32m   1846\u001b[0m     \u001b[1;32mif\u001b[0m \u001b[0mhas_torch_function_variadic\u001b[0m\u001b[1;33m(\u001b[0m\u001b[0minput\u001b[0m\u001b[1;33m,\u001b[0m \u001b[0mweight\u001b[0m\u001b[1;33m,\u001b[0m \u001b[0mbias\u001b[0m\u001b[1;33m)\u001b[0m\u001b[1;33m:\u001b[0m\u001b[1;33m\u001b[0m\u001b[1;33m\u001b[0m\u001b[0m\n\u001b[0;32m   1847\u001b[0m         \u001b[1;32mreturn\u001b[0m \u001b[0mhandle_torch_function\u001b[0m\u001b[1;33m(\u001b[0m\u001b[0mlinear\u001b[0m\u001b[1;33m,\u001b[0m \u001b[1;33m(\u001b[0m\u001b[0minput\u001b[0m\u001b[1;33m,\u001b[0m \u001b[0mweight\u001b[0m\u001b[1;33m,\u001b[0m \u001b[0mbias\u001b[0m\u001b[1;33m)\u001b[0m\u001b[1;33m,\u001b[0m \u001b[0minput\u001b[0m\u001b[1;33m,\u001b[0m \u001b[0mweight\u001b[0m\u001b[1;33m,\u001b[0m \u001b[0mbias\u001b[0m\u001b[1;33m=\u001b[0m\u001b[0mbias\u001b[0m\u001b[1;33m)\u001b[0m\u001b[1;33m\u001b[0m\u001b[1;33m\u001b[0m\u001b[0m\n\u001b[1;32m-> 1848\u001b[1;33m     \u001b[1;32mreturn\u001b[0m \u001b[0mtorch\u001b[0m\u001b[1;33m.\u001b[0m\u001b[0m_C\u001b[0m\u001b[1;33m.\u001b[0m\u001b[0m_nn\u001b[0m\u001b[1;33m.\u001b[0m\u001b[0mlinear\u001b[0m\u001b[1;33m(\u001b[0m\u001b[0minput\u001b[0m\u001b[1;33m,\u001b[0m \u001b[0mweight\u001b[0m\u001b[1;33m,\u001b[0m \u001b[0mbias\u001b[0m\u001b[1;33m)\u001b[0m\u001b[1;33m\u001b[0m\u001b[1;33m\u001b[0m\u001b[0m\n\u001b[0m\u001b[0;32m   1849\u001b[0m \u001b[1;33m\u001b[0m\u001b[0m\n\u001b[0;32m   1850\u001b[0m \u001b[1;33m\u001b[0m\u001b[0m\n",
      "\u001b[1;31mKeyboardInterrupt\u001b[0m: "
     ]
    }
   ],
   "source": [
    "model = LogisticRegression(input_dim, output_dim)\n",
    "criterion = nn.BCELoss()\n",
    "optimizer = optim.SGD(model.parameters(), lr=0.05)\n",
    "\n",
    "loss_2 = []\n",
    "f1_2   = []\n",
    "\n",
    "#Training Data\n",
    "for epoch in range(5):\n",
    "    print(f\"Epoch: {epoch + 1}\")\n",
    "        \n",
    "    running_loss = 0.0\n",
    "    for i in tqdm(range(len(sparse_tensor_train))):\n",
    "\n",
    "        model.train()\n",
    "        optimizer.zero_grad()\n",
    "\n",
    "        #forward pass\n",
    "        predictions = model(sparse_tensor_train[i]).squeeze()\n",
    "\n",
    "        #compute loss\n",
    "        loss = criterion(predictions, y_train[i])\n",
    "        running_loss += loss.detach()\n",
    "\n",
    "        #backward pass\n",
    "        loss.backward()\n",
    "        optimizer.step()\n",
    "        \n",
    "        if i % 1000 == 999:\n",
    "            loss_2.append(running_loss)\n",
    "            running_loss = 0.0\n",
    "\n",
    "            model.eval()\n",
    "\n",
    "            #Development Data       \n",
    "            predictions = model(sparse_tensor_dev).squeeze()\n",
    "            f1_2.append(F1_score(y_dev, predictions))"
   ]
  },
  {
   "cell_type": "code",
   "execution_count": null,
   "metadata": {
    "scrolled": false
   },
   "outputs": [],
   "source": [
    "#Loss Scores\n",
    "x = np.arange(0, len(torch.Tensor(loss_2)))\n",
    "y = torch.Tensor(loss_2)\n",
    "\n",
    "sns.lineplot(x=x, y=y)"
   ]
  },
  {
   "cell_type": "code",
   "execution_count": null,
   "metadata": {},
   "outputs": [],
   "source": [
    "#F1 Scores\n",
    "x = np.arange(0, len(torch.Tensor(f1_2)))\n",
    "y = torch.Tensor(f1_2)\n",
    "\n",
    "sns.lineplot(x=x, y=y)"
   ]
  },
  {
   "cell_type": "markdown",
   "metadata": {},
   "source": [
    "Step 3\n",
    "\n",
    "In a few sentences, describe what you see: What effect does L2 have on\n",
    "the convergence speed and overall model performance?\n",
    "\n",
    "(answer): While it's unclear from my results below how L2 rates affect convergence and model performance, research (https://medium.com/deep-learning-experiments/science-behind-regularization-in-neural-net-training-9a3e0529ab80) on this revealed that a weight_decay of 0 increases training accuracy much more quickly, whereas 0.001 and 0.1 are similarly, slighly slower. "
   ]
  },
  {
   "cell_type": "code",
   "execution_count": 68,
   "metadata": {},
   "outputs": [
    {
     "name": "stderr",
     "output_type": "stream",
     "text": [
      "  0%|          | 4/10000 [00:00<04:47, 34.77it/s]"
     ]
    },
    {
     "name": "stdout",
     "output_type": "stream",
     "text": [
      "Regularization: 0\n",
      "Epoch: 1\n"
     ]
    },
    {
     "name": "stderr",
     "output_type": "stream",
     "text": [
      "100%|██████████| 10000/10000 [06:35<00:00, 25.27it/s]\n",
      "  0%|          | 3/10000 [00:00<07:00, 23.80it/s]"
     ]
    },
    {
     "name": "stdout",
     "output_type": "stream",
     "text": [
      "Regularization: 0.001\n",
      "Epoch: 1\n"
     ]
    },
    {
     "name": "stderr",
     "output_type": "stream",
     "text": [
      "100%|██████████| 10000/10000 [06:02<00:00, 27.58it/s]\n",
      "  0%|          | 3/10000 [00:00<05:58, 27.85it/s]"
     ]
    },
    {
     "name": "stdout",
     "output_type": "stream",
     "text": [
      "Regularization: 0.1\n",
      "Epoch: 1\n"
     ]
    },
    {
     "name": "stderr",
     "output_type": "stream",
     "text": [
      "100%|██████████| 10000/10000 [06:16<00:00, 26.56it/s]\n"
     ]
    }
   ],
   "source": [
    "reg_rates = [0, 0.001, 0.1]\n",
    "\n",
    "loss_3 = []\n",
    "f1_3   = []\n",
    "\n",
    "#Training Data\n",
    "for r in reg_rates:\n",
    "    \n",
    "    print(f\"Regularization: {r}\")    \n",
    "    model = LogisticRegression(input_dim, output_dim)\n",
    "    criterion = nn.BCELoss()\n",
    "    optimizer = optim.SGD(model.parameters(), lr=0.05, weight_decay=r)\n",
    "    \n",
    "    sublist_loss = []\n",
    "    sublist_f1   = []\n",
    "\n",
    "    for epoch in range(1):\n",
    "        print(f\"Epoch: {epoch + 1}\")\n",
    "\n",
    "        running_loss = 0.0\n",
    "        \n",
    "        for i in tqdm(range(10000)):\n",
    "#         for i in tqdm(range(len(sparse_tensor_train))):\n",
    "            model.train()\n",
    "            optimizer.zero_grad()\n",
    "            predictions = model(sparse_tensor_train[i]).squeeze()\n",
    "            loss = criterion(predictions, y_train[i])\n",
    "            running_loss += loss.detach()\n",
    "            loss.backward()\n",
    "            optimizer.step()\n",
    "            \n",
    "            if i % 1000 == 999:\n",
    "                sublist_loss.append(running_loss)\n",
    "                running_loss = 0.0\n",
    "                model.eval()\n",
    "                predictions = model(sparse_tensor_dev).squeeze()\n",
    "                sublist_f1.append(F1_score(y_dev, predictions))\n",
    "    \n",
    "    loss_3.append(sublist_loss)\n",
    "    f1_3.append(sublist_f1)"
   ]
  },
  {
   "cell_type": "code",
   "execution_count": 69,
   "metadata": {},
   "outputs": [
    {
     "data": {
      "text/plain": [
       "<matplotlib.legend.Legend at 0x2a050076c70>"
      ]
     },
     "execution_count": 69,
     "metadata": {},
     "output_type": "execute_result"
    },
    {
     "data": {
      "image/png": "[encoded data removed]",
      "text/plain": [
       "<Figure size 432x288 with 1 Axes>"
      ]
     },
     "metadata": {
      "needs_background": "light"
     },
     "output_type": "display_data"
    }
   ],
   "source": [
    "#Loss Scores\n",
    "for l in loss_3:\n",
    "    sns.lineplot(x=np.arange(0, len(torch.Tensor(l))), y=torch.Tensor(l))\n",
    "plt.legend(labels=[\"0\", \"0.001\", \"0.1\"])"
   ]
  },
  {
   "cell_type": "code",
   "execution_count": 70,
   "metadata": {},
   "outputs": [
    {
     "data": {
      "text/plain": [
       "<matplotlib.legend.Legend at 0x2a04b1fceb0>"
      ]
     },
     "execution_count": 70,
     "metadata": {},
     "output_type": "execute_result"
    },
    {
     "data": {
      "image/png": "[encoded data removed]",
      "text/plain": [
       "<Figure size 432x288 with 1 Axes>"
      ]
     },
     "metadata": {
      "needs_background": "light"
     },
     "output_type": "display_data"
    }
   ],
   "source": [
    "#F1 Scores\n",
    "for f in f1_3:\n",
    "    sns.lineplot(x=np.arange(0, len(torch.Tensor(f))), y=torch.Tensor(f))    \n",
    "plt.legend(labels=[\"0\", \"0.001\", \"0.1\"])"
   ]
  },
  {
   "cell_type": "markdown",
   "metadata": {},
   "source": [
    "Step 4\n",
    "\n",
    "In a few sentences, describe what you see: What effect does the choice in optimizer have on the convergence speed and overall\n",
    "model performance?\n",
    "\n",
    "(answer): The code below reveals a consistently higher loss rate RMSprop over AdamW, but AdamW reported higher F1 scores. The  loss rates appear to be misleading as they don't really change over time. AdamW's higher F1 scores indicate better model performance"
   ]
  },
  {
   "cell_type": "code",
   "execution_count": 82,
   "metadata": {},
   "outputs": [
    {
     "name": "stderr",
     "output_type": "stream",
     "text": [
      "100%|██████████| 30000/30000 [13:56<00:00, 35.84it/s]\n",
      "100%|██████████| 30000/30000 [15:17<00:00, 32.71it/s]\n"
     ]
    }
   ],
   "source": [
    "loss_4 = []\n",
    "f1_4   = []\n",
    "\n",
    "#Training Data\n",
    "optimizers = [\n",
    "    optim.RMSprop(model.parameters(), lr=0.05), \n",
    "    optim.AdamW(model.parameters(), lr=0.05)\n",
    "]\n",
    "\n",
    "#Training Data\n",
    "for o in optimizers:\n",
    "    model = LogisticRegression(input_dim, output_dim)\n",
    "    criterion = nn.BCELoss()\n",
    "    optimizer = o\n",
    "    \n",
    "    sublist_loss = []\n",
    "    sublist_f1   = []\n",
    "    \n",
    "    running_loss = 0.0\n",
    "\n",
    "    for epoch in range(1):\n",
    "        for i in tqdm(range(30000)): #len(sparse_tensor_train)\n",
    "            model.train()\n",
    "            optimizer.zero_grad()\n",
    "            predictions = model(sparse_tensor_train[i]).squeeze()\n",
    "            loss = criterion(predictions, y_train[i])\n",
    "            running_loss += loss.detach()\n",
    "            loss.backward()\n",
    "            optimizer.step()\n",
    "    \n",
    "            if i % 1000 == 999:        \n",
    "                sublist_loss.append(running_loss)\n",
    "                running_loss = 0.0\n",
    "                model.eval()\n",
    "                predictions = model(sparse_tensor_dev).squeeze()\n",
    "                sublist_f1.append(F1_score(y_dev, predictions))\n",
    "    \n",
    "    loss_4.append(sublist_loss)\n",
    "    f1_4.append(sublist_f1)"
   ]
  },
  {
   "cell_type": "code",
   "execution_count": 83,
   "metadata": {},
   "outputs": [
    {
     "data": {
      "text/plain": [
       "<matplotlib.legend.Legend at 0x2a050470310>"
      ]
     },
     "execution_count": 83,
     "metadata": {},
     "output_type": "execute_result"
    },
    {
     "data": {
      "image/png": "[encoded data removed]",
      "text/plain": [
       "<Figure size 432x288 with 1 Axes>"
      ]
     },
     "metadata": {
      "needs_background": "light"
     },
     "output_type": "display_data"
    }
   ],
   "source": [
    "#Loss Scores\n",
    "for l in loss_4:\n",
    "    sns.lineplot(x=np.arange(0, len(torch.Tensor(l))), y=torch.Tensor(l))\n",
    "plt.legend(labels=[\"RMSprop\", \"AdamW\"])"
   ]
  },
  {
   "cell_type": "code",
   "execution_count": 84,
   "metadata": {},
   "outputs": [
    {
     "data": {
      "text/plain": [
       "<matplotlib.legend.Legend at 0x2a0503182b0>"
      ]
     },
     "execution_count": 84,
     "metadata": {},
     "output_type": "execute_result"
    },
    {
     "data": {
      "image/png": "[encoded data removed]",
      "text/plain": [
       "<Figure size 432x288 with 1 Axes>"
      ]
     },
     "metadata": {
      "needs_background": "light"
     },
     "output_type": "display_data"
    }
   ],
   "source": [
    "#F1 Scores\n",
    "for f in f1_4:\n",
    "    sns.lineplot(x=np.arange(0, len(torch.Tensor(f))), y=torch.Tensor(f))    \n",
    "plt.legend(labels=[\"RMSprop\", \"AdamW\"])"
   ]
  },
  {
   "cell_type": "markdown",
   "metadata": {},
   "source": [
    "Step 7\n",
    "\n",
    "Training the best model and preparing the results for the Kaggle submission"
   ]
  },
  {
   "cell_type": "code",
   "execution_count": 47,
   "metadata": {},
   "outputs": [],
   "source": [
    "test = pd.read_csv('test.csv')"
   ]
  },
  {
   "cell_type": "code",
   "execution_count": 48,
   "metadata": {
    "scrolled": true
   },
   "outputs": [
    {
     "name": "stderr",
     "output_type": "stream",
     "text": [
      "  0%|          | 1/59999 [00:00<1:49:34,  9.13it/s]"
     ]
    },
    {
     "name": "stdout",
     "output_type": "stream",
     "text": [
      "Epoch: 1\n"
     ]
    },
    {
     "name": "stderr",
     "output_type": "stream",
     "text": [
      "  2%|▏         | 1003/59999 [00:23<23:19, 42.17it/s]"
     ]
    },
    {
     "name": "stdout",
     "output_type": "stream",
     "text": [
      "tensor(0., grad_fn=<BinaryCrossEntropyBackward0>)\n"
     ]
    },
    {
     "name": "stderr",
     "output_type": "stream",
     "text": [
      "  3%|▎         | 2006/59999 [00:46<23:55, 40.41it/s]"
     ]
    },
    {
     "name": "stdout",
     "output_type": "stream",
     "text": [
      "tensor(0., grad_fn=<BinaryCrossEntropyBackward0>)\n"
     ]
    },
    {
     "name": "stderr",
     "output_type": "stream",
     "text": [
      "  5%|▌         | 3005/59999 [01:09<24:07, 39.37it/s]"
     ]
    },
    {
     "name": "stdout",
     "output_type": "stream",
     "text": [
      "tensor(0., grad_fn=<BinaryCrossEntropyBackward0>)\n"
     ]
    },
    {
     "name": "stderr",
     "output_type": "stream",
     "text": [
      "  7%|▋         | 4009/59999 [01:37<26:55, 34.66it/s]"
     ]
    },
    {
     "name": "stdout",
     "output_type": "stream",
     "text": [
      "tensor(0., grad_fn=<BinaryCrossEntropyBackward0>)\n"
     ]
    },
    {
     "name": "stderr",
     "output_type": "stream",
     "text": [
      "  8%|▊         | 5005/59999 [02:04<23:10, 39.54it/s]"
     ]
    },
    {
     "name": "stdout",
     "output_type": "stream",
     "text": [
      "tensor(100., grad_fn=<BinaryCrossEntropyBackward0>)\n"
     ]
    },
    {
     "name": "stderr",
     "output_type": "stream",
     "text": [
      " 10%|█         | 6008/59999 [02:29<20:49, 43.20it/s]"
     ]
    },
    {
     "name": "stdout",
     "output_type": "stream",
     "text": [
      "tensor(0., grad_fn=<BinaryCrossEntropyBackward0>)\n"
     ]
    },
    {
     "name": "stderr",
     "output_type": "stream",
     "text": [
      " 12%|█▏        | 7006/59999 [02:53<24:34, 35.95it/s]"
     ]
    },
    {
     "name": "stdout",
     "output_type": "stream",
     "text": [
      "tensor(0., grad_fn=<BinaryCrossEntropyBackward0>)\n"
     ]
    },
    {
     "name": "stderr",
     "output_type": "stream",
     "text": [
      " 13%|█▎        | 8004/59999 [03:19<22:50, 37.95it/s]"
     ]
    },
    {
     "name": "stdout",
     "output_type": "stream",
     "text": [
      "tensor(0., grad_fn=<BinaryCrossEntropyBackward0>)\n"
     ]
    },
    {
     "name": "stderr",
     "output_type": "stream",
     "text": [
      " 15%|█▌        | 9008/59999 [03:45<20:25, 41.62it/s]"
     ]
    },
    {
     "name": "stdout",
     "output_type": "stream",
     "text": [
      "tensor(0., grad_fn=<BinaryCrossEntropyBackward0>)\n"
     ]
    },
    {
     "name": "stderr",
     "output_type": "stream",
     "text": [
      " 17%|█▋        | 10007/59999 [04:11<21:25, 38.89it/s]"
     ]
    },
    {
     "name": "stdout",
     "output_type": "stream",
     "text": [
      "tensor(100., grad_fn=<BinaryCrossEntropyBackward0>)\n"
     ]
    },
    {
     "name": "stderr",
     "output_type": "stream",
     "text": [
      " 18%|█▊        | 11003/59999 [04:36<20:44, 39.35it/s]"
     ]
    },
    {
     "name": "stdout",
     "output_type": "stream",
     "text": [
      "tensor(0., grad_fn=<BinaryCrossEntropyBackward0>)\n"
     ]
    },
    {
     "name": "stderr",
     "output_type": "stream",
     "text": [
      " 20%|██        | 12004/59999 [05:01<20:49, 38.42it/s]"
     ]
    },
    {
     "name": "stdout",
     "output_type": "stream",
     "text": [
      "tensor(0., grad_fn=<BinaryCrossEntropyBackward0>)\n"
     ]
    },
    {
     "name": "stderr",
     "output_type": "stream",
     "text": [
      " 22%|██▏       | 13005/59999 [05:27<20:21, 38.46it/s]"
     ]
    },
    {
     "name": "stdout",
     "output_type": "stream",
     "text": [
      "tensor(100., grad_fn=<BinaryCrossEntropyBackward0>)\n"
     ]
    },
    {
     "name": "stderr",
     "output_type": "stream",
     "text": [
      " 23%|██▎       | 14004/59999 [05:52<18:33, 41.32it/s]"
     ]
    },
    {
     "name": "stdout",
     "output_type": "stream",
     "text": [
      "tensor(0., grad_fn=<BinaryCrossEntropyBackward0>)\n"
     ]
    },
    {
     "name": "stderr",
     "output_type": "stream",
     "text": [
      " 25%|██▌       | 15005/59999 [06:18<20:46, 36.08it/s]"
     ]
    },
    {
     "name": "stdout",
     "output_type": "stream",
     "text": [
      "tensor(0., grad_fn=<BinaryCrossEntropyBackward0>)\n"
     ]
    },
    {
     "name": "stderr",
     "output_type": "stream",
     "text": [
      " 27%|██▋       | 16008/59999 [06:43<16:15, 45.08it/s]"
     ]
    },
    {
     "name": "stdout",
     "output_type": "stream",
     "text": [
      "tensor(0., grad_fn=<BinaryCrossEntropyBackward0>)\n"
     ]
    },
    {
     "name": "stderr",
     "output_type": "stream",
     "text": [
      " 28%|██▊       | 17009/59999 [07:08<15:53, 45.09it/s]"
     ]
    },
    {
     "name": "stdout",
     "output_type": "stream",
     "text": [
      "tensor(0., grad_fn=<BinaryCrossEntropyBackward0>)\n"
     ]
    },
    {
     "name": "stderr",
     "output_type": "stream",
     "text": [
      " 30%|███       | 18003/59999 [07:33<22:16, 31.43it/s]"
     ]
    },
    {
     "name": "stdout",
     "output_type": "stream",
     "text": [
      "tensor(0., grad_fn=<BinaryCrossEntropyBackward0>)\n"
     ]
    },
    {
     "name": "stderr",
     "output_type": "stream",
     "text": [
      " 32%|███▏      | 19010/59999 [07:56<13:28, 50.71it/s]"
     ]
    },
    {
     "name": "stdout",
     "output_type": "stream",
     "text": [
      "tensor(0., grad_fn=<BinaryCrossEntropyBackward0>)\n"
     ]
    },
    {
     "name": "stderr",
     "output_type": "stream",
     "text": [
      " 33%|███▎      | 20006/59999 [08:21<15:49, 42.13it/s]"
     ]
    },
    {
     "name": "stdout",
     "output_type": "stream",
     "text": [
      "tensor(0., grad_fn=<BinaryCrossEntropyBackward0>)\n"
     ]
    },
    {
     "name": "stderr",
     "output_type": "stream",
     "text": [
      " 35%|███▌      | 21009/59999 [08:45<15:43, 41.31it/s]"
     ]
    },
    {
     "name": "stdout",
     "output_type": "stream",
     "text": [
      "tensor(0., grad_fn=<BinaryCrossEntropyBackward0>)\n"
     ]
    },
    {
     "name": "stderr",
     "output_type": "stream",
     "text": [
      " 37%|███▋      | 22005/59999 [09:10<16:48, 37.67it/s]"
     ]
    },
    {
     "name": "stdout",
     "output_type": "stream",
     "text": [
      "tensor(0., grad_fn=<BinaryCrossEntropyBackward0>)\n"
     ]
    },
    {
     "name": "stderr",
     "output_type": "stream",
     "text": [
      " 38%|███▊      | 23003/59999 [09:35<18:21, 33.58it/s]"
     ]
    },
    {
     "name": "stdout",
     "output_type": "stream",
     "text": [
      "tensor(0., grad_fn=<BinaryCrossEntropyBackward0>)\n"
     ]
    },
    {
     "name": "stderr",
     "output_type": "stream",
     "text": [
      " 40%|████      | 24003/59999 [09:59<18:02, 33.27it/s]"
     ]
    },
    {
     "name": "stdout",
     "output_type": "stream",
     "text": [
      "tensor(0., grad_fn=<BinaryCrossEntropyBackward0>)\n"
     ]
    },
    {
     "name": "stderr",
     "output_type": "stream",
     "text": [
      " 42%|████▏     | 25007/59999 [10:23<12:59, 44.91it/s]"
     ]
    },
    {
     "name": "stdout",
     "output_type": "stream",
     "text": [
      "tensor(100., grad_fn=<BinaryCrossEntropyBackward0>)\n"
     ]
    },
    {
     "name": "stderr",
     "output_type": "stream",
     "text": [
      " 43%|████▎     | 26006/59999 [10:46<13:31, 41.88it/s]"
     ]
    },
    {
     "name": "stdout",
     "output_type": "stream",
     "text": [
      "tensor(0., grad_fn=<BinaryCrossEntropyBackward0>)\n"
     ]
    },
    {
     "name": "stderr",
     "output_type": "stream",
     "text": [
      " 45%|████▌     | 27003/59999 [11:12<15:20, 35.84it/s]"
     ]
    },
    {
     "name": "stdout",
     "output_type": "stream",
     "text": [
      "tensor(0., grad_fn=<BinaryCrossEntropyBackward0>)\n"
     ]
    },
    {
     "name": "stderr",
     "output_type": "stream",
     "text": [
      " 47%|████▋     | 28005/59999 [11:36<10:46, 49.52it/s]"
     ]
    },
    {
     "name": "stdout",
     "output_type": "stream",
     "text": [
      "tensor(0., grad_fn=<BinaryCrossEntropyBackward0>)\n"
     ]
    },
    {
     "name": "stderr",
     "output_type": "stream",
     "text": [
      " 48%|████▊     | 29005/59999 [12:01<12:42, 40.65it/s]"
     ]
    },
    {
     "name": "stdout",
     "output_type": "stream",
     "text": [
      "tensor(0., grad_fn=<BinaryCrossEntropyBackward0>)\n"
     ]
    },
    {
     "name": "stderr",
     "output_type": "stream",
     "text": [
      " 50%|█████     | 30008/59999 [12:25<09:56, 50.30it/s]"
     ]
    },
    {
     "name": "stdout",
     "output_type": "stream",
     "text": [
      "tensor(0., grad_fn=<BinaryCrossEntropyBackward0>)\n"
     ]
    },
    {
     "name": "stderr",
     "output_type": "stream",
     "text": [
      " 52%|█████▏    | 31002/59999 [12:50<10:58, 44.04it/s]"
     ]
    },
    {
     "name": "stdout",
     "output_type": "stream",
     "text": [
      "tensor(0., grad_fn=<BinaryCrossEntropyBackward0>)\n"
     ]
    },
    {
     "name": "stderr",
     "output_type": "stream",
     "text": [
      " 53%|█████▎    | 32006/59999 [13:14<11:04, 42.12it/s]"
     ]
    },
    {
     "name": "stdout",
     "output_type": "stream",
     "text": [
      "tensor(0., grad_fn=<BinaryCrossEntropyBackward0>)\n"
     ]
    },
    {
     "name": "stderr",
     "output_type": "stream",
     "text": [
      " 55%|█████▌    | 33006/59999 [13:39<11:18, 39.78it/s]"
     ]
    },
    {
     "name": "stdout",
     "output_type": "stream",
     "text": [
      "tensor(0., grad_fn=<BinaryCrossEntropyBackward0>)\n"
     ]
    },
    {
     "name": "stderr",
     "output_type": "stream",
     "text": [
      " 57%|█████▋    | 34008/59999 [14:05<10:16, 42.13it/s]"
     ]
    },
    {
     "name": "stdout",
     "output_type": "stream",
     "text": [
      "tensor(0., grad_fn=<BinaryCrossEntropyBackward0>)\n"
     ]
    },
    {
     "name": "stderr",
     "output_type": "stream",
     "text": [
      " 58%|█████▊    | 35003/59999 [14:30<09:58, 41.75it/s]"
     ]
    },
    {
     "name": "stdout",
     "output_type": "stream",
     "text": [
      "tensor(34.8895, grad_fn=<BinaryCrossEntropyBackward0>)\n"
     ]
    },
    {
     "name": "stderr",
     "output_type": "stream",
     "text": [
      " 60%|██████    | 36004/59999 [14:55<15:57, 25.07it/s]"
     ]
    },
    {
     "name": "stdout",
     "output_type": "stream",
     "text": [
      "tensor(0., grad_fn=<BinaryCrossEntropyBackward0>)\n"
     ]
    },
    {
     "name": "stderr",
     "output_type": "stream",
     "text": [
      " 62%|██████▏   | 37006/59999 [15:26<11:26, 33.50it/s]"
     ]
    },
    {
     "name": "stdout",
     "output_type": "stream",
     "text": [
      "tensor(0., grad_fn=<BinaryCrossEntropyBackward0>)\n"
     ]
    },
    {
     "name": "stderr",
     "output_type": "stream",
     "text": [
      " 63%|██████▎   | 38004/59999 [15:56<15:51, 23.11it/s]"
     ]
    },
    {
     "name": "stdout",
     "output_type": "stream",
     "text": [
      "tensor(0., grad_fn=<BinaryCrossEntropyBackward0>)\n"
     ]
    },
    {
     "name": "stderr",
     "output_type": "stream",
     "text": [
      " 65%|██████▌   | 39008/59999 [16:25<08:14, 42.42it/s]"
     ]
    },
    {
     "name": "stdout",
     "output_type": "stream",
     "text": [
      "tensor(0., grad_fn=<BinaryCrossEntropyBackward0>)\n"
     ]
    },
    {
     "name": "stderr",
     "output_type": "stream",
     "text": [
      " 67%|██████▋   | 40007/59999 [16:53<09:34, 34.80it/s]"
     ]
    },
    {
     "name": "stdout",
     "output_type": "stream",
     "text": [
      "tensor(0., grad_fn=<BinaryCrossEntropyBackward0>)\n"
     ]
    },
    {
     "name": "stderr",
     "output_type": "stream",
     "text": [
      " 68%|██████▊   | 41003/59999 [17:24<09:31, 33.23it/s]"
     ]
    },
    {
     "name": "stdout",
     "output_type": "stream",
     "text": [
      "tensor(0., grad_fn=<BinaryCrossEntropyBackward0>)\n"
     ]
    },
    {
     "name": "stderr",
     "output_type": "stream",
     "text": [
      " 70%|███████   | 42006/59999 [17:55<07:38, 39.27it/s]"
     ]
    },
    {
     "name": "stdout",
     "output_type": "stream",
     "text": [
      "tensor(14.1449, grad_fn=<BinaryCrossEntropyBackward0>)\n"
     ]
    },
    {
     "name": "stderr",
     "output_type": "stream",
     "text": [
      " 72%|███████▏  | 43004/59999 [18:20<07:56, 35.66it/s]"
     ]
    },
    {
     "name": "stdout",
     "output_type": "stream",
     "text": [
      "tensor(0., grad_fn=<BinaryCrossEntropyBackward0>)\n"
     ]
    },
    {
     "name": "stderr",
     "output_type": "stream",
     "text": [
      " 73%|███████▎  | 44005/59999 [18:45<07:14, 36.81it/s]"
     ]
    },
    {
     "name": "stdout",
     "output_type": "stream",
     "text": [
      "tensor(0., grad_fn=<BinaryCrossEntropyBackward0>)\n"
     ]
    },
    {
     "name": "stderr",
     "output_type": "stream",
     "text": [
      " 75%|███████▌  | 45003/59999 [19:11<07:38, 32.72it/s]"
     ]
    },
    {
     "name": "stdout",
     "output_type": "stream",
     "text": [
      "tensor(0., grad_fn=<BinaryCrossEntropyBackward0>)\n"
     ]
    },
    {
     "name": "stderr",
     "output_type": "stream",
     "text": [
      " 77%|███████▋  | 46008/59999 [19:36<05:50, 39.92it/s]"
     ]
    },
    {
     "name": "stdout",
     "output_type": "stream",
     "text": [
      "tensor(0., grad_fn=<BinaryCrossEntropyBackward0>)\n"
     ]
    },
    {
     "name": "stderr",
     "output_type": "stream",
     "text": [
      " 78%|███████▊  | 47008/59999 [20:04<05:06, 42.36it/s]"
     ]
    },
    {
     "name": "stdout",
     "output_type": "stream",
     "text": [
      "tensor(100., grad_fn=<BinaryCrossEntropyBackward0>)\n"
     ]
    },
    {
     "name": "stderr",
     "output_type": "stream",
     "text": [
      " 80%|████████  | 48004/59999 [20:31<06:20, 31.49it/s]"
     ]
    },
    {
     "name": "stdout",
     "output_type": "stream",
     "text": [
      "tensor(0., grad_fn=<BinaryCrossEntropyBackward0>)\n"
     ]
    },
    {
     "name": "stderr",
     "output_type": "stream",
     "text": [
      " 82%|████████▏ | 49005/59999 [20:57<05:17, 34.64it/s]"
     ]
    },
    {
     "name": "stdout",
     "output_type": "stream",
     "text": [
      "tensor(0., grad_fn=<BinaryCrossEntropyBackward0>)\n"
     ]
    },
    {
     "name": "stderr",
     "output_type": "stream",
     "text": [
      " 83%|████████▎ | 49543/59999 [21:21<04:30, 38.67it/s]\n"
     ]
    },
    {
     "ename": "KeyboardInterrupt",
     "evalue": "",
     "output_type": "error",
     "traceback": [
      "\u001b[1;31m---------------------------------------------------------------------------\u001b[0m",
      "\u001b[1;31mKeyboardInterrupt\u001b[0m                         Traceback (most recent call last)",
      "\u001b[1;32m<ipython-input-48-cf738bab3238>\u001b[0m in \u001b[0;36m<module>\u001b[1;34m\u001b[0m\n\u001b[0;32m      9\u001b[0m     \u001b[1;32mfor\u001b[0m \u001b[0mi\u001b[0m \u001b[1;32min\u001b[0m \u001b[0mtqdm\u001b[0m\u001b[1;33m(\u001b[0m\u001b[0mrange\u001b[0m\u001b[1;33m(\u001b[0m\u001b[0mlen\u001b[0m\u001b[1;33m(\u001b[0m\u001b[0msparse_tensor_train\u001b[0m\u001b[1;33m)\u001b[0m\u001b[1;33m)\u001b[0m\u001b[1;33m)\u001b[0m\u001b[1;33m:\u001b[0m\u001b[1;33m\u001b[0m\u001b[1;33m\u001b[0m\u001b[0m\n\u001b[0;32m     10\u001b[0m         \u001b[0moptimizer\u001b[0m\u001b[1;33m.\u001b[0m\u001b[0mzero_grad\u001b[0m\u001b[1;33m(\u001b[0m\u001b[1;33m)\u001b[0m\u001b[1;33m\u001b[0m\u001b[1;33m\u001b[0m\u001b[0m\n\u001b[1;32m---> 11\u001b[1;33m         \u001b[0mpredictions\u001b[0m \u001b[1;33m=\u001b[0m \u001b[0mmodel\u001b[0m\u001b[1;33m(\u001b[0m\u001b[0msparse_tensor_train\u001b[0m\u001b[1;33m[\u001b[0m\u001b[0mi\u001b[0m\u001b[1;33m]\u001b[0m\u001b[1;33m)\u001b[0m\u001b[1;33m.\u001b[0m\u001b[0msqueeze\u001b[0m\u001b[1;33m(\u001b[0m\u001b[1;33m)\u001b[0m\u001b[1;33m\u001b[0m\u001b[1;33m\u001b[0m\u001b[0m\n\u001b[0m\u001b[0;32m     12\u001b[0m         \u001b[0mloss\u001b[0m \u001b[1;33m=\u001b[0m \u001b[0mcriterion\u001b[0m\u001b[1;33m(\u001b[0m\u001b[0mpredictions\u001b[0m\u001b[1;33m,\u001b[0m \u001b[0my_train\u001b[0m\u001b[1;33m[\u001b[0m\u001b[0mi\u001b[0m\u001b[1;33m]\u001b[0m\u001b[1;33m)\u001b[0m\u001b[1;33m\u001b[0m\u001b[1;33m\u001b[0m\u001b[0m\n\u001b[0;32m     13\u001b[0m         \u001b[0mloss\u001b[0m\u001b[1;33m.\u001b[0m\u001b[0mbackward\u001b[0m\u001b[1;33m(\u001b[0m\u001b[1;33m)\u001b[0m\u001b[1;33m\u001b[0m\u001b[1;33m\u001b[0m\u001b[0m\n",
      "\u001b[1;32mC:\\ProgramData\\Anaconda3\\lib\\site-packages\\torch\\nn\\modules\\module.py\u001b[0m in \u001b[0;36m_call_impl\u001b[1;34m(self, *input, **kwargs)\u001b[0m\n\u001b[0;32m   1100\u001b[0m         if not (self._backward_hooks or self._forward_hooks or self._forward_pre_hooks or _global_backward_hooks\n\u001b[0;32m   1101\u001b[0m                 or _global_forward_hooks or _global_forward_pre_hooks):\n\u001b[1;32m-> 1102\u001b[1;33m             \u001b[1;32mreturn\u001b[0m \u001b[0mforward_call\u001b[0m\u001b[1;33m(\u001b[0m\u001b[1;33m*\u001b[0m\u001b[0minput\u001b[0m\u001b[1;33m,\u001b[0m \u001b[1;33m**\u001b[0m\u001b[0mkwargs\u001b[0m\u001b[1;33m)\u001b[0m\u001b[1;33m\u001b[0m\u001b[1;33m\u001b[0m\u001b[0m\n\u001b[0m\u001b[0;32m   1103\u001b[0m         \u001b[1;31m# Do not call functions when jit is used\u001b[0m\u001b[1;33m\u001b[0m\u001b[1;33m\u001b[0m\u001b[1;33m\u001b[0m\u001b[0m\n\u001b[0;32m   1104\u001b[0m         \u001b[0mfull_backward_hooks\u001b[0m\u001b[1;33m,\u001b[0m \u001b[0mnon_full_backward_hooks\u001b[0m \u001b[1;33m=\u001b[0m \u001b[1;33m[\u001b[0m\u001b[1;33m]\u001b[0m\u001b[1;33m,\u001b[0m \u001b[1;33m[\u001b[0m\u001b[1;33m]\u001b[0m\u001b[1;33m\u001b[0m\u001b[1;33m\u001b[0m\u001b[0m\n",
      "\u001b[1;32m<ipython-input-46-d33f2eb04fb8>\u001b[0m in \u001b[0;36mforward\u001b[1;34m(self, x)\u001b[0m\n\u001b[0;32m      5\u001b[0m \u001b[1;33m\u001b[0m\u001b[0m\n\u001b[0;32m      6\u001b[0m     \u001b[1;32mdef\u001b[0m \u001b[0mforward\u001b[0m\u001b[1;33m(\u001b[0m\u001b[0mself\u001b[0m\u001b[1;33m,\u001b[0m \u001b[0mx\u001b[0m\u001b[1;33m)\u001b[0m\u001b[1;33m:\u001b[0m\u001b[1;33m\u001b[0m\u001b[1;33m\u001b[0m\u001b[0m\n\u001b[1;32m----> 7\u001b[1;33m         \u001b[0moutputs\u001b[0m \u001b[1;33m=\u001b[0m \u001b[0mtorch\u001b[0m\u001b[1;33m.\u001b[0m\u001b[0msigmoid\u001b[0m\u001b[1;33m(\u001b[0m\u001b[0mself\u001b[0m\u001b[1;33m.\u001b[0m\u001b[0mlinear\u001b[0m\u001b[1;33m(\u001b[0m\u001b[0mx\u001b[0m\u001b[1;33m)\u001b[0m\u001b[1;33m)\u001b[0m\u001b[1;33m\u001b[0m\u001b[1;33m\u001b[0m\u001b[0m\n\u001b[0m\u001b[0;32m      8\u001b[0m         \u001b[1;32mreturn\u001b[0m \u001b[0moutputs\u001b[0m\u001b[1;33m\u001b[0m\u001b[1;33m\u001b[0m\u001b[0m\n\u001b[0;32m      9\u001b[0m \u001b[1;33m\u001b[0m\u001b[0m\n",
      "\u001b[1;32mC:\\ProgramData\\Anaconda3\\lib\\site-packages\\torch\\nn\\modules\\module.py\u001b[0m in \u001b[0;36m_call_impl\u001b[1;34m(self, *input, **kwargs)\u001b[0m\n\u001b[0;32m   1100\u001b[0m         if not (self._backward_hooks or self._forward_hooks or self._forward_pre_hooks or _global_backward_hooks\n\u001b[0;32m   1101\u001b[0m                 or _global_forward_hooks or _global_forward_pre_hooks):\n\u001b[1;32m-> 1102\u001b[1;33m             \u001b[1;32mreturn\u001b[0m \u001b[0mforward_call\u001b[0m\u001b[1;33m(\u001b[0m\u001b[1;33m*\u001b[0m\u001b[0minput\u001b[0m\u001b[1;33m,\u001b[0m \u001b[1;33m**\u001b[0m\u001b[0mkwargs\u001b[0m\u001b[1;33m)\u001b[0m\u001b[1;33m\u001b[0m\u001b[1;33m\u001b[0m\u001b[0m\n\u001b[0m\u001b[0;32m   1103\u001b[0m         \u001b[1;31m# Do not call functions when jit is used\u001b[0m\u001b[1;33m\u001b[0m\u001b[1;33m\u001b[0m\u001b[1;33m\u001b[0m\u001b[0m\n\u001b[0;32m   1104\u001b[0m         \u001b[0mfull_backward_hooks\u001b[0m\u001b[1;33m,\u001b[0m \u001b[0mnon_full_backward_hooks\u001b[0m \u001b[1;33m=\u001b[0m \u001b[1;33m[\u001b[0m\u001b[1;33m]\u001b[0m\u001b[1;33m,\u001b[0m \u001b[1;33m[\u001b[0m\u001b[1;33m]\u001b[0m\u001b[1;33m\u001b[0m\u001b[1;33m\u001b[0m\u001b[0m\n",
      "\u001b[1;32mC:\\ProgramData\\Anaconda3\\lib\\site-packages\\torch\\nn\\modules\\linear.py\u001b[0m in \u001b[0;36mforward\u001b[1;34m(self, input)\u001b[0m\n\u001b[0;32m    101\u001b[0m \u001b[1;33m\u001b[0m\u001b[0m\n\u001b[0;32m    102\u001b[0m     \u001b[1;32mdef\u001b[0m \u001b[0mforward\u001b[0m\u001b[1;33m(\u001b[0m\u001b[0mself\u001b[0m\u001b[1;33m,\u001b[0m \u001b[0minput\u001b[0m\u001b[1;33m:\u001b[0m \u001b[0mTensor\u001b[0m\u001b[1;33m)\u001b[0m \u001b[1;33m->\u001b[0m \u001b[0mTensor\u001b[0m\u001b[1;33m:\u001b[0m\u001b[1;33m\u001b[0m\u001b[1;33m\u001b[0m\u001b[0m\n\u001b[1;32m--> 103\u001b[1;33m         \u001b[1;32mreturn\u001b[0m \u001b[0mF\u001b[0m\u001b[1;33m.\u001b[0m\u001b[0mlinear\u001b[0m\u001b[1;33m(\u001b[0m\u001b[0minput\u001b[0m\u001b[1;33m,\u001b[0m \u001b[0mself\u001b[0m\u001b[1;33m.\u001b[0m\u001b[0mweight\u001b[0m\u001b[1;33m,\u001b[0m \u001b[0mself\u001b[0m\u001b[1;33m.\u001b[0m\u001b[0mbias\u001b[0m\u001b[1;33m)\u001b[0m\u001b[1;33m\u001b[0m\u001b[1;33m\u001b[0m\u001b[0m\n\u001b[0m\u001b[0;32m    104\u001b[0m \u001b[1;33m\u001b[0m\u001b[0m\n\u001b[0;32m    105\u001b[0m     \u001b[1;32mdef\u001b[0m \u001b[0mextra_repr\u001b[0m\u001b[1;33m(\u001b[0m\u001b[0mself\u001b[0m\u001b[1;33m)\u001b[0m \u001b[1;33m->\u001b[0m \u001b[0mstr\u001b[0m\u001b[1;33m:\u001b[0m\u001b[1;33m\u001b[0m\u001b[1;33m\u001b[0m\u001b[0m\n",
      "\u001b[1;32mC:\\ProgramData\\Anaconda3\\lib\\site-packages\\torch\\nn\\functional.py\u001b[0m in \u001b[0;36mlinear\u001b[1;34m(input, weight, bias)\u001b[0m\n\u001b[0;32m   1846\u001b[0m     \u001b[1;32mif\u001b[0m \u001b[0mhas_torch_function_variadic\u001b[0m\u001b[1;33m(\u001b[0m\u001b[0minput\u001b[0m\u001b[1;33m,\u001b[0m \u001b[0mweight\u001b[0m\u001b[1;33m,\u001b[0m \u001b[0mbias\u001b[0m\u001b[1;33m)\u001b[0m\u001b[1;33m:\u001b[0m\u001b[1;33m\u001b[0m\u001b[1;33m\u001b[0m\u001b[0m\n\u001b[0;32m   1847\u001b[0m         \u001b[1;32mreturn\u001b[0m \u001b[0mhandle_torch_function\u001b[0m\u001b[1;33m(\u001b[0m\u001b[0mlinear\u001b[0m\u001b[1;33m,\u001b[0m \u001b[1;33m(\u001b[0m\u001b[0minput\u001b[0m\u001b[1;33m,\u001b[0m \u001b[0mweight\u001b[0m\u001b[1;33m,\u001b[0m \u001b[0mbias\u001b[0m\u001b[1;33m)\u001b[0m\u001b[1;33m,\u001b[0m \u001b[0minput\u001b[0m\u001b[1;33m,\u001b[0m \u001b[0mweight\u001b[0m\u001b[1;33m,\u001b[0m \u001b[0mbias\u001b[0m\u001b[1;33m=\u001b[0m\u001b[0mbias\u001b[0m\u001b[1;33m)\u001b[0m\u001b[1;33m\u001b[0m\u001b[1;33m\u001b[0m\u001b[0m\n\u001b[1;32m-> 1848\u001b[1;33m     \u001b[1;32mreturn\u001b[0m \u001b[0mtorch\u001b[0m\u001b[1;33m.\u001b[0m\u001b[0m_C\u001b[0m\u001b[1;33m.\u001b[0m\u001b[0m_nn\u001b[0m\u001b[1;33m.\u001b[0m\u001b[0mlinear\u001b[0m\u001b[1;33m(\u001b[0m\u001b[0minput\u001b[0m\u001b[1;33m,\u001b[0m \u001b[0mweight\u001b[0m\u001b[1;33m,\u001b[0m \u001b[0mbias\u001b[0m\u001b[1;33m)\u001b[0m\u001b[1;33m\u001b[0m\u001b[1;33m\u001b[0m\u001b[0m\n\u001b[0m\u001b[0;32m   1849\u001b[0m \u001b[1;33m\u001b[0m\u001b[0m\n\u001b[0;32m   1850\u001b[0m \u001b[1;33m\u001b[0m\u001b[0m\n",
      "\u001b[1;31mKeyboardInterrupt\u001b[0m: "
     ]
    }
   ],
   "source": [
    "model = LogisticRegression(input_dim, output_dim)\n",
    "criterion = nn.BCELoss()\n",
    "optimizer = optim.SGD(model.parameters(), lr=0.05)\n",
    "\n",
    "#Training Data\n",
    "for epoch in range(3):\n",
    "    print(f\"Epoch: {epoch + 1}\")\n",
    "        \n",
    "    for i in tqdm(range(len(sparse_tensor_train))):\n",
    "        optimizer.zero_grad()\n",
    "        predictions = model(sparse_tensor_train[i]).squeeze()\n",
    "        loss = criterion(predictions, y_train[i])\n",
    "        loss.backward()\n",
    "        optimizer.step()\n",
    "        \n",
    "        if i % 1000 == 999:\n",
    "            print(loss)\n",
    "           \n",
    "test_predictions = model(sparse_tensor_test).squeeze()"
   ]
  },
  {
   "cell_type": "code",
   "execution_count": null,
   "metadata": {},
   "outputs": [],
   "source": [
    "test_predictions"
   ]
  },
  {
   "cell_type": "code",
   "execution_count": null,
   "metadata": {},
   "outputs": [],
   "source": [
    "z = test_predictions"
   ]
  },
  {
   "cell_type": "code",
   "execution_count": null,
   "metadata": {},
   "outputs": [],
   "source": [
    "test['outcome'] = np.round(np.array(z.detach()))\n",
    "test['party_affiliation'] = pd.Series(np.where(test['outcome'].values == 1, 'Democratic Party', 'Republican Party'))\n",
    "\n",
    "pytorch_submission_df = test[['uid_email', 'party_affiliation']]\n",
    "pytorch_submission_df"
   ]
  },
  {
   "cell_type": "code",
   "execution_count": null,
   "metadata": {},
   "outputs": [],
   "source": [
    "pytorch_submission_df.to_csv('pytorch_logit_submission.csv', index=False)"
   ]
  }
 ],
 "metadata": {
  "kernelspec": {
   "display_name": "Python 3",
   "language": "python",
   "name": "python3"
  },
  "language_info": {
   "codemirror_mode": {
    "name": "ipython",
    "version": 3
   },
   "file_extension": ".py",
   "mimetype": "text/x-python",
   "name": "python",
   "nbconvert_exporter": "python",
   "pygments_lexer": "ipython3",
   "version": "3.8.5"
  }
 },
 "nbformat": 4,
 "nbformat_minor": 4
}
