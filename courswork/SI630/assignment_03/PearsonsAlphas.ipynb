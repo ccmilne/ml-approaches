{
 "cells": [
  {
   "cell_type": "code",
   "execution_count": 2,
   "id": "27dd7c43-0b86-4a71-95a3-e106480b4210",
   "metadata": {},
   "outputs": [],
   "source": [
    "import krippendorff\n",
    "\n",
    "import pandas as pd\n",
    "import numpy as np"
   ]
  },
  {
   "cell_type": "code",
   "execution_count": 85,
   "id": "fb2857a0-d444-465a-a8ce-72900fd4f86c",
   "metadata": {},
   "outputs": [],
   "source": [
    "df = pd.read_csv('data/group_16_ratings.csv')\n",
    "raw_data = pd.read_csv('data/si630w22-hw3-data.csv')"
   ]
  },
  {
   "cell_type": "code",
   "execution_count": 8,
   "id": "b8a2108b-00d1-4449-985f-9079a410db66",
   "metadata": {},
   "outputs": [
    {
     "data": {
      "text/plain": [
       "Index(['id', 'annotator', 'rating'], dtype='object')"
      ]
     },
     "execution_count": 8,
     "metadata": {},
     "output_type": "execute_result"
    }
   ],
   "source": [
    "df.columns"
   ]
  },
  {
   "cell_type": "code",
   "execution_count": 9,
   "id": "bc6a37ee-3966-42ef-b85b-46da70d255c7",
   "metadata": {},
   "outputs": [
    {
     "data": {
      "text/html": [
       "<div>\n",
       "<style scoped>\n",
       "    .dataframe tbody tr th:only-of-type {\n",
       "        vertical-align: middle;\n",
       "    }\n",
       "\n",
       "    .dataframe tbody tr th {\n",
       "        vertical-align: top;\n",
       "    }\n",
       "\n",
       "    .dataframe thead th {\n",
       "        text-align: right;\n",
       "    }\n",
       "</style>\n",
       "<table border=\"1\" class=\"dataframe\">\n",
       "  <thead>\n",
       "    <tr style=\"text-align: right;\">\n",
       "      <th></th>\n",
       "      <th>id</th>\n",
       "      <th>annotator</th>\n",
       "      <th>rating</th>\n",
       "    </tr>\n",
       "  </thead>\n",
       "  <tbody>\n",
       "    <tr>\n",
       "      <th>0</th>\n",
       "      <td>gwi9ij1</td>\n",
       "      <td>hjmccabe</td>\n",
       "      <td>4</td>\n",
       "    </tr>\n",
       "    <tr>\n",
       "      <th>1</th>\n",
       "      <td>gwi9ij1</td>\n",
       "      <td>ccmilne</td>\n",
       "      <td>4</td>\n",
       "    </tr>\n",
       "    <tr>\n",
       "      <th>2</th>\n",
       "      <td>gwig0uu</td>\n",
       "      <td>hjmccabe</td>\n",
       "      <td>4</td>\n",
       "    </tr>\n",
       "  </tbody>\n",
       "</table>\n",
       "</div>"
      ],
      "text/plain": [
       "        id annotator  rating\n",
       "0  gwi9ij1  hjmccabe       4\n",
       "1  gwi9ij1   ccmilne       4\n",
       "2  gwig0uu  hjmccabe       4"
      ]
     },
     "execution_count": 9,
     "metadata": {},
     "output_type": "execute_result"
    }
   ],
   "source": [
    "df.head(3)"
   ]
  },
  {
   "cell_type": "markdown",
   "id": "9dc0d4ee-5a98-4966-bb4f-dd88ff6f405f",
   "metadata": {},
   "source": [
    "### Inter-Annotator Agreement Analysis\n",
    "\n",
    "- Cam vs. Harrison\n",
    "- Cam + Harrison vs. others"
   ]
  },
  {
   "cell_type": "code",
   "execution_count": 63,
   "id": "a55fe857-d6f8-4b87-9584-d9e42bccc283",
   "metadata": {},
   "outputs": [
    {
     "data": {
      "text/plain": [
       "array([4, 4, 2, 5, 4, 3, 4, 5, 3, 2, 3, 3, 5, 1, 2, 2, 3, 3, 4, 1, 2, 3,\n",
       "       4, 3, 4, 5, 5, 5, 4, 5, 2, 1, 4, 2, 2, 3, 4, 3, 1, 2, 3, 5, 5, 4,\n",
       "       1, 4, 5, 3, 3, 5, 4, 4, 3, 4, 5, 4, 5, 4, 3, 5, 2, 4, 1, 4, 2, 4,\n",
       "       3, 4, 3, 4, 3, 4, 5, 5, 4, 5, 4, 5, 4, 4, 4, 5, 4, 3, 4, 5, 3, 4,\n",
       "       1, 2, 5, 2, 1, 5, 5, 4, 1, 3, 4, 5, 4, 5, 3, 3, 4, 5, 5, 5, 5, 5,\n",
       "       3, 5, 4, 4, 2, 4, 5, 4, 1, 4, 5, 1, 1, 5, 1, 1, 3, 3, 2, 4, 3, 4,\n",
       "       1, 5, 4, 4, 1, 5, 4, 4, 5, 2, 5, 1, 3, 5, 3, 3, 3, 2, 5, 5, 1, 4,\n",
       "       5, 5, 5, 2, 4, 3, 3, 3, 3, 4, 5, 5, 5, 5, 3, 3, 4, 3, 4, 5, 2, 5,\n",
       "       4, 5, 5, 4, 3, 4, 1, 3, 3, 5, 4, 4, 3, 3, 4, 3, 2, 3, 4, 2, 4, 3,\n",
       "       1, 3, 4, 5, 5, 5, 5, 5, 4, 2, 5, 3, 3, 4, 5, 5, 4, 2, 4, 3, 3, 3,\n",
       "       3, 5, 1, 4, 5, 4, 3, 3, 4, 2, 5, 3, 5, 3, 2, 2, 4, 4, 4, 5, 2, 4,\n",
       "       5, 4, 4, 4, 4, 4, 2, 5, 5, 3, 5, 2, 3, 3, 3, 4, 1, 4, 5, 3, 5, 3,\n",
       "       5, 5, 5, 3, 4, 4, 3, 5, 5, 1, 4, 2, 5, 4, 5, 4, 4, 4, 3, 5, 5, 2,\n",
       "       5, 3, 4, 5, 3, 4, 5, 2, 2, 5, 3, 4, 5, 5, 4, 3, 5, 4, 5, 4, 3, 4,\n",
       "       4, 4, 1, 5, 5, 3, 5, 2, 1, 5, 4, 4, 1, 4, 4, 3, 3, 4, 5, 4, 3, 3,\n",
       "       2, 3, 2, 5, 4, 3, 1, 3, 4, 2, 5, 3, 5, 5, 3, 1, 4, 1, 4, 4, 3, 4,\n",
       "       1, 5, 3, 4, 2, 3, 5, 4, 3, 4, 5, 5, 3, 5, 4, 3, 4, 4, 3, 5, 1, 3,\n",
       "       2, 4, 4, 4, 4, 3, 5, 3, 5, 3, 4, 2, 5, 5, 3, 5, 4, 4, 5, 1, 3, 3,\n",
       "       5, 5, 3, 3, 4, 5, 1, 2, 4, 4, 5, 3, 3, 3, 4, 5, 5, 4, 2, 1, 4, 4,\n",
       "       3, 3, 4, 5, 2, 2, 5, 3, 3, 1, 5, 3, 5, 4])"
      ]
     },
     "execution_count": 63,
     "metadata": {},
     "output_type": "execute_result"
    }
   ],
   "source": [
    "user1 = df[df['annotator'] == 'hjmccabe']\n",
    "user2 = df[df['annotator'] == 'ccmilne']\n",
    "\n",
    "merged = user1.merge(user2, left_on='id', right_on='id')\n",
    "\n",
    "user1_ratings = list(merged['rating_x'])\n",
    "user2_ratings = list(merged['rating_y'])\n",
    "\n",
    "r_data = np.column_stack((user1_ratings, user2_ratings)).T"
   ]
  },
  {
   "cell_type": "code",
   "execution_count": 64,
   "id": "ea99a387-3e3a-43c6-9db0-a28f7ccc5608",
   "metadata": {},
   "outputs": [
    {
     "data": {
      "text/plain": [
       "array([[1.       , 0.5263582],\n",
       "       [0.5263582, 1.       ]])"
      ]
     },
     "execution_count": 64,
     "metadata": {},
     "output_type": "execute_result"
    }
   ],
   "source": [
    "#Pearson Score\n",
    "np.corrcoef(r_data[0], r_data[1])"
   ]
  },
  {
   "cell_type": "code",
   "execution_count": 61,
   "id": "72065412-9191-47b4-b67e-a412a2de069d",
   "metadata": {},
   "outputs": [
    {
     "data": {
      "text/plain": [
       "0.18664908364962074"
      ]
     },
     "execution_count": 61,
     "metadata": {},
     "output_type": "execute_result"
    }
   ],
   "source": [
    "krippendorff.alpha(reliability_data=r_data, level_of_measurement='nominal')"
   ]
  },
  {
   "cell_type": "code",
   "execution_count": 36,
   "id": "1e3b0745-cd1e-4b1f-9f17-992ab5db9b2e",
   "metadata": {},
   "outputs": [
    {
     "data": {
      "text/plain": [
       "array([[4., 4., 4., ..., 4., 4., 4.],\n",
       "       [5., 5., 5., ..., 5., 5., 5.]])"
      ]
     },
     "execution_count": 36,
     "metadata": {},
     "output_type": "execute_result"
    }
   ],
   "source": [
    "r_data"
   ]
  },
  {
   "cell_type": "code",
   "execution_count": 62,
   "id": "eab39076-5ccb-4fb3-8210-9eda72c28574",
   "metadata": {
    "tags": []
   },
   "outputs": [
    {
     "data": {
      "text/plain": [
       "0.4604470426662728"
      ]
     },
     "execution_count": 62,
     "metadata": {},
     "output_type": "execute_result"
    }
   ],
   "source": [
    "krippendorff.alpha(reliability_data=r_data, level_of_measurement='ordinal')"
   ]
  },
  {
   "cell_type": "markdown",
   "id": "3983b1e8-7a6f-4ab0-a53c-072f0e0fe578",
   "metadata": {},
   "source": [
    "##### Group 16 vs. Class"
   ]
  },
  {
   "cell_type": "code",
   "execution_count": 56,
   "id": "08ddc5a8-e3bc-4143-bced-bc9fce93aaea",
   "metadata": {},
   "outputs": [],
   "source": [
    "df = pd.read_csv('data/si630w22-hw3-train.csv')"
   ]
  },
  {
   "cell_type": "code",
   "execution_count": 57,
   "id": "8e2573b7-ddd7-4ad1-81f0-bf6592b72005",
   "metadata": {},
   "outputs": [
    {
     "name": "stdout",
     "output_type": "stream",
     "text": [
      "17845\n",
      "295\n",
      "1281\n"
     ]
    },
    {
     "data": {
      "text/plain": [
       "group_16    590\n",
       "group_20     48\n",
       "group_22     42\n",
       "group_10     39\n",
       "group_12     39\n",
       "group_07     36\n",
       "group_09     33\n",
       "group_18     33\n",
       "group_24     33\n",
       "group_21     32\n",
       "group_08     30\n",
       "group_02     30\n",
       "group_03     30\n",
       "group_25     30\n",
       "group_17     27\n",
       "group_01     26\n",
       "group_05     26\n",
       "group_04     24\n",
       "group_14     24\n",
       "group_19     22\n",
       "group_15     22\n",
       "group_13     22\n",
       "group_23     22\n",
       "group_11     21\n",
       "Name: group, dtype: int64"
      ]
     },
     "execution_count": 57,
     "metadata": {},
     "output_type": "execute_result"
    }
   ],
   "source": [
    "g16 = df[df['group'] == 'group_16']\n",
    "unique_ids = set(g16['id'])\n",
    "print(len(df))\n",
    "print(len(unique_ids))\n",
    "\n",
    "un_df = df[df['id'].isin(unique_ids)]\n",
    "\n",
    "print(len(un_df))\n",
    "un_df['group'].value_counts()"
   ]
  },
  {
   "cell_type": "code",
   "execution_count": 71,
   "id": "bc5cf6c0-3e97-477c-97fe-9e4db48b6661",
   "metadata": {},
   "outputs": [],
   "source": [
    "avgs = un_df.groupby(by=['id', 'group']).mean()\n",
    "\n",
    "avgs.reset_index(inplace=True)\n",
    "avgs\n",
    "\n",
    "avgs[avgs['id'] == 't3_n28tgd']\n",
    "\n",
    "df = avgs"
   ]
  },
  {
   "cell_type": "code",
   "execution_count": null,
   "id": "2ce22bb0-c061-4134-aedc-7fb4224cf4dc",
   "metadata": {},
   "outputs": [],
   "source": []
  },
  {
   "cell_type": "code",
   "execution_count": 72,
   "id": "7e9aa506-3bbe-453b-9860-f3078512e95f",
   "metadata": {},
   "outputs": [
    {
     "name": "stdout",
     "output_type": "stream",
     "text": [
      "295\n",
      "282\n",
      "282\n"
     ]
    }
   ],
   "source": [
    "g16   = df[df['group'] == 'group_16']\n",
    "other = df[df['group'] != 'group_16']\n",
    "\n",
    "print(len(g16))\n",
    "print(len(other))\n",
    "\n",
    "merged = g16.merge(other, left_on='id', right_on='id')\n",
    "print(len(merged))\n",
    "\n",
    "\n",
    "g16_ratings = list(merged['rating_x'])\n",
    "other_ratings = list(merged['rating_y'])\n",
    "\n",
    "r_data = np.column_stack((g16_ratings, other_ratings)).T"
   ]
  },
  {
   "cell_type": "code",
   "execution_count": 69,
   "id": "8cec7bea-e041-443e-b3b9-4fb8a5c1a354",
   "metadata": {},
   "outputs": [
    {
     "data": {
      "text/plain": [
       "array([[4. , 3.5, 2.5, 4.5, 3.5, 4. , 2.5, 2.5, 4.5, 1. , 2. , 1.5, 4. ,\n",
       "        2.5, 3. , 3. , 1.5, 2. , 3.5, 4.5, 3.5, 3. , 1.5, 4.5, 2.5, 2. ,\n",
       "        3.5, 3.5, 4. , 4. , 4.5, 1.5, 2. , 3.5, 2. , 3.5, 4.5, 3.5, 4. ,\n",
       "        4.5, 4. , 4. , 1.5, 4. , 3. , 3.5, 4. , 3. , 3. , 4. , 5. , 4. ,\n",
       "        4. , 4. , 4. , 4. , 3. , 3.5, 4. , 3. , 1.5, 4. , 1. , 1.5, 4. ,\n",
       "        4. , 2.5, 4. , 1. , 4. , 4. , 4. , 3. , 3. , 4.5, 4. , 3. , 3.5,\n",
       "        4. , 5. , 2. , 4.5, 2. , 3. , 2.5, 4. , 5. , 1.5, 3.5, 2. , 4. ,\n",
       "        3.5, 5. , 2. , 3.5, 4.5, 5. , 3. , 3. , 4.5, 1. , 4.5, 4. , 4. ,\n",
       "        4. , 2.5, 3. , 3. , 4. , 3. , 3. , 4. , 3.5, 4.5, 2. , 4.5, 4. ,\n",
       "        4. , 4. , 4.5, 3. , 2. , 4. , 4. , 4. , 3.5, 2.5, 3.5, 3.5, 3. ,\n",
       "        3. , 3. , 3.5, 1.5, 3. , 4.5, 4.5, 4.5, 4.5, 4. , 4.5, 4.5, 2.5,\n",
       "        3. , 4. , 1.5, 3.5, 3. , 2. , 1.5, 5. , 3.5, 3. , 3.5, 4.5, 4. ,\n",
       "        4. , 3. , 2.5, 3.5, 3.5, 4.5, 2.5, 4. , 4.5, 3.5, 3.5, 4. , 2.5,\n",
       "        4.5, 5. , 3. , 4. , 3. , 3.5, 3. , 4. , 3. , 2. , 4. , 3.5, 4.5,\n",
       "        4. , 3.5, 4.5, 2.5, 4.5, 4. , 4. , 4. , 4.5, 4.5, 3. , 3.5, 4. ,\n",
       "        4.5, 4. , 2. , 4. , 4. , 4.5, 3. , 3. , 4. , 4.5, 2.5, 3.5, 3.5,\n",
       "        1. , 3.5, 5. , 4. , 3.5, 2. , 3.5, 4.5, 4. , 4.5, 4. , 3. , 3. ,\n",
       "        5. , 2. , 3.5, 3. , 4. , 4.5, 3.5, 2. , 3.5, 2. , 4.5, 4. , 4.5,\n",
       "        2.5, 3.5, 2.5, 3.5, 2.5, 3. , 4. , 4. , 4.5, 3. , 3. , 4. , 4.5,\n",
       "        4. , 4. , 4. , 3. , 2.5, 4. , 5. , 4. , 3.5, 4. , 1. , 3. , 4.5,\n",
       "        5. , 3. , 4.5, 4. , 4. , 1. , 3.5, 3.5, 4. , 3. , 4. , 4.5, 4. ,\n",
       "        4. , 3. , 2.5, 3. , 4. , 2.5, 5. , 4. , 4.5],\n",
       "       [5. , 5. , 3. , 4. , 5. , 5. , 5. , 3. , 4.5, 2. , 1.5, 4. , 5. ,\n",
       "        3. , 3. , 3. , 4. , 4. , 5. , 4. , 4. , 3. , 3.5, 5. , 3. , 3. ,\n",
       "        4. , 4.5, 4.5, 4. , 5. , 4. , 3. , 4. , 3. , 3.5, 5. , 3.5, 2.5,\n",
       "        5. , 4. , 5. , 4. , 4. , 3. , 4. , 3. , 3. , 2. , 5. , 5. , 4. ,\n",
       "        2.5, 5. , 4. , 5. , 4. , 3. , 4. , 5. , 1. , 4. , 3. , 3. , 4. ,\n",
       "        4.5, 2. , 5. , 4. , 4.5, 5. , 3.5, 5. , 5. , 4. , 5. , 3. , 5. ,\n",
       "        5. , 5. , 2. , 4. , 4. , 2. , 3. , 3. , 5. , 1. , 5. , 2. , 3. ,\n",
       "        4. , 4. , 2. , 3.5, 5. , 5. , 5. , 2.5, 5. , 1. , 4.5, 5. , 4. ,\n",
       "        4. , 2. , 3. , 5. , 2.5, 3. , 3. , 4.5, 5. , 2.5, 2. , 5. , 4. ,\n",
       "        5. , 5. , 5. , 4. , 5. , 5. , 5. , 5. , 4. , 3. , 2. , 5. , 3.5,\n",
       "        5. , 2.5, 4. , 1.5, 4. , 5. , 5. , 4.5, 5. , 4. , 5. , 4. , 1.5,\n",
       "        2. , 5. , 2.5, 5. , 4.5, 4. , 3. , 3. , 4. , 4. , 4. , 5. , 3. ,\n",
       "        4. , 3. , 2. , 5. , 3.5, 3. , 4. , 4.5, 3. , 5. , 2.5, 4. , 3. ,\n",
       "        5. , 4.5, 3. , 4. , 5. , 4.5, 3. , 4.5, 3. , 1. , 4. , 4. , 4.5,\n",
       "        5. , 3. , 5. , 2.5, 4. , 5. , 4. , 5. , 4. , 4. , 3. , 3.5, 4. ,\n",
       "        5. , 3. , 2. , 3. , 2. , 2.5, 3. , 2.5, 4. , 4. , 2. , 3. , 3. ,\n",
       "        3. , 5. , 5. , 5. , 3. , 4. , 2.5, 4. , 1. , 5. , 5. , 3. , 4. ,\n",
       "        5. , 1.5, 4. , 4.5, 5. , 3.5, 4. , 3. , 3. , 2. , 4.5, 5. , 5. ,\n",
       "        4. , 4.5, 3. , 4. , 2.5, 4. , 5. , 4.5, 5. , 3. , 4. , 5. , 5. ,\n",
       "        5. , 4. , 4. , 2. , 3. , 3. , 5. , 4.5, 5. , 3. , 1. , 3. , 4.5,\n",
       "        4. , 3.5, 5. , 5. , 4. , 2.5, 5. , 2. , 5. , 3. , 4.5, 4.5, 5. ,\n",
       "        5. , 4. , 5. , 3. , 5. , 3.5, 5. , 5. , 5. ]])"
      ]
     },
     "execution_count": 69,
     "metadata": {},
     "output_type": "execute_result"
    }
   ],
   "source": [
    "r_data"
   ]
  },
  {
   "cell_type": "code",
   "execution_count": 73,
   "id": "6e3d682a-f6e0-4185-9b10-46840c043170",
   "metadata": {},
   "outputs": [
    {
     "data": {
      "text/plain": [
       "array([[1.        , 0.60271672],\n",
       "       [0.60271672, 1.        ]])"
      ]
     },
     "execution_count": 73,
     "metadata": {},
     "output_type": "execute_result"
    }
   ],
   "source": [
    "np.corrcoef(r_data[0], r_data[1])"
   ]
  },
  {
   "cell_type": "code",
   "execution_count": 75,
   "id": "e4247afe-470f-4b35-aa0c-7e2da9d4b05b",
   "metadata": {},
   "outputs": [
    {
     "data": {
      "text/plain": [
       "0.10581615126449018"
      ]
     },
     "execution_count": 75,
     "metadata": {},
     "output_type": "execute_result"
    }
   ],
   "source": [
    "krippendorff.alpha(reliability_data=r_data, level_of_measurement='nominal')"
   ]
  },
  {
   "cell_type": "code",
   "execution_count": 74,
   "id": "40abfb93-7d60-47a4-9ecc-e3bfe5ab5254",
   "metadata": {},
   "outputs": [
    {
     "data": {
      "text/plain": [
       "0.5257040193529188"
      ]
     },
     "execution_count": 74,
     "metadata": {},
     "output_type": "execute_result"
    }
   ],
   "source": [
    "krippendorff.alpha(reliability_data=r_data, level_of_measurement='ordinal')"
   ]
  },
  {
   "cell_type": "code",
   "execution_count": 68,
   "id": "396696f4-3f2e-4cf3-a6a7-0514e31c8a82",
   "metadata": {},
   "outputs": [
    {
     "data": {
      "text/plain": [
       "group_16    295\n",
       "group_20     16\n",
       "group_21     16\n",
       "group_03     15\n",
       "group_08     15\n",
       "group_25     15\n",
       "group_22     14\n",
       "group_01     13\n",
       "group_05     13\n",
       "group_10     13\n",
       "group_12     13\n",
       "group_04     12\n",
       "group_07     12\n",
       "group_14     12\n",
       "group_09     11\n",
       "group_24     11\n",
       "group_18     11\n",
       "group_19     11\n",
       "group_15     11\n",
       "group_13     11\n",
       "group_23     11\n",
       "group_02     10\n",
       "group_17      9\n",
       "group_11      7\n",
       "Name: group, dtype: int64"
      ]
     },
     "execution_count": 68,
     "metadata": {},
     "output_type": "execute_result"
    }
   ],
   "source": [
    "df['group'].value_counts()"
   ]
  },
  {
   "cell_type": "code",
   "execution_count": 79,
   "id": "06df584b-31bb-4dcb-bbe2-0b40a99b245d",
   "metadata": {},
   "outputs": [
    {
     "data": {
      "text/html": [
       "<div>\n",
       "<style scoped>\n",
       "    .dataframe tbody tr th:only-of-type {\n",
       "        vertical-align: middle;\n",
       "    }\n",
       "\n",
       "    .dataframe tbody tr th {\n",
       "        vertical-align: top;\n",
       "    }\n",
       "\n",
       "    .dataframe thead th {\n",
       "        text-align: right;\n",
       "    }\n",
       "</style>\n",
       "<table border=\"1\" class=\"dataframe\">\n",
       "  <thead>\n",
       "    <tr style=\"text-align: right;\">\n",
       "      <th></th>\n",
       "      <th>id</th>\n",
       "      <th>group_x</th>\n",
       "      <th>rating_x</th>\n",
       "      <th>group_y</th>\n",
       "      <th>rating_y</th>\n",
       "      <th>diff</th>\n",
       "    </tr>\n",
       "  </thead>\n",
       "  <tbody>\n",
       "    <tr>\n",
       "      <th>0</th>\n",
       "      <td>t3_n28tgd</td>\n",
       "      <td>group_16</td>\n",
       "      <td>4.0</td>\n",
       "      <td>group_01</td>\n",
       "      <td>5.000000</td>\n",
       "      <td>1.000000</td>\n",
       "    </tr>\n",
       "    <tr>\n",
       "      <th>1</th>\n",
       "      <td>t3_n2bvbq</td>\n",
       "      <td>group_16</td>\n",
       "      <td>3.5</td>\n",
       "      <td>group_02</td>\n",
       "      <td>4.666667</td>\n",
       "      <td>1.166667</td>\n",
       "    </tr>\n",
       "    <tr>\n",
       "      <th>2</th>\n",
       "      <td>t3_n2fc4o</td>\n",
       "      <td>group_16</td>\n",
       "      <td>2.5</td>\n",
       "      <td>group_03</td>\n",
       "      <td>3.000000</td>\n",
       "      <td>0.500000</td>\n",
       "    </tr>\n",
       "    <tr>\n",
       "      <th>3</th>\n",
       "      <td>t3_n2jtaz</td>\n",
       "      <td>group_16</td>\n",
       "      <td>4.5</td>\n",
       "      <td>group_04</td>\n",
       "      <td>4.000000</td>\n",
       "      <td>0.500000</td>\n",
       "    </tr>\n",
       "    <tr>\n",
       "      <th>4</th>\n",
       "      <td>t3_n2mblk</td>\n",
       "      <td>group_16</td>\n",
       "      <td>3.5</td>\n",
       "      <td>group_05</td>\n",
       "      <td>5.000000</td>\n",
       "      <td>1.500000</td>\n",
       "    </tr>\n",
       "    <tr>\n",
       "      <th>...</th>\n",
       "      <td>...</td>\n",
       "      <td>...</td>\n",
       "      <td>...</td>\n",
       "      <td>...</td>\n",
       "      <td>...</td>\n",
       "      <td>...</td>\n",
       "    </tr>\n",
       "    <tr>\n",
       "      <th>277</th>\n",
       "      <td>t3_npa60b</td>\n",
       "      <td>group_16</td>\n",
       "      <td>4.0</td>\n",
       "      <td>group_17</td>\n",
       "      <td>5.000000</td>\n",
       "      <td>1.000000</td>\n",
       "    </tr>\n",
       "    <tr>\n",
       "      <th>278</th>\n",
       "      <td>t3_npadrz</td>\n",
       "      <td>group_16</td>\n",
       "      <td>2.5</td>\n",
       "      <td>group_19</td>\n",
       "      <td>3.500000</td>\n",
       "      <td>1.000000</td>\n",
       "    </tr>\n",
       "    <tr>\n",
       "      <th>279</th>\n",
       "      <td>t3_npam82</td>\n",
       "      <td>group_16</td>\n",
       "      <td>5.0</td>\n",
       "      <td>group_25</td>\n",
       "      <td>5.000000</td>\n",
       "      <td>0.000000</td>\n",
       "    </tr>\n",
       "    <tr>\n",
       "      <th>280</th>\n",
       "      <td>t3_npazqx</td>\n",
       "      <td>group_16</td>\n",
       "      <td>4.0</td>\n",
       "      <td>group_23</td>\n",
       "      <td>5.000000</td>\n",
       "      <td>1.000000</td>\n",
       "    </tr>\n",
       "    <tr>\n",
       "      <th>281</th>\n",
       "      <td>t3_npazv0</td>\n",
       "      <td>group_16</td>\n",
       "      <td>4.5</td>\n",
       "      <td>group_24</td>\n",
       "      <td>5.000000</td>\n",
       "      <td>0.500000</td>\n",
       "    </tr>\n",
       "  </tbody>\n",
       "</table>\n",
       "<p>282 rows × 6 columns</p>\n",
       "</div>"
      ],
      "text/plain": [
       "            id   group_x  rating_x   group_y  rating_y      diff\n",
       "0    t3_n28tgd  group_16       4.0  group_01  5.000000  1.000000\n",
       "1    t3_n2bvbq  group_16       3.5  group_02  4.666667  1.166667\n",
       "2    t3_n2fc4o  group_16       2.5  group_03  3.000000  0.500000\n",
       "3    t3_n2jtaz  group_16       4.5  group_04  4.000000  0.500000\n",
       "4    t3_n2mblk  group_16       3.5  group_05  5.000000  1.500000\n",
       "..         ...       ...       ...       ...       ...       ...\n",
       "277  t3_npa60b  group_16       4.0  group_17  5.000000  1.000000\n",
       "278  t3_npadrz  group_16       2.5  group_19  3.500000  1.000000\n",
       "279  t3_npam82  group_16       5.0  group_25  5.000000  0.000000\n",
       "280  t3_npazqx  group_16       4.0  group_23  5.000000  1.000000\n",
       "281  t3_npazv0  group_16       4.5  group_24  5.000000  0.500000\n",
       "\n",
       "[282 rows x 6 columns]"
      ]
     },
     "execution_count": 79,
     "metadata": {},
     "output_type": "execute_result"
    }
   ],
   "source": [
    "merged"
   ]
  },
  {
   "cell_type": "code",
   "execution_count": 78,
   "id": "ec751046-2f3b-44f2-8408-02b6b5c24912",
   "metadata": {},
   "outputs": [],
   "source": [
    "merged['diff'] = abs(merged['rating_x'] - merged['rating_y'])"
   ]
  },
  {
   "cell_type": "code",
   "execution_count": 97,
   "id": "a02e1388-7bc8-4ca4-a4d2-2e76df4026b4",
   "metadata": {},
   "outputs": [
    {
     "data": {
      "text/html": [
       "<div>\n",
       "<style scoped>\n",
       "    .dataframe tbody tr th:only-of-type {\n",
       "        vertical-align: middle;\n",
       "    }\n",
       "\n",
       "    .dataframe tbody tr th {\n",
       "        vertical-align: top;\n",
       "    }\n",
       "\n",
       "    .dataframe thead th {\n",
       "        text-align: right;\n",
       "    }\n",
       "</style>\n",
       "<table border=\"1\" class=\"dataframe\">\n",
       "  <thead>\n",
       "    <tr style=\"text-align: right;\">\n",
       "      <th></th>\n",
       "      <th>id</th>\n",
       "      <th>group_x</th>\n",
       "      <th>rating_x</th>\n",
       "      <th>group_y</th>\n",
       "      <th>rating_y</th>\n",
       "      <th>diff</th>\n",
       "    </tr>\n",
       "  </thead>\n",
       "  <tbody>\n",
       "    <tr>\n",
       "      <th>216</th>\n",
       "      <td>t3_nk43wu</td>\n",
       "      <td>group_16</td>\n",
       "      <td>4.0</td>\n",
       "      <td>group_13</td>\n",
       "      <td>1.000000</td>\n",
       "      <td>3.000000</td>\n",
       "    </tr>\n",
       "    <tr>\n",
       "      <th>16</th>\n",
       "      <td>t3_n3e4qy</td>\n",
       "      <td>group_16</td>\n",
       "      <td>1.5</td>\n",
       "      <td>group_25</td>\n",
       "      <td>4.000000</td>\n",
       "      <td>2.500000</td>\n",
       "    </tr>\n",
       "    <tr>\n",
       "      <th>6</th>\n",
       "      <td>t3_n30alr</td>\n",
       "      <td>group_16</td>\n",
       "      <td>2.5</td>\n",
       "      <td>group_10</td>\n",
       "      <td>5.000000</td>\n",
       "      <td>2.500000</td>\n",
       "    </tr>\n",
       "    <tr>\n",
       "      <th>275</th>\n",
       "      <td>t3_np7sub</td>\n",
       "      <td>group_16</td>\n",
       "      <td>2.5</td>\n",
       "      <td>group_21</td>\n",
       "      <td>5.000000</td>\n",
       "      <td>2.500000</td>\n",
       "    </tr>\n",
       "    <tr>\n",
       "      <th>68</th>\n",
       "      <td>t3_n7ibs2</td>\n",
       "      <td>group_16</td>\n",
       "      <td>1.0</td>\n",
       "      <td>group_02</td>\n",
       "      <td>3.333333</td>\n",
       "      <td>2.333333</td>\n",
       "    </tr>\n",
       "    <tr>\n",
       "      <th>213</th>\n",
       "      <td>t3_njnbfz</td>\n",
       "      <td>group_16</td>\n",
       "      <td>2.0</td>\n",
       "      <td>group_05</td>\n",
       "      <td>4.000000</td>\n",
       "      <td>2.000000</td>\n",
       "    </tr>\n",
       "    <tr>\n",
       "      <th>22</th>\n",
       "      <td>t3_n47tg7</td>\n",
       "      <td>group_16</td>\n",
       "      <td>1.5</td>\n",
       "      <td>group_08</td>\n",
       "      <td>3.500000</td>\n",
       "      <td>2.000000</td>\n",
       "    </tr>\n",
       "    <tr>\n",
       "      <th>17</th>\n",
       "      <td>t3_n3e5dy</td>\n",
       "      <td>group_16</td>\n",
       "      <td>2.0</td>\n",
       "      <td>group_24</td>\n",
       "      <td>4.000000</td>\n",
       "      <td>2.000000</td>\n",
       "    </tr>\n",
       "    <tr>\n",
       "      <th>148</th>\n",
       "      <td>t3_ne6faj</td>\n",
       "      <td>group_16</td>\n",
       "      <td>2.0</td>\n",
       "      <td>group_05</td>\n",
       "      <td>4.000000</td>\n",
       "      <td>2.000000</td>\n",
       "    </tr>\n",
       "    <tr>\n",
       "      <th>130</th>\n",
       "      <td>t3_ncq2s1</td>\n",
       "      <td>group_16</td>\n",
       "      <td>3.0</td>\n",
       "      <td>group_03</td>\n",
       "      <td>5.000000</td>\n",
       "      <td>2.000000</td>\n",
       "    </tr>\n",
       "  </tbody>\n",
       "</table>\n",
       "</div>"
      ],
      "text/plain": [
       "            id   group_x  rating_x   group_y  rating_y      diff\n",
       "216  t3_nk43wu  group_16       4.0  group_13  1.000000  3.000000\n",
       "16   t3_n3e4qy  group_16       1.5  group_25  4.000000  2.500000\n",
       "6    t3_n30alr  group_16       2.5  group_10  5.000000  2.500000\n",
       "275  t3_np7sub  group_16       2.5  group_21  5.000000  2.500000\n",
       "68   t3_n7ibs2  group_16       1.0  group_02  3.333333  2.333333\n",
       "213  t3_njnbfz  group_16       2.0  group_05  4.000000  2.000000\n",
       "22   t3_n47tg7  group_16       1.5  group_08  3.500000  2.000000\n",
       "17   t3_n3e5dy  group_16       2.0  group_24  4.000000  2.000000\n",
       "148  t3_ne6faj  group_16       2.0  group_05  4.000000  2.000000\n",
       "130  t3_ncq2s1  group_16       3.0  group_03  5.000000  2.000000"
      ]
     },
     "execution_count": 97,
     "metadata": {},
     "output_type": "execute_result"
    }
   ],
   "source": [
    "top10 = merged.sort_values(by='diff', ascending=False)[:10]\n",
    "top10\n",
    "\n",
    "top10ids = list(top10['id'])\n",
    "top10"
   ]
  },
  {
   "cell_type": "code",
   "execution_count": 96,
   "id": "14db2754-8945-46f4-954d-4e5fc95f8d9b",
   "metadata": {},
   "outputs": [
    {
     "data": {
      "text/html": [
       "<div>\n",
       "<style scoped>\n",
       "    .dataframe tbody tr th:only-of-type {\n",
       "        vertical-align: middle;\n",
       "    }\n",
       "\n",
       "    .dataframe tbody tr th {\n",
       "        vertical-align: top;\n",
       "    }\n",
       "\n",
       "    .dataframe thead th {\n",
       "        text-align: right;\n",
       "    }\n",
       "</style>\n",
       "<table border=\"1\" class=\"dataframe\">\n",
       "  <thead>\n",
       "    <tr style=\"text-align: right;\">\n",
       "      <th></th>\n",
       "      <th>question_id</th>\n",
       "      <th>question_text</th>\n",
       "      <th>reply_id</th>\n",
       "      <th>reply_text</th>\n",
       "      <th>rlen</th>\n",
       "    </tr>\n",
       "  </thead>\n",
       "  <tbody>\n",
       "    <tr>\n",
       "      <th>1144</th>\n",
       "      <td>t3_nk43wu</td>\n",
       "      <td>[Epic Rap Battles of History] How do the conte...</td>\n",
       "      <td>gzc7ia8</td>\n",
       "      <td>Not only that, most of the contestants lived b...</td>\n",
       "      <td>380</td>\n",
       "    </tr>\n",
       "    <tr>\n",
       "      <th>1274</th>\n",
       "      <td>t3_n47tg7</td>\n",
       "      <td>Now that Bill and Melinda Gates are both singl...</td>\n",
       "      <td>gwtyh4z</td>\n",
       "      <td>Huh? Did they divorce?</td>\n",
       "      <td>22</td>\n",
       "    </tr>\n",
       "    <tr>\n",
       "      <th>1989</th>\n",
       "      <td>t3_n30alr</td>\n",
       "      <td>What is the best birthday present you've ever ...</td>\n",
       "      <td>gwmp9gv</td>\n",
       "      <td>Railroad shirt and phone case</td>\n",
       "      <td>29</td>\n",
       "    </tr>\n",
       "    <tr>\n",
       "      <th>3253</th>\n",
       "      <td>t3_n3e5dy</td>\n",
       "      <td>You have been given a superpower of your choos...</td>\n",
       "      <td>gwpaas2</td>\n",
       "      <td>The ability to extend other peoples power time...</td>\n",
       "      <td>75</td>\n",
       "    </tr>\n",
       "    <tr>\n",
       "      <th>3254</th>\n",
       "      <td>t3_n3e4qy</td>\n",
       "      <td>How to deal with jealousy?</td>\n",
       "      <td>gwpafi3</td>\n",
       "      <td>Your girlfriend is never going to meet Billie ...</td>\n",
       "      <td>363</td>\n",
       "    </tr>\n",
       "    <tr>\n",
       "      <th>3301</th>\n",
       "      <td>t3_n7ibs2</td>\n",
       "      <td>What’s the best comeback to an insult you’ve e...</td>\n",
       "      <td>gxcz0l6</td>\n",
       "      <td>*Your mom goes to college.*</td>\n",
       "      <td>27</td>\n",
       "    </tr>\n",
       "    <tr>\n",
       "      <th>3362</th>\n",
       "      <td>t3_ncq2s1</td>\n",
       "      <td>ELI5: Why are people not visible in Google Map...</td>\n",
       "      <td>gy6j6gj</td>\n",
       "      <td>Any large scale map will be made up of many in...</td>\n",
       "      <td>531</td>\n",
       "    </tr>\n",
       "    <tr>\n",
       "      <th>3379</th>\n",
       "      <td>t3_ne6faj</td>\n",
       "      <td>What is the best \"Your mama.....\" joke you hav...</td>\n",
       "      <td>gyexlym</td>\n",
       "      <td>Your momma is so ugly Helen Keller committed s...</td>\n",
       "      <td>52</td>\n",
       "    </tr>\n",
       "    <tr>\n",
       "      <th>3439</th>\n",
       "      <td>t3_njnbfz</td>\n",
       "      <td>What are some things you can do, to keep peopl...</td>\n",
       "      <td>gz8bdjj</td>\n",
       "      <td>Ask them questions, reflective listening, idk man</td>\n",
       "      <td>49</td>\n",
       "    </tr>\n",
       "    <tr>\n",
       "      <th>3505</th>\n",
       "      <td>t3_np7sub</td>\n",
       "      <td>What's something your gender does that the opp...</td>\n",
       "      <td>h03z93m</td>\n",
       "      <td>Three things you should know about boners: * H...</td>\n",
       "      <td>423</td>\n",
       "    </tr>\n",
       "  </tbody>\n",
       "</table>\n",
       "</div>"
      ],
      "text/plain": [
       "     question_id                                      question_text reply_id  \\\n",
       "1144   t3_nk43wu  [Epic Rap Battles of History] How do the conte...  gzc7ia8   \n",
       "1274   t3_n47tg7  Now that Bill and Melinda Gates are both singl...  gwtyh4z   \n",
       "1989   t3_n30alr  What is the best birthday present you've ever ...  gwmp9gv   \n",
       "3253   t3_n3e5dy  You have been given a superpower of your choos...  gwpaas2   \n",
       "3254   t3_n3e4qy                         How to deal with jealousy?  gwpafi3   \n",
       "3301   t3_n7ibs2  What’s the best comeback to an insult you’ve e...  gxcz0l6   \n",
       "3362   t3_ncq2s1  ELI5: Why are people not visible in Google Map...  gy6j6gj   \n",
       "3379   t3_ne6faj  What is the best \"Your mama.....\" joke you hav...  gyexlym   \n",
       "3439   t3_njnbfz  What are some things you can do, to keep peopl...  gz8bdjj   \n",
       "3505   t3_np7sub  What's something your gender does that the opp...  h03z93m   \n",
       "\n",
       "                                             reply_text  rlen  \n",
       "1144  Not only that, most of the contestants lived b...   380  \n",
       "1274                             Huh? Did they divorce?    22  \n",
       "1989                      Railroad shirt and phone case    29  \n",
       "3253  The ability to extend other peoples power time...    75  \n",
       "3254  Your girlfriend is never going to meet Billie ...   363  \n",
       "3301                        *Your mom goes to college.*    27  \n",
       "3362  Any large scale map will be made up of many in...   531  \n",
       "3379  Your momma is so ugly Helen Keller committed s...    52  \n",
       "3439  Ask them questions, reflective listening, idk man    49  \n",
       "3505  Three things you should know about boners: * H...   423  "
      ]
     },
     "execution_count": 96,
     "metadata": {},
     "output_type": "execute_result"
    }
   ],
   "source": [
    "t10 = raw_data[raw_data['question_id'].isin(top10ids)]\n",
    "list(t10.question_text)\n",
    "list(t10.reply_text)\n",
    "t10"
   ]
  }
 ],
 "metadata": {
  "kernelspec": {
   "display_name": "Python 3 (ipykernel)",
   "language": "python",
   "name": "python3"
  },
  "language_info": {
   "codemirror_mode": {
    "name": "ipython",
    "version": 3
   },
   "file_extension": ".py",
   "mimetype": "text/x-python",
   "name": "python",
   "nbconvert_exporter": "python",
   "pygments_lexer": "ipython3",
   "version": "3.8.5"
  }
 },
 "nbformat": 4,
 "nbformat_minor": 5
}
