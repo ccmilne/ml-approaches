{
  "cells": [
    {
      "cell_type": "markdown",
      "metadata": {
        "id": "8MoxFKP8KPGq"
      },
      "source": [
        "# SI 630: Homework 1: Classification\n",
        "\n",
        "Name on Kaggle: ccmilne"
      ]
    },
    {
      "cell_type": "code",
      "execution_count": 4,
      "metadata": {
        "id": "LphbVEBvKPGs"
      },
      "outputs": [],
      "source": [
        "import pandas as pd\n",
        "import numpy as np\n",
        "\n",
        "from tqdm import tqdm\n",
        "from collections import Counter\n",
        "import random\n",
        "\n",
        "train = pd.read_csv('train.csv')\n",
        "test = pd.read_csv('test.csv')\n",
        "dev = pd.read_csv('dev.csv')"
      ]
    },
    {
      "cell_type": "code",
      "execution_count": 5,
      "metadata": {
        "id": "FIlqdqNbKPGt"
      },
      "outputs": [],
      "source": [
        "train['labels'] = np.where(train['party_affiliation'].str.contains(\"Democratic Party\"), 1, 0)\n",
        "dev['labels'] = np.where(dev['party_affiliation'].str.contains(\"Democratic Party\"), 1, 0)"
      ]
    },
    {
      "cell_type": "code",
      "execution_count": 6,
      "metadata": {
        "colab": {
          "base_uri": "https://localhost:8080/"
        },
        "id": "qbv59ySUKPGu",
        "outputId": "47475517-9779-48c7-d50a-bc91f157f736"
      },
      "outputs": [
        {
          "output_type": "stream",
          "name": "stdout",
          "text": [
            "59999\n",
            "20000\n",
            "20000\n"
          ]
        }
      ],
      "source": [
        "print(len(train))\n",
        "print(len(test))\n",
        "print(len(dev))"
      ]
    },
    {
      "cell_type": "code",
      "execution_count": 7,
      "metadata": {
        "colab": {
          "base_uri": "https://localhost:8080/",
          "height": 423
        },
        "id": "zsuBQwjzKPGv",
        "outputId": "f45d95ab-af42-4b08-8ebf-63aabec9498c"
      },
      "outputs": [
        {
          "output_type": "execute_result",
          "data": {
            "text/html": [
              "\n",
              "  <div id=\"df-5ac6a064-c77b-4e0a-bb64-3c3fa989bd07\">\n",
              "    <div class=\"colab-df-container\">\n",
              "      <div>\n",
              "<style scoped>\n",
              "    .dataframe tbody tr th:only-of-type {\n",
              "        vertical-align: middle;\n",
              "    }\n",
              "\n",
              "    .dataframe tbody tr th {\n",
              "        vertical-align: top;\n",
              "    }\n",
              "\n",
              "    .dataframe thead th {\n",
              "        text-align: right;\n",
              "    }\n",
              "</style>\n",
              "<table border=\"1\" class=\"dataframe\">\n",
              "  <thead>\n",
              "    <tr style=\"text-align: right;\">\n",
              "      <th></th>\n",
              "      <th>email_text</th>\n",
              "      <th>uid_email</th>\n",
              "    </tr>\n",
              "  </thead>\n",
              "  <tbody>\n",
              "    <tr>\n",
              "      <th>0</th>\n",
              "      <td>20,000 &lt;GPE&gt; &lt;GPE&gt; signatures needed \\n 20,000...</td>\n",
              "      <td>5dfbe09ce5b500dd3dcb9f93c8fb185f</td>\n",
              "    </tr>\n",
              "    <tr>\n",
              "      <th>1</th>\n",
              "      <td>We 've worked way too hard and given way too m...</td>\n",
              "      <td>07e48f4183b98420a18503791fb412f6</td>\n",
              "    </tr>\n",
              "    <tr>\n",
              "      <th>2</th>\n",
              "      <td>If you use your 800%-MATCH \\n  &lt;&gt; \\n &lt;ORG&gt; &lt;OR...</td>\n",
              "      <td>b58c8607d96a414db0e9cc10108c35f5</td>\n",
              "    </tr>\n",
              "    <tr>\n",
              "      <th>3</th>\n",
              "      <td>&lt;PERSON&gt;, a proposal for Vote- by- &lt;&gt; threaten...</td>\n",
              "      <td>3901d9539d69ada89e5c82e2f1ca950d</td>\n",
              "    </tr>\n",
              "    <tr>\n",
              "      <th>4</th>\n",
              "      <td>The &lt;ORG&gt; &lt;ORG&gt; &lt;ORG&gt; is under immediate threa...</td>\n",
              "      <td>6a3e8e6f31381e84a34571deee0f1238</td>\n",
              "    </tr>\n",
              "    <tr>\n",
              "      <th>...</th>\n",
              "      <td>...</td>\n",
              "      <td>...</td>\n",
              "    </tr>\n",
              "    <tr>\n",
              "      <th>19995</th>\n",
              "      <td>View this email in your browser \\n  View this ...</td>\n",
              "      <td>9b11afd6a84d3806034d9080f4e9752a</td>\n",
              "    </tr>\n",
              "    <tr>\n",
              "      <th>19996</th>\n",
              "      <td>There are few things nearly every &lt;NORP&gt; can a...</td>\n",
              "      <td>888cacc2d660bf040f04ef1caf6ce844</td>\n",
              "    </tr>\n",
              "    <tr>\n",
              "      <th>19997</th>\n",
              "      <td>FIGHT for the truth by making 1000 % MORE of a...</td>\n",
              "      <td>712dc83f7a455870373c7a9eb30445d7</td>\n",
              "    </tr>\n",
              "    <tr>\n",
              "      <th>19998</th>\n",
              "      <td>I do n't need six- figure checks, but I do nee...</td>\n",
              "      <td>0bf3265244c2c06fff084c5a79a6387c</td>\n",
              "    </tr>\n",
              "    <tr>\n",
              "      <th>19999</th>\n",
              "      <td>When &lt;NORP&gt; Turn Out \\n &lt;&gt;, \\n  At a maskless ...</td>\n",
              "      <td>9b1f0f8d8a5da9840901f214ff59add7</td>\n",
              "    </tr>\n",
              "  </tbody>\n",
              "</table>\n",
              "<p>20000 rows × 2 columns</p>\n",
              "</div>\n",
              "      <button class=\"colab-df-convert\" onclick=\"convertToInteractive('df-5ac6a064-c77b-4e0a-bb64-3c3fa989bd07')\"\n",
              "              title=\"Convert this dataframe to an interactive table.\"\n",
              "              style=\"display:none;\">\n",
              "        \n",
              "  <svg xmlns=\"http://www.w3.org/2000/svg\" height=\"24px\"viewBox=\"0 0 24 24\"\n",
              "       width=\"24px\">\n",
              "    <path d=\"M0 0h24v24H0V0z\" fill=\"none\"/>\n",
              "    <path d=\"M18.56 5.44l.94 2.06.94-2.06 2.06-.94-2.06-.94-.94-2.06-.94 2.06-2.06.94zm-11 1L8.5 8.5l.94-2.06 2.06-.94-2.06-.94L8.5 2.5l-.94 2.06-2.06.94zm10 10l.94 2.06.94-2.06 2.06-.94-2.06-.94-.94-2.06-.94 2.06-2.06.94z\"/><path d=\"M17.41 7.96l-1.37-1.37c-.4-.4-.92-.59-1.43-.59-.52 0-1.04.2-1.43.59L10.3 9.45l-7.72 7.72c-.78.78-.78 2.05 0 2.83L4 21.41c.39.39.9.59 1.41.59.51 0 1.02-.2 1.41-.59l7.78-7.78 2.81-2.81c.8-.78.8-2.07 0-2.86zM5.41 20L4 18.59l7.72-7.72 1.47 1.35L5.41 20z\"/>\n",
              "  </svg>\n",
              "      </button>\n",
              "      \n",
              "  <style>\n",
              "    .colab-df-container {\n",
              "      display:flex;\n",
              "      flex-wrap:wrap;\n",
              "      gap: 12px;\n",
              "    }\n",
              "\n",
              "    .colab-df-convert {\n",
              "      background-color: #E8F0FE;\n",
              "      border: none;\n",
              "      border-radius: 50%;\n",
              "      cursor: pointer;\n",
              "      display: none;\n",
              "      fill: #1967D2;\n",
              "      height: 32px;\n",
              "      padding: 0 0 0 0;\n",
              "      width: 32px;\n",
              "    }\n",
              "\n",
              "    .colab-df-convert:hover {\n",
              "      background-color: #E2EBFA;\n",
              "      box-shadow: 0px 1px 2px rgba(60, 64, 67, 0.3), 0px 1px 3px 1px rgba(60, 64, 67, 0.15);\n",
              "      fill: #174EA6;\n",
              "    }\n",
              "\n",
              "    [theme=dark] .colab-df-convert {\n",
              "      background-color: #3B4455;\n",
              "      fill: #D2E3FC;\n",
              "    }\n",
              "\n",
              "    [theme=dark] .colab-df-convert:hover {\n",
              "      background-color: #434B5C;\n",
              "      box-shadow: 0px 1px 3px 1px rgba(0, 0, 0, 0.15);\n",
              "      filter: drop-shadow(0px 1px 2px rgba(0, 0, 0, 0.3));\n",
              "      fill: #FFFFFF;\n",
              "    }\n",
              "  </style>\n",
              "\n",
              "      <script>\n",
              "        const buttonEl =\n",
              "          document.querySelector('#df-5ac6a064-c77b-4e0a-bb64-3c3fa989bd07 button.colab-df-convert');\n",
              "        buttonEl.style.display =\n",
              "          google.colab.kernel.accessAllowed ? 'block' : 'none';\n",
              "\n",
              "        async function convertToInteractive(key) {\n",
              "          const element = document.querySelector('#df-5ac6a064-c77b-4e0a-bb64-3c3fa989bd07');\n",
              "          const dataTable =\n",
              "            await google.colab.kernel.invokeFunction('convertToInteractive',\n",
              "                                                     [key], {});\n",
              "          if (!dataTable) return;\n",
              "\n",
              "          const docLinkHtml = 'Like what you see? Visit the ' +\n",
              "            '<a target=\"_blank\" href=https://colab.research.google.com/notebooks/data_table.ipynb>data table notebook</a>'\n",
              "            + ' to learn more about interactive tables.';\n",
              "          element.innerHTML = '';\n",
              "          dataTable['output_type'] = 'display_data';\n",
              "          await google.colab.output.renderOutput(dataTable, element);\n",
              "          const docLink = document.createElement('div');\n",
              "          docLink.innerHTML = docLinkHtml;\n",
              "          element.appendChild(docLink);\n",
              "        }\n",
              "      </script>\n",
              "    </div>\n",
              "  </div>\n",
              "  "
            ],
            "text/plain": [
              "                                              email_text                         uid_email\n",
              "0      20,000 <GPE> <GPE> signatures needed \\n 20,000...  5dfbe09ce5b500dd3dcb9f93c8fb185f\n",
              "1      We 've worked way too hard and given way too m...  07e48f4183b98420a18503791fb412f6\n",
              "2      If you use your 800%-MATCH \\n  <> \\n <ORG> <OR...  b58c8607d96a414db0e9cc10108c35f5\n",
              "3      <PERSON>, a proposal for Vote- by- <> threaten...  3901d9539d69ada89e5c82e2f1ca950d\n",
              "4      The <ORG> <ORG> <ORG> is under immediate threa...  6a3e8e6f31381e84a34571deee0f1238\n",
              "...                                                  ...                               ...\n",
              "19995  View this email in your browser \\n  View this ...  9b11afd6a84d3806034d9080f4e9752a\n",
              "19996  There are few things nearly every <NORP> can a...  888cacc2d660bf040f04ef1caf6ce844\n",
              "19997  FIGHT for the truth by making 1000 % MORE of a...  712dc83f7a455870373c7a9eb30445d7\n",
              "19998  I do n't need six- figure checks, but I do nee...  0bf3265244c2c06fff084c5a79a6387c\n",
              "19999  When <NORP> Turn Out \\n <>, \\n  At a maskless ...  9b1f0f8d8a5da9840901f214ff59add7\n",
              "\n",
              "[20000 rows x 2 columns]"
            ]
          },
          "metadata": {},
          "execution_count": 7
        }
      ],
      "source": [
        "test"
      ]
    },
    {
      "cell_type": "markdown",
      "metadata": {
        "id": "LnvPgOOWKPGv"
      },
      "source": [
        "## Part 1: Text Data\n",
        "\n",
        "### 1.1: Tokenization"
      ]
    },
    {
      "cell_type": "code",
      "execution_count": 8,
      "metadata": {
        "id": "YtqR-x1GKPGv"
      },
      "outputs": [],
      "source": [
        "s = 'Before we can start classifying, we need to turn our text data into some numeric representation that classifiers can work with. In class, we talked about using a bag of words representation—i.e., each document is represented as a vector.'"
      ]
    },
    {
      "cell_type": "code",
      "execution_count": 10,
      "metadata": {
        "id": "U96B5fYFKPGw"
      },
      "outputs": [],
      "source": [
        "def tokenize(string):\n",
        "    return string.split()"
      ]
    },
    {
      "cell_type": "code",
      "execution_count": 11,
      "metadata": {
        "id": "Bo0awn-AKPGx"
      },
      "outputs": [],
      "source": [
        "# tokenize(s)"
      ]
    },
    {
      "cell_type": "code",
      "execution_count": 12,
      "metadata": {
        "id": "R7dRXztnKPGx"
      },
      "outputs": [],
      "source": [
        "import re\n",
        "\n",
        "def better_tokenize(string):\n",
        "    pattern = r\"\\w+\\w\"\n",
        "    return re.findall(pattern, string.lower())\n",
        "\n",
        "### Consider removing\n",
        "# Spacy entity names (e.g. PERSON, NORP)\n",
        "# Stopwords\n",
        "\n",
        "# def prune(tokens):\n",
        "#     spacy = ['person', 'norp', 'org', 'gpe']\n",
        "#     stopwords = []\n",
        "#     return None"
      ]
    },
    {
      "cell_type": "code",
      "execution_count": 13,
      "metadata": {
        "id": "vTqPsyWSKPGx"
      },
      "outputs": [],
      "source": [
        "# better_tokenize(s)"
      ]
    },
    {
      "cell_type": "markdown",
      "metadata": {
        "id": "iX0TDYnWKPGy"
      },
      "source": [
        "### 1.2: Building the Term-Document Matrix"
      ]
    },
    {
      "cell_type": "markdown",
      "metadata": {
        "id": "OCx11i4rKPGy"
      },
      "source": [
        "This section uses four functions to build the term-document matrices for each data set. They include:\n",
        "\n",
        "- term_frequency()\n",
        "- build_docs()\n",
        "- create_vocab()\n",
        "- create_matrix()"
      ]
    },
    {
      "cell_type": "code",
      "execution_count": 14,
      "metadata": {
        "id": "2uPv9uBfKPGy"
      },
      "outputs": [],
      "source": [
        "# import sparse module from SciPy package \n",
        "from scipy import sparse"
      ]
    },
    {
      "cell_type": "code",
      "execution_count": 15,
      "metadata": {
        "id": "sKskmm1AKPGy"
      },
      "outputs": [],
      "source": [
        "def term_frequency(df, minimum_word_frequency=10):\n",
        "    emails = list(df['email_text'])\n",
        "    \n",
        "    #Build Term Frequency Dictionary\n",
        "    cnt = Counter()\n",
        "    for email in tqdm(emails):\n",
        "        tokens = better_tokenize(email)\n",
        "        for t in tokens:\n",
        "            cnt[t] += 1\n",
        "\n",
        "    #Remove rare words\n",
        "    minimum_word_frequency = 10\n",
        "    only_common = Counter({k: v for k, v in cnt.items() if v >= minimum_word_frequency})\n",
        "    \n",
        "    return only_common"
      ]
    },
    {
      "cell_type": "code",
      "execution_count": 16,
      "metadata": {
        "id": "QazDSvcRKPGz"
      },
      "outputs": [],
      "source": [
        "def build_docs(df, term_freq):\n",
        "    emails = list(df['email_text'])\n",
        "    \n",
        "    docs = {}\n",
        "    counter = 1\n",
        "    \n",
        "    for email in tqdm(emails):\n",
        "        tokens = better_tokenize(email)    \n",
        "        for t in tokens:\n",
        "            if t not in term_freq.keys(): tokens.remove(t)\n",
        "        docs[counter] = tokens\n",
        "        counter += 1\n",
        "\n",
        "    return docs"
      ]
    },
    {
      "cell_type": "code",
      "execution_count": 16,
      "metadata": {
        "id": "8QuHEhcYKPGz"
      },
      "outputs": [],
      "source": [
        ""
      ]
    },
    {
      "cell_type": "code",
      "execution_count": 17,
      "metadata": {
        "id": "nA6OtOphKPGz"
      },
      "outputs": [],
      "source": [
        "def create_vocab(docs):\n",
        "    n_nonzero = 0 #number of nonzero values in the matrix\n",
        "    vocab = set()\n",
        "\n",
        "    for docterms in docs.values():\n",
        "        unique_terms = set(docterms)    # all unique terms of this doc\n",
        "        vocab |= unique_terms           # set union: add unique terms of this doc\n",
        "        n_nonzero += len(unique_terms)  # add count of unique terms in this doc\n",
        "\n",
        "    docnames = np.array(list(docs.keys()))\n",
        "    vocab = np.array(list(vocab))\n",
        "    vocab_sorter = np.argsort(vocab)\n",
        "\n",
        "    ndocs = len(docnames) #Matrix rows\n",
        "    nvocab = len(vocab) #Matrix columns\n",
        "\n",
        "    data = np.empty(n_nonzero, dtype=np.intc)\n",
        "    rows = np.empty(n_nonzero, dtype=np.intc)\n",
        "    cols = np.empty(n_nonzero, dtype=np.intc)\n",
        "    \n",
        "    print(n_nonzero)\n",
        "    \n",
        "    return vocab, vocab_sorter, data, rows, cols, ndocs, nvocab"
      ]
    },
    {
      "cell_type": "code",
      "execution_count": 17,
      "metadata": {
        "id": "YC-1XcYaKPGz"
      },
      "outputs": [],
      "source": [
        ""
      ]
    },
    {
      "cell_type": "code",
      "execution_count": 18,
      "metadata": {
        "id": "k8QzZhBQKPGz"
      },
      "outputs": [],
      "source": [
        "def create_matrix(docs, vocab, vocab_sorter, data, rows, cols, ndocs, nvocab):\n",
        "    current_index = 0\n",
        "    \n",
        "    docnames = np.arange(1, len(docs) + 1)\n",
        "\n",
        "    for docname, terms in tqdm(docs.items()):\n",
        "#         term_indices = vocab_sorter[np.searchsorted(vocab, terms, sorter=vocab_sorter)]\n",
        "        try:\n",
        "            term_indices = vocab_sorter[np.searchsorted(vocab, terms, sorter=vocab_sorter)]\n",
        "        except:\n",
        "            print(\"Error with doc:\")\n",
        "            print(docname)\n",
        "            print(len(terms))\n",
        "            print(terms)\n",
        "            \n",
        "        uniq_indices, counts = np.unique(term_indices, return_counts=True)\n",
        "        n_vals = len(uniq_indices)\n",
        "        ind_end = current_index + n_vals\n",
        "\n",
        "        data[current_index:ind_end] = counts\n",
        "        cols[current_index:ind_end] = uniq_indices\n",
        "        doc_idx = np.where(docnames == docname)\n",
        "        rows[current_index:ind_end] = np.repeat(doc_idx, n_vals)\n",
        "\n",
        "        current_index = ind_end\n",
        "        \n",
        "#     print(ndocs)\n",
        "#     print(nvocab)\n",
        "    \n",
        "#     print(len(data))\n",
        "#     print(len(rows))\n",
        "#     print(len(cols))\n",
        "    \n",
        "    sparse_matrix = sparse.csr_matrix((data, (rows, cols)), shape=(ndocs, nvocab), dtype=np.intc)\n",
        "    return sparse_matrix"
      ]
    },
    {
      "cell_type": "markdown",
      "metadata": {
        "id": "das-UiEbKPG0"
      },
      "source": [
        "Training Data"
      ]
    },
    {
      "cell_type": "code",
      "execution_count": 19,
      "metadata": {
        "colab": {
          "base_uri": "https://localhost:8080/"
        },
        "id": "fzvxbmjfKPG0",
        "outputId": "b24adc52-2b07-4cc1-f5ce-56f36bd19b18"
      },
      "outputs": [
        {
          "output_type": "stream",
          "name": "stderr",
          "text": [
            "100%|██████████| 59999/59999 [00:17<00:00, 3346.26it/s]\n",
            "100%|██████████| 59999/59999 [00:15<00:00, 3765.39it/s]\n"
          ]
        },
        {
          "output_type": "stream",
          "name": "stdout",
          "text": [
            "9891710\n"
          ]
        },
        {
          "output_type": "stream",
          "name": "stderr",
          "text": [
            "100%|██████████| 59999/59999 [00:21<00:00, 2764.68it/s]\n"
          ]
        }
      ],
      "source": [
        "term_freq_train = term_frequency(df=train)\n",
        "docs_train = build_docs(train, term_freq_train)\n",
        "\n",
        "vocab, vocab_sorter, data, rows, cols, ndocs, nvocab = create_vocab(docs_train)\n",
        "\n",
        "sparse_matrix_train = create_matrix(docs_train, vocab, vocab_sorter, data, rows, cols, ndocs, nvocab)"
      ]
    },
    {
      "cell_type": "code",
      "execution_count": 20,
      "metadata": {
        "colab": {
          "base_uri": "https://localhost:8080/"
        },
        "id": "bxAroJ93KPG0",
        "outputId": "6eb0c6d1-7ffe-48b4-ac1d-465d64ad84c6"
      },
      "outputs": [
        {
          "output_type": "execute_result",
          "data": {
            "text/plain": [
              "<59999x15389 sparse matrix of type '<class 'numpy.int32'>'\n",
              "\twith 9891710 stored elements in Compressed Sparse Row format>"
            ]
          },
          "metadata": {},
          "execution_count": 20
        }
      ],
      "source": [
        "sparse_matrix_train"
      ]
    },
    {
      "cell_type": "markdown",
      "metadata": {
        "id": "aDPQddKSKPG0"
      },
      "source": [
        "Development/Validation Data"
      ]
    },
    {
      "cell_type": "code",
      "execution_count": 21,
      "metadata": {
        "colab": {
          "base_uri": "https://localhost:8080/"
        },
        "id": "jtOWITAbKPG1",
        "outputId": "7b3db71c-bd37-4cfd-c415-ce64b03b4dfe"
      },
      "outputs": [
        {
          "output_type": "stream",
          "name": "stderr",
          "text": [
            "100%|██████████| 20000/20000 [00:05<00:00, 3569.28it/s]\n",
            "100%|██████████| 20000/20000 [00:05<00:00, 3432.40it/s]\n"
          ]
        },
        {
          "output_type": "stream",
          "name": "stdout",
          "text": [
            "3276049\n"
          ]
        }
      ],
      "source": [
        "term_freq_dev = term_frequency(df=dev)\n",
        "docs_dev = build_docs(dev, term_freq_dev)\n",
        "\n",
        "vocab_dev, vocab_sorter_dev, data_dev, rows_dev, cols_dev, ndocs_dev, nvocab_dev = create_vocab(docs_dev)"
      ]
    },
    {
      "cell_type": "code",
      "execution_count": 22,
      "metadata": {
        "colab": {
          "base_uri": "https://localhost:8080/"
        },
        "id": "ZsKAsKlfKPG1",
        "outputId": "ec9f2fe2-f91e-4627-f021-4b1f4fb64e4a"
      },
      "outputs": [
        {
          "output_type": "stream",
          "name": "stderr",
          "text": [
            "100%|██████████| 20000/20000 [00:06<00:00, 3187.27it/s]\n"
          ]
        }
      ],
      "source": [
        "ndocs_dev = len(docs_dev)\n",
        "\n",
        "sparse_matrix_dev = create_matrix(docs_dev, vocab, vocab_sorter, data_dev, rows_dev, cols_dev, ndocs_dev, nvocab)"
      ]
    },
    {
      "cell_type": "code",
      "execution_count": 23,
      "metadata": {
        "colab": {
          "base_uri": "https://localhost:8080/"
        },
        "id": "TXy4SNkDKPG1",
        "outputId": "b24f7f3b-9f5b-4380-b09a-3866aae326d8"
      },
      "outputs": [
        {
          "output_type": "execute_result",
          "data": {
            "text/plain": [
              "<20000x15389 sparse matrix of type '<class 'numpy.int32'>'\n",
              "\twith 3276016 stored elements in Compressed Sparse Row format>"
            ]
          },
          "metadata": {},
          "execution_count": 23
        }
      ],
      "source": [
        "sparse_matrix_dev"
      ]
    },
    {
      "cell_type": "markdown",
      "metadata": {
        "id": "mwqXio25KPG1"
      },
      "source": [
        "Testing Data"
      ]
    },
    {
      "cell_type": "code",
      "execution_count": 24,
      "metadata": {
        "scrolled": true,
        "colab": {
          "base_uri": "https://localhost:8080/"
        },
        "id": "6wybOZGWKPG1",
        "outputId": "2fa65509-b29b-4017-e2b2-01cf077e2841"
      },
      "outputs": [
        {
          "output_type": "stream",
          "name": "stderr",
          "text": [
            "100%|██████████| 20000/20000 [00:05<00:00, 3619.77it/s]\n",
            "100%|██████████| 20000/20000 [00:05<00:00, 3685.84it/s]\n"
          ]
        },
        {
          "output_type": "stream",
          "name": "stdout",
          "text": [
            "3271543\n"
          ]
        }
      ],
      "source": [
        "term_freq_test = term_frequency(df=test)\n",
        "docs_test = build_docs(test, term_freq_test)\n",
        "\n",
        "vocab_test, vocab_sorter_test, data_test, rows_test, cols_test, ndocs_test, nvocab_test = create_vocab(docs_test)"
      ]
    },
    {
      "cell_type": "code",
      "execution_count": 26,
      "metadata": {
        "colab": {
          "base_uri": "https://localhost:8080/"
        },
        "id": "OFy0hMAxKPG1",
        "outputId": "7636db2d-1a1b-40cd-bbed-20d5f82d0380"
      },
      "outputs": [
        {
          "output_type": "stream",
          "name": "stderr",
          "text": [
            " 59%|█████▊    | 11709/20000 [00:03<00:02, 3116.49it/s]"
          ]
        },
        {
          "output_type": "stream",
          "name": "stdout",
          "text": [
            "Error with doc:\n",
            "11108\n",
            "454\n",
            "['person', 'is', 'going', 'to', 'be', 'the', 'top', 'target', 'of', 'the', 'as', 'the', 'org', 'prepares', 'to', 'confirm', 'person', 'nominee', 'person', 'person', 'needs', 'to', 'know', 'you', 're', 'with', 'him', 'his', 'liberal', 'opponent', 'has', 'raised', 'more', 'in', 'three', 'months', 'than', 'most', 'other', 'races', 'have', 'raised', 'in', 'an', 'entire', 'year', 'the', 'amount', 'of', 'money', 'the', 'is', 'raising', 'and', 'spending', 'to', 'defeat', 'person', 'person', 'is', 'unprecedented', 'and', 'person', 'it', 'only', 'going', 'to', 'get', 'worse', 'this', 'week', 'as', 'chairman', 'of', 'the', 'org', 'org', 'org', 'person', 'is', 'going', 'to', 'be', 'the', 'top', 'target', 'of', 'the', 'as', 'the', 'org', 'prepares', 'to', 'confirm', 'person', 'nominee', 'person', 'person', 'person', 'the', 'has', 'millions', 'at', 'their', 'disposal', 'to', 'attack', 'person', 'person', 'but', 'we', 're', 'only', 'asking', 'for', 'or', '10', 'to', 'show', 'person', 'that', 'you', 're', 'with', 'him', 'during', 'this', 'important', 'week', 'person', 'person', 'is', 'counting', 'on', 'you', 'alex', 'please', 'help', 'however', 'you', 'can', 'url', 'from', 'person', 'person', 'date', 'date', 'date', '11', '2020', 'subject', '𝟻𝟽', 'url', 'alex', 'my', 'norp', 'opponent', 'fundraising', 'numbers', 'are', 'out', 'and', 'they', 're', 'big', 'it', 'becoming', 'clear', 'the', 'radical', 'is', 'determined', 'to', 'spend', 'their', 'way', 'to', 'victory', 'person', 'person', 'raised', '57', 'million', 'in', 'the', 'last', 'three', 'months', 'the', 'most', 'ever', 'raised', 'in', 'single', 'quarter', 'by', 'any', 'org', 'candidate', 'in', 'gpe', 'history', 'this', 'brings', 'his', 'grand', 'total', 'to', '86', 'million', 'to', 'fund', 'his', 'massive', 'negative', 'ad', 'campaign', 'against', 'me', 'from', 'their', 'nationwide', 'network', 'of', 'elite', 'liberal', 'bankrollers', 'the', 'is', 'pouring', 'unprecedented', 'amounts', 'into', 'this', 'race', 'determined', 'to', 'defeat', 'me', 'and', 'seize', 'the', 'majority', 'in', 'the', 'org', 'org', 'we', 'will', 'win', 'this', 'pivotal', 'race', 'if', 'we', 'have', 'the', 'resources', 'needed', 'to', 'counter', 'the', 'norp', 'huge', 'media', 'campaign', 'with', 'our', 'own', 'effective', 'messaging', 'that', 'why', 'coming', 'to', 'you', 'today', 'will', 'you', 'please', 'answer', 'the', 'call', 'with', 'an', 'urgent', 'contribution', 'chip', 'in', 'chip', 'in', '10', 'chip', 'in', '25', 'chip', 'in', '35', 'let', 'show', 'the', 'they', 'ca', 'buy', 'this', 'org', 'seat', 'or', 'the', 'org', 'majority', 'with', 'their', 'liberal', 'millions', 'take', 'action', 'now', 'thanks', 'donate', 'conservative', 'leader', 'who', 'gets', 'things', 'done', 'person', 'person', 'is', 'fighter', 'who', 'does', 'back', 'down', 'from', 'challenge', 'he', 'conservative', 'who', 'gets', 'things', 'done', 'he', 'leader', 'who', 'puts', 'our', 'country', 'above', 'all', 'in', 'the', 'org', 'gpe', 'gpe', 'person', 'person', 'has', 'earned', 'reputation', 'as', 'conservative', 'problem', 'solver', 'and', 'leader', 'who', 'gets', 'things', 'done', 'he', 'is', 'great', 'friend', 'to', 'our', 'men', 'and', 'women', 'serving', 'in', 'uniform', 'respected', 'voice', 'on', 'national', 'security', 'matters', 'leading', 'advocate', 'for', 'cutting', 'the', 'out', 'of', 'control', 'spending', 'in', 'gpe', 'and', 'champion', 'for', 'confirming', 'conservative', 'judges', 'support', 'person', 'we', 'want', 'to', 'make', 'sure', 'you', 're', 'proud', 'member', 'of', 'person', 'person', 'and', 'we', 'do', 'want', 'to', 'bother', 'you', 'to', 'receive', 'only', 'the', 'most', 'important', 'emails', 'please', 'click', 'here', 'we', 'hate', 'to', 'see', 'you', 'go', 'but', 'if', 'you', 'like', 'to', 'unsubscribe', 'please', 'click', 'here', 'paid', 'for', 'by']\n"
          ]
        },
        {
          "output_type": "stream",
          "name": "stderr",
          "text": [
            "100%|██████████| 20000/20000 [00:06<00:00, 3189.68it/s]\n"
          ]
        }
      ],
      "source": [
        "ndocs_test = len(docs_test)\n",
        "\n",
        "sparse_matrix_test = create_matrix(docs_test, vocab, vocab_sorter, data_test, rows_test, cols_test, ndocs_test, nvocab)"
      ]
    },
    {
      "cell_type": "code",
      "execution_count": 27,
      "metadata": {
        "colab": {
          "base_uri": "https://localhost:8080/"
        },
        "id": "cn7h9C6uKPG2",
        "outputId": "8fb4b485-c899-49a3-ee04-11eb2e93a5b3"
      },
      "outputs": [
        {
          "output_type": "execute_result",
          "data": {
            "text/plain": [
              "<20000x15389 sparse matrix of type '<class 'numpy.int32'>'\n",
              "\twith 3271395 stored elements in Compressed Sparse Row format>"
            ]
          },
          "metadata": {},
          "execution_count": 27
        }
      ],
      "source": [
        "sparse_matrix_test"
      ]
    },
    {
      "cell_type": "code",
      "execution_count": null,
      "metadata": {
        "id": "gUnn9Kn6KPG2"
      },
      "outputs": [],
      "source": [
        ""
      ]
    },
    {
      "cell_type": "code",
      "execution_count": null,
      "metadata": {
        "id": "DjN-FVbPKPG2"
      },
      "outputs": [],
      "source": [
        ""
      ]
    },
    {
      "cell_type": "markdown",
      "metadata": {
        "id": "cDwRtsNtKPG2"
      },
      "source": [
        "## Part 2: Logistic Regression in numpy"
      ]
    },
    {
      "cell_type": "code",
      "execution_count": 28,
      "metadata": {
        "id": "8T6RvjPcKPG2"
      },
      "outputs": [],
      "source": [
        "def sigmoid(X):\n",
        "    return 1 / (1 + np.exp(-X))"
      ]
    },
    {
      "cell_type": "code",
      "execution_count": 29,
      "metadata": {
        "id": "DIHhDHrFKPG2"
      },
      "outputs": [],
      "source": [
        "def log_likelihood(b, X, y):\n",
        "    '''\n",
        "    Calculates the log likelihood (aka maximum likelihood) \n",
        "    of the training data given Beta parameters    \n",
        "    '''\n",
        "    return np.dot(y, X*b) - np.log(1 + np.exp(X*b)).sum()"
      ]
    },
    {
      "cell_type": "code",
      "execution_count": 30,
      "metadata": {
        "id": "50cYdWGFKPG2"
      },
      "outputs": [],
      "source": [
        "def compute_gradient(b, X, y):\n",
        "    return X * (sigmoid(np.dot(b, X)) - y)"
      ]
    },
    {
      "cell_type": "code",
      "execution_count": 31,
      "metadata": {
        "id": "51q5LPVAKPG2"
      },
      "outputs": [],
      "source": [
        "def logistic_regression(X, y, learning_rate, num_steps):\n",
        "    '''\n",
        "    Logistic regression function that takes in:\n",
        "    \n",
        "    – a matrix X where each row is a vector that has the features for that instance\n",
        "    – a vector Y containing the class of the row\n",
        "    – learning rate which is a parameter to control how much you change the β values each step\n",
        "    – num step how many steps to update β before stopping\n",
        "    \n",
        "    '''\n",
        "    ### Initialize parameters (betas)\n",
        "#     betas = (np.random.random(X.shape[1]) - 0.5) / 100\n",
        "    betas = np.zeros(X.shape[1])    \n",
        "    \n",
        "    lls = []\n",
        "    \n",
        "    idx = 0\n",
        "    \n",
        "    for i in range(num_steps):\n",
        "        betas -= learning_rate * compute_gradient(b=betas, X=X[idx].toarray()[0], y=y[idx])\n",
        "        \n",
        "        ### Compute log likelihood to observe the loss rate (for graphing purposes)\n",
        "        if i % 100 == 100 - 1: #any time the remainder of i-100=99: \n",
        "            ll = log_likelihood(b=betas, X=X, y=y)\n",
        "            lls.append(ll)\n",
        "            print(f\"Turn {i + 1}: ll: {ll}\")\n",
        "        \n",
        "#         idx += 1\n",
        "        idx = (idx + 1) % X.shape[0]\n",
        "    \n",
        "    return (betas, lls)"
      ]
    },
    {
      "cell_type": "markdown",
      "metadata": {
        "id": "4Se_VrC_KPG3"
      },
      "source": [
        "Training Data and Log-Likelihood Mapping"
      ]
    },
    {
      "cell_type": "code",
      "execution_count": 32,
      "metadata": {
        "scrolled": true,
        "colab": {
          "base_uri": "https://localhost:8080/"
        },
        "id": "ZLLw4UACKPG3",
        "outputId": "944ec9be-3b93-4780-db0a-673d13bf443c"
      },
      "outputs": [
        {
          "output_type": "stream",
          "name": "stdout",
          "text": [
            "Turn 100: ll: -35703.508718314646\n",
            "Turn 200: ll: -33736.60604505231\n",
            "Turn 300: ll: -32211.096881655365\n",
            "Turn 400: ll: -31455.449747412582\n",
            "Turn 500: ll: -30979.55760565806\n",
            "Turn 600: ll: -30625.516861198033\n",
            "Turn 700: ll: -30138.87604433771\n",
            "Turn 800: ll: -29988.44506420396\n",
            "Turn 900: ll: -29936.20330069991\n",
            "Turn 1000: ll: -29839.31606744809\n"
          ]
        }
      ],
      "source": [
        "X = sparse_matrix_train\n",
        "y = list(train['labels'])\n",
        "\n",
        "model = logistic_regression(X, y, learning_rate=1e-5, num_steps=1000)"
      ]
    },
    {
      "cell_type": "code",
      "execution_count": 33,
      "metadata": {
        "colab": {
          "base_uri": "https://localhost:8080/"
        },
        "id": "0ZSXkwjYKPG3",
        "outputId": "62103864-490d-4376-c36b-1e4ff84aa069"
      },
      "outputs": [
        {
          "output_type": "execute_result",
          "data": {
            "text/plain": [
              "array([0.00000000e+00, 8.70712706e-06, 9.94368107e-05, ...,\n",
              "       9.78785038e-06, 6.89300641e-06, 0.00000000e+00])"
            ]
          },
          "metadata": {},
          "execution_count": 33
        }
      ],
      "source": [
        "betas = model[0]\n",
        "betas"
      ]
    },
    {
      "cell_type": "code",
      "execution_count": 34,
      "metadata": {
        "id": "ay-5n_WRKPG3"
      },
      "outputs": [],
      "source": [
        "lls = model[1]"
      ]
    },
    {
      "cell_type": "code",
      "execution_count": 35,
      "metadata": {
        "colab": {
          "base_uri": "https://localhost:8080/",
          "height": 650
        },
        "id": "zj5ckEabKPG3",
        "outputId": "13bc4454-ede7-4da3-fd8f-9fb3343dcb2f"
      },
      "outputs": [
        {
          "output_type": "error",
          "ename": "ValueError",
          "evalue": "ignored",
          "traceback": [
            "\u001b[0;31m---------------------------------------------------------------------------\u001b[0m",
            "\u001b[0;31mValueError\u001b[0m                                Traceback (most recent call last)",
            "\u001b[0;32m<ipython-input-35-fbac427f72dd>\u001b[0m in \u001b[0;36m<module>\u001b[0;34m()\u001b[0m\n\u001b[1;32m      6\u001b[0m \u001b[0;34m\u001b[0m\u001b[0m\n\u001b[1;32m      7\u001b[0m \u001b[0mplt\u001b[0m\u001b[0;34m.\u001b[0m\u001b[0mfigure\u001b[0m\u001b[0;34m(\u001b[0m\u001b[0;34m)\u001b[0m\u001b[0;34m\u001b[0m\u001b[0;34m\u001b[0m\u001b[0m\n\u001b[0;32m----> 8\u001b[0;31m \u001b[0mplt\u001b[0m\u001b[0;34m.\u001b[0m\u001b[0mplot\u001b[0m\u001b[0;34m(\u001b[0m\u001b[0mx_axis\u001b[0m\u001b[0;34m,\u001b[0m \u001b[0mlls\u001b[0m\u001b[0;34m)\u001b[0m\u001b[0;34m\u001b[0m\u001b[0;34m\u001b[0m\u001b[0m\n\u001b[0m\u001b[1;32m      9\u001b[0m \u001b[0mplt\u001b[0m\u001b[0;34m.\u001b[0m\u001b[0mtitle\u001b[0m\u001b[0;34m(\u001b[0m\u001b[0;34m\"Convergence Graph of Log-Likelihood\"\u001b[0m\u001b[0;34m)\u001b[0m\u001b[0;34m\u001b[0m\u001b[0;34m\u001b[0m\u001b[0m\n\u001b[1;32m     10\u001b[0m \u001b[0mplt\u001b[0m\u001b[0;34m.\u001b[0m\u001b[0mxlim\u001b[0m\u001b[0;34m(\u001b[0m\u001b[0;34m-\u001b[0m\u001b[0;36m50\u001b[0m\u001b[0;34m,\u001b[0m \u001b[0;36m60000\u001b[0m\u001b[0;34m)\u001b[0m\u001b[0;34m\u001b[0m\u001b[0;34m\u001b[0m\u001b[0m\n",
            "\u001b[0;32m/usr/local/lib/python3.7/dist-packages/matplotlib/pyplot.py\u001b[0m in \u001b[0;36mplot\u001b[0;34m(scalex, scaley, data, *args, **kwargs)\u001b[0m\n\u001b[1;32m   2761\u001b[0m     return gca().plot(\n\u001b[1;32m   2762\u001b[0m         *args, scalex=scalex, scaley=scaley, **({\"data\": data} if data\n\u001b[0;32m-> 2763\u001b[0;31m         is not None else {}), **kwargs)\n\u001b[0m\u001b[1;32m   2764\u001b[0m \u001b[0;34m\u001b[0m\u001b[0m\n\u001b[1;32m   2765\u001b[0m \u001b[0;34m\u001b[0m\u001b[0m\n",
            "\u001b[0;32m/usr/local/lib/python3.7/dist-packages/matplotlib/axes/_axes.py\u001b[0m in \u001b[0;36mplot\u001b[0;34m(self, scalex, scaley, data, *args, **kwargs)\u001b[0m\n\u001b[1;32m   1645\u001b[0m         \"\"\"\n\u001b[1;32m   1646\u001b[0m         \u001b[0mkwargs\u001b[0m \u001b[0;34m=\u001b[0m \u001b[0mcbook\u001b[0m\u001b[0;34m.\u001b[0m\u001b[0mnormalize_kwargs\u001b[0m\u001b[0;34m(\u001b[0m\u001b[0mkwargs\u001b[0m\u001b[0;34m,\u001b[0m \u001b[0mmlines\u001b[0m\u001b[0;34m.\u001b[0m\u001b[0mLine2D\u001b[0m\u001b[0;34m)\u001b[0m\u001b[0;34m\u001b[0m\u001b[0;34m\u001b[0m\u001b[0m\n\u001b[0;32m-> 1647\u001b[0;31m         \u001b[0mlines\u001b[0m \u001b[0;34m=\u001b[0m \u001b[0;34m[\u001b[0m\u001b[0;34m*\u001b[0m\u001b[0mself\u001b[0m\u001b[0;34m.\u001b[0m\u001b[0m_get_lines\u001b[0m\u001b[0;34m(\u001b[0m\u001b[0;34m*\u001b[0m\u001b[0margs\u001b[0m\u001b[0;34m,\u001b[0m \u001b[0mdata\u001b[0m\u001b[0;34m=\u001b[0m\u001b[0mdata\u001b[0m\u001b[0;34m,\u001b[0m \u001b[0;34m**\u001b[0m\u001b[0mkwargs\u001b[0m\u001b[0;34m)\u001b[0m\u001b[0;34m]\u001b[0m\u001b[0;34m\u001b[0m\u001b[0;34m\u001b[0m\u001b[0m\n\u001b[0m\u001b[1;32m   1648\u001b[0m         \u001b[0;32mfor\u001b[0m \u001b[0mline\u001b[0m \u001b[0;32min\u001b[0m \u001b[0mlines\u001b[0m\u001b[0;34m:\u001b[0m\u001b[0;34m\u001b[0m\u001b[0;34m\u001b[0m\u001b[0m\n\u001b[1;32m   1649\u001b[0m             \u001b[0mself\u001b[0m\u001b[0;34m.\u001b[0m\u001b[0madd_line\u001b[0m\u001b[0;34m(\u001b[0m\u001b[0mline\u001b[0m\u001b[0;34m)\u001b[0m\u001b[0;34m\u001b[0m\u001b[0;34m\u001b[0m\u001b[0m\n",
            "\u001b[0;32m/usr/local/lib/python3.7/dist-packages/matplotlib/axes/_base.py\u001b[0m in \u001b[0;36m__call__\u001b[0;34m(self, *args, **kwargs)\u001b[0m\n\u001b[1;32m    214\u001b[0m                 \u001b[0mthis\u001b[0m \u001b[0;34m+=\u001b[0m \u001b[0margs\u001b[0m\u001b[0;34m[\u001b[0m\u001b[0;36m0\u001b[0m\u001b[0;34m]\u001b[0m\u001b[0;34m,\u001b[0m\u001b[0;34m\u001b[0m\u001b[0;34m\u001b[0m\u001b[0m\n\u001b[1;32m    215\u001b[0m                 \u001b[0margs\u001b[0m \u001b[0;34m=\u001b[0m \u001b[0margs\u001b[0m\u001b[0;34m[\u001b[0m\u001b[0;36m1\u001b[0m\u001b[0;34m:\u001b[0m\u001b[0;34m]\u001b[0m\u001b[0;34m\u001b[0m\u001b[0;34m\u001b[0m\u001b[0m\n\u001b[0;32m--> 216\u001b[0;31m             \u001b[0;32myield\u001b[0m \u001b[0;32mfrom\u001b[0m \u001b[0mself\u001b[0m\u001b[0;34m.\u001b[0m\u001b[0m_plot_args\u001b[0m\u001b[0;34m(\u001b[0m\u001b[0mthis\u001b[0m\u001b[0;34m,\u001b[0m \u001b[0mkwargs\u001b[0m\u001b[0;34m)\u001b[0m\u001b[0;34m\u001b[0m\u001b[0;34m\u001b[0m\u001b[0m\n\u001b[0m\u001b[1;32m    217\u001b[0m \u001b[0;34m\u001b[0m\u001b[0m\n\u001b[1;32m    218\u001b[0m     \u001b[0;32mdef\u001b[0m \u001b[0mget_next_color\u001b[0m\u001b[0;34m(\u001b[0m\u001b[0mself\u001b[0m\u001b[0;34m)\u001b[0m\u001b[0;34m:\u001b[0m\u001b[0;34m\u001b[0m\u001b[0;34m\u001b[0m\u001b[0m\n",
            "\u001b[0;32m/usr/local/lib/python3.7/dist-packages/matplotlib/axes/_base.py\u001b[0m in \u001b[0;36m_plot_args\u001b[0;34m(self, tup, kwargs)\u001b[0m\n\u001b[1;32m    340\u001b[0m \u001b[0;34m\u001b[0m\u001b[0m\n\u001b[1;32m    341\u001b[0m         \u001b[0;32mif\u001b[0m \u001b[0mx\u001b[0m\u001b[0;34m.\u001b[0m\u001b[0mshape\u001b[0m\u001b[0;34m[\u001b[0m\u001b[0;36m0\u001b[0m\u001b[0;34m]\u001b[0m \u001b[0;34m!=\u001b[0m \u001b[0my\u001b[0m\u001b[0;34m.\u001b[0m\u001b[0mshape\u001b[0m\u001b[0;34m[\u001b[0m\u001b[0;36m0\u001b[0m\u001b[0;34m]\u001b[0m\u001b[0;34m:\u001b[0m\u001b[0;34m\u001b[0m\u001b[0;34m\u001b[0m\u001b[0m\n\u001b[0;32m--> 342\u001b[0;31m             raise ValueError(f\"x and y must have same first dimension, but \"\n\u001b[0m\u001b[1;32m    343\u001b[0m                              f\"have shapes {x.shape} and {y.shape}\")\n\u001b[1;32m    344\u001b[0m         \u001b[0;32mif\u001b[0m \u001b[0mx\u001b[0m\u001b[0;34m.\u001b[0m\u001b[0mndim\u001b[0m \u001b[0;34m>\u001b[0m \u001b[0;36m2\u001b[0m \u001b[0;32mor\u001b[0m \u001b[0my\u001b[0m\u001b[0;34m.\u001b[0m\u001b[0mndim\u001b[0m \u001b[0;34m>\u001b[0m \u001b[0;36m2\u001b[0m\u001b[0;34m:\u001b[0m\u001b[0;34m\u001b[0m\u001b[0;34m\u001b[0m\u001b[0m\n",
            "\u001b[0;31mValueError\u001b[0m: x and y must have same first dimension, but have shapes (600,) and (10,)"
          ]
        },
        {
          "output_type": "display_data",
          "data": {
            "image/png": "[encoded data removed]",
            "text/plain": [
              "<Figure size 432x288 with 1 Axes>"
            ]
          },
          "metadata": {
            "needs_background": "light"
          }
        }
      ],
      "source": [
        "import matplotlib.pyplot as plt\n",
        "\n",
        "lls = model[1]\n",
        "\n",
        "x_axis = np.arange(0, 60000, 100)\n",
        "\n",
        "plt.figure()\n",
        "plt.plot(x_axis, lls)\n",
        "plt.title(\"Convergence Graph of Log-Likelihood\")\n",
        "plt.xlim(-50, 60000)\n",
        "plt.xlabel(\"Number of Iterations\")\n",
        "plt.ylabel(\"Log-Likelihood\")\n",
        "plt.show()"
      ]
    },
    {
      "cell_type": "code",
      "execution_count": 36,
      "metadata": {
        "id": "d61cCx7nKPG3"
      },
      "outputs": [],
      "source": [
        "def predict(b, X, y, threshold=0.5):\n",
        "    '''   \n",
        "    Prediction function that takes in:\n",
        "    \n",
        "    - betas from training set\n",
        "    - a vector X from a dev/test set\n",
        "    - a vector y as the true values\n",
        "    '''\n",
        "    iterations = len(y) #X.shape[0]\n",
        "    \n",
        "    y_predictions = 0\n",
        "    idx = 0\n",
        "    \n",
        "    for i in tqdm(range(iterations)):\n",
        "        outcome = np.round(sigmoid(np.dot(X[idx].toarray()[0], b)))\n",
        "        if outcome == y[idx]:\n",
        "            y_predictions += 1\n",
        "        idx += 1\n",
        "        \n",
        "#     outcome = np.round(sigmoid(np.dot(X, b))) >= threshold\n",
        "#     return outcome\n",
        "    return y_predictions"
      ]
    },
    {
      "cell_type": "code",
      "execution_count": 37,
      "metadata": {
        "id": "iWNlxt99KPG4"
      },
      "outputs": [],
      "source": [
        "X = sparse_matrix_dev\n",
        "y_dev = list(dev['labels'])"
      ]
    },
    {
      "cell_type": "code",
      "execution_count": 38,
      "metadata": {
        "colab": {
          "base_uri": "https://localhost:8080/"
        },
        "id": "cwjyWLzDKPG4",
        "outputId": "55849e24-37eb-4308-c34a-558440c36627"
      },
      "outputs": [
        {
          "output_type": "stream",
          "name": "stderr",
          "text": [
            "100%|██████████| 20000/20000 [00:04<00:00, 4012.55it/s]\n"
          ]
        }
      ],
      "source": [
        "y_predictions = predict(betas, X, y_dev)"
      ]
    },
    {
      "cell_type": "code",
      "execution_count": 39,
      "metadata": {
        "colab": {
          "base_uri": "https://localhost:8080/"
        },
        "id": "rin-vunyKPG4",
        "outputId": "97b1802e-a95b-4fc8-8f60-e259a27f86ff"
      },
      "outputs": [
        {
          "output_type": "execute_result",
          "data": {
            "text/plain": [
              "0.8047"
            ]
          },
          "metadata": {},
          "execution_count": 39
        }
      ],
      "source": [
        "f1 = y_predictions / len(y_dev)\n",
        "f1"
      ]
    },
    {
      "cell_type": "code",
      "execution_count": null,
      "metadata": {
        "id": "lV_kIOKiKPG4"
      },
      "outputs": [],
      "source": [
        ""
      ]
    },
    {
      "cell_type": "markdown",
      "metadata": {
        "id": "qSZ0SnGFKPG4"
      },
      "source": [
        "Submission for Kaggle with test data"
      ]
    },
    {
      "cell_type": "code",
      "execution_count": null,
      "metadata": {
        "scrolled": true,
        "id": "NKo2MoiKKPG4",
        "outputId": "900450b0-6302-4895-a92c-e8770a0bf721"
      },
      "outputs": [
        {
          "name": "stdout",
          "output_type": "stream",
          "text": [
            "Turn 100: ll: -35703.50871831464\n",
            "Turn 200: ll: -33736.60604505231\n",
            "Turn 300: ll: -32211.09688165535\n",
            "Turn 400: ll: -31455.44974741259\n",
            "Turn 500: ll: -30979.55760565806\n",
            "Turn 600: ll: -30625.516861198033\n",
            "Turn 700: ll: -30138.87604433771\n",
            "Turn 800: ll: -29988.445064203952\n",
            "Turn 900: ll: -29936.203300699948\n",
            "Turn 1000: ll: -29839.31606744811\n",
            "Turn 1100: ll: -29830.96242771791\n",
            "Turn 1200: ll: -29763.28978384393\n",
            "Turn 1300: ll: -29773.295873981275\n",
            "Turn 1400: ll: -29667.93175517941\n",
            "Turn 1500: ll: -29529.64976326433\n",
            "Turn 1600: ll: -29472.68770463542\n",
            "Turn 1700: ll: -29410.726309523423\n",
            "Turn 1800: ll: -29376.257012897593\n",
            "Turn 1900: ll: -29291.25626646432\n",
            "Turn 2000: ll: -29237.17441419323\n",
            "Turn 2100: ll: -29166.58580461472\n",
            "Turn 2200: ll: -29112.061106729932\n",
            "Turn 2300: ll: -29079.39206569115\n",
            "Turn 2400: ll: -29003.323058343318\n",
            "Turn 2500: ll: -28960.14702938219\n",
            "Turn 2600: ll: -28950.72671527654\n",
            "Turn 2700: ll: -28894.481492140083\n",
            "Turn 2800: ll: -28792.246458935755\n",
            "Turn 2900: ll: -28727.82341159611\n",
            "Turn 3000: ll: -28658.849359602973\n",
            "Turn 3100: ll: -28595.01630254918\n",
            "Turn 3200: ll: -28551.233778786962\n",
            "Turn 3300: ll: -28554.261235242237\n",
            "Turn 3400: ll: -28465.19475876486\n",
            "Turn 3500: ll: -28408.1338802011\n",
            "Turn 3600: ll: -28352.30501904257\n",
            "Turn 3700: ll: -28311.886777477353\n",
            "Turn 3800: ll: -28249.898923461544\n",
            "Turn 3900: ll: -28204.330436967663\n",
            "Turn 4000: ll: -28161.01486562156\n",
            "Turn 4100: ll: -28122.17779029248\n",
            "Turn 4200: ll: -28085.43859257194\n",
            "Turn 4300: ll: -28127.245926040137\n",
            "Turn 4400: ll: -28126.986458248575\n",
            "Turn 4500: ll: -28193.3694940189\n",
            "Turn 4600: ll: -28100.27074932261\n",
            "Turn 4700: ll: -27925.449627396236\n",
            "Turn 4800: ll: -27842.596062872923\n",
            "Turn 4900: ll: -27877.583668825908\n",
            "Turn 5000: ll: -27698.313045920717\n",
            "Turn 5100: ll: -27795.902678777355\n",
            "Turn 5200: ll: -27918.309236450237\n",
            "Turn 5300: ll: -27915.160176629972\n",
            "Turn 5400: ll: -27817.15978241845\n",
            "Turn 5500: ll: -27779.33358940763\n",
            "Turn 5600: ll: -27503.266524842606\n",
            "Turn 5700: ll: -27548.075957505745\n",
            "Turn 5800: ll: -27429.256507360507\n",
            "Turn 5900: ll: -27303.991169558467\n",
            "Turn 6000: ll: -27296.39705813207\n",
            "Turn 6100: ll: -27220.092605791826\n",
            "Turn 6200: ll: -27117.7475787171\n",
            "Turn 6300: ll: -27102.48546535807\n",
            "Turn 6400: ll: -27058.601598458743\n",
            "Turn 6500: ll: -27050.516018642447\n",
            "Turn 6600: ll: -26982.447710563603\n",
            "Turn 6700: ll: -26949.63926991992\n",
            "Turn 6800: ll: -26893.567213397968\n",
            "Turn 6900: ll: -26855.63471938233\n",
            "Turn 7000: ll: -26826.14564397915\n",
            "Turn 7100: ll: -26777.492207516203\n",
            "Turn 7200: ll: -26733.85392951721\n",
            "Turn 7300: ll: -26705.162790493938\n",
            "Turn 7400: ll: -26714.499253441667\n",
            "Turn 7500: ll: -26670.857213696916\n",
            "Turn 7600: ll: -26661.877201533163\n",
            "Turn 7700: ll: -26599.980923021256\n",
            "Turn 7800: ll: -26585.986734528837\n",
            "Turn 7900: ll: -26685.600359635195\n",
            "Turn 8000: ll: -26629.98584160878\n",
            "Turn 8100: ll: -26669.350323254577\n",
            "Turn 8200: ll: -26546.5501840926\n",
            "Turn 8300: ll: -26497.420002970757\n",
            "Turn 8400: ll: -26402.50425001036\n",
            "Turn 8500: ll: -26402.69570348425\n",
            "Turn 8600: ll: -26457.279502951293\n",
            "Turn 8700: ll: -26298.956116061512\n",
            "Turn 8800: ll: -26288.990450545738\n",
            "Turn 8900: ll: -26230.994245754773\n",
            "Turn 9000: ll: -26212.252452561763\n",
            "Turn 9100: ll: -26181.466219316353\n",
            "Turn 9200: ll: -26155.614936164537\n",
            "Turn 9300: ll: -26122.590769840477\n",
            "Turn 9400: ll: -26118.79483592359\n",
            "Turn 9500: ll: -26141.674885301254\n",
            "Turn 9600: ll: -26102.610050940275\n",
            "Turn 9700: ll: -26193.41055168629\n",
            "Turn 9800: ll: -26009.409255249135\n",
            "Turn 9900: ll: -26058.301122634206\n",
            "Turn 10000: ll: -26051.65211285936\n",
            "Turn 10100: ll: -25944.90145048767\n",
            "Turn 10200: ll: -25877.176170743653\n",
            "Turn 10300: ll: -25865.830686459783\n",
            "Turn 10400: ll: -25807.653737271423\n",
            "Turn 10500: ll: -25845.519132111454\n",
            "Turn 10600: ll: -25767.74119476709\n",
            "Turn 10700: ll: -25739.646562570473\n",
            "Turn 10800: ll: -25812.868807681254\n",
            "Turn 10900: ll: -25821.914826476277\n",
            "Turn 11000: ll: -25703.73914117551\n",
            "Turn 11100: ll: -25650.841494980705\n",
            "Turn 11200: ll: -25654.535045644516\n",
            "Turn 11300: ll: -25600.586329867452\n",
            "Turn 11400: ll: -25569.10013428812\n",
            "Turn 11500: ll: -25544.265153150744\n",
            "Turn 11600: ll: -25522.292108616864\n",
            "Turn 11700: ll: -25504.20032446811\n",
            "Turn 11800: ll: -25475.893153070923\n",
            "Turn 11900: ll: -25475.674522477915\n",
            "Turn 12000: ll: -25460.965064441727\n",
            "Turn 12100: ll: -25458.239931667893\n",
            "Turn 12200: ll: -25419.0099595801\n",
            "Turn 12300: ll: -25359.064065266604\n",
            "Turn 12400: ll: -25424.328363746696\n",
            "Turn 12500: ll: -25380.983583674344\n",
            "Turn 12600: ll: -25394.473393390712\n",
            "Turn 12700: ll: -25325.155789911078\n",
            "Turn 12800: ll: -25308.14966106569\n",
            "Turn 12900: ll: -25260.86429063884\n",
            "Turn 13000: ll: -25245.050028442507\n",
            "Turn 13100: ll: -25447.696867323873\n",
            "Turn 13200: ll: -25418.539522816864\n",
            "Turn 13300: ll: -25311.84405322488\n",
            "Turn 13400: ll: -25155.388071809968\n",
            "Turn 13500: ll: -25076.401585606713\n",
            "Turn 13600: ll: -25051.788160930053\n",
            "Turn 13700: ll: -25032.770639106573\n",
            "Turn 13800: ll: -25020.989570083097\n",
            "Turn 13900: ll: -25000.154469529298\n",
            "Turn 14000: ll: -24986.200161498942\n",
            "Turn 14100: ll: -25024.941188540193\n",
            "Turn 14200: ll: -24990.444328396086\n",
            "Turn 14300: ll: -24974.417842020877\n",
            "Turn 14400: ll: -24925.099387010472\n",
            "Turn 14500: ll: -24926.98726411628\n",
            "Turn 14600: ll: -24892.631283148818\n",
            "Turn 14700: ll: -24857.19108898955\n",
            "Turn 14800: ll: -24829.07575893616\n",
            "Turn 14900: ll: -24813.52963318689\n",
            "Turn 15000: ll: -24797.318877792757\n",
            "Turn 15100: ll: -24781.818171609717\n",
            "Turn 15200: ll: -24761.991381416214\n",
            "Turn 15300: ll: -24757.191185863834\n",
            "Turn 15400: ll: -24728.431096258544\n",
            "Turn 15500: ll: -24713.656272759705\n",
            "Turn 15600: ll: -24696.817331241415\n",
            "Turn 15700: ll: -24709.246701588767\n",
            "Turn 15800: ll: -24675.940528409366\n",
            "Turn 15900: ll: -24666.72088370929\n",
            "Turn 16000: ll: -24665.298897780667\n",
            "Turn 16100: ll: -24634.041376514855\n",
            "Turn 16200: ll: -24588.20775626303\n",
            "Turn 16300: ll: -24573.491398066515\n",
            "Turn 16400: ll: -24546.63040451573\n",
            "Turn 16500: ll: -24515.460879866398\n",
            "Turn 16600: ll: -24512.172170349862\n",
            "Turn 16700: ll: -24486.968016523082\n",
            "Turn 16800: ll: -24480.5097635829\n",
            "Turn 16900: ll: -24466.582542856748\n",
            "Turn 17000: ll: -24457.488567054213\n",
            "Turn 17100: ll: -24443.6600182643\n",
            "Turn 17200: ll: -24400.028802276152\n",
            "Turn 17300: ll: -24383.438902956084\n",
            "Turn 17400: ll: -24364.961849290718\n",
            "Turn 17500: ll: -24347.656577203496\n",
            "Turn 17600: ll: -24319.62083580377\n",
            "Turn 17700: ll: -24303.87411686311\n",
            "Turn 17800: ll: -24294.830521175667\n",
            "Turn 17900: ll: -24307.992470187208\n",
            "Turn 18000: ll: -24285.364459943114\n",
            "Turn 18100: ll: -24248.918433133047\n",
            "Turn 18200: ll: -24230.01423954549\n",
            "Turn 18300: ll: -24295.834086658622\n",
            "Turn 18400: ll: -24226.801272872966\n",
            "Turn 18500: ll: -24173.02012425437\n",
            "Turn 18600: ll: -24157.607708728887\n",
            "Turn 18700: ll: -24141.987578629865\n",
            "Turn 18800: ll: -24137.778270777868\n",
            "Turn 18900: ll: -24117.059167896223\n",
            "Turn 19000: ll: -24099.575573525057\n",
            "Turn 19100: ll: -24080.540711734502\n",
            "Turn 19200: ll: -24070.355309481412\n",
            "Turn 19300: ll: -24054.91664981746\n",
            "Turn 19400: ll: -24040.593321415377\n",
            "Turn 19500: ll: -24035.080761241275\n",
            "Turn 19600: ll: -24083.68072178129\n",
            "Turn 19700: ll: -24026.734044499826\n",
            "Turn 19800: ll: -23984.219574857503\n",
            "Turn 19900: ll: -23967.20958505779\n",
            "Turn 20000: ll: -23952.34696894299\n",
            "Turn 20100: ll: -23947.728928501412\n",
            "Turn 20200: ll: -23926.170473391554\n",
            "Turn 20300: ll: -23919.14020330747\n",
            "Turn 20400: ll: -23917.59320655161\n",
            "Turn 20500: ll: -23910.44625800653\n",
            "Turn 20600: ll: -23913.44856443882\n",
            "Turn 20700: ll: -23876.25781261461\n",
            "Turn 20800: ll: -23845.61563759936\n",
            "Turn 20900: ll: -23834.39794566443\n",
            "Turn 21000: ll: -23819.414453588717\n",
            "Turn 21100: ll: -23832.22904592946\n",
            "Turn 21200: ll: -23808.732048833306\n",
            "Turn 21300: ll: -23832.470070409574\n",
            "Turn 21400: ll: -23761.93044580384\n",
            "Turn 21500: ll: -23751.780957006762\n",
            "Turn 21600: ll: -23744.15112075994\n",
            "Turn 21700: ll: -23733.37319941516\n",
            "Turn 21800: ll: -23723.28327519483\n",
            "Turn 21900: ll: -23705.643481350387\n",
            "Turn 22000: ll: -23694.572116837167\n",
            "Turn 22100: ll: -23680.67888150722\n",
            "Turn 22200: ll: -23676.440245841164\n",
            "Turn 22300: ll: -23655.574099783014\n",
            "Turn 22400: ll: -23683.865914007503\n",
            "Turn 22500: ll: -23765.268112558566\n",
            "Turn 22600: ll: -23687.273254811807\n",
            "Turn 22700: ll: -23613.036313798322\n",
            "Turn 22800: ll: -23636.10054361458\n",
            "Turn 22900: ll: -23575.419470225883\n",
            "Turn 23000: ll: -23563.291116815875\n",
            "Turn 23100: ll: -23548.217724812595\n",
            "Turn 23200: ll: -23524.154143800435\n",
            "Turn 23300: ll: -23507.33200643104\n",
            "Turn 23400: ll: -23534.167715405565\n"
          ]
        },
        {
          "name": "stdout",
          "output_type": "stream",
          "text": [
            "Turn 23500: ll: -23498.746907850786\n",
            "Turn 23600: ll: -23472.013133286877\n",
            "Turn 23700: ll: -23503.86467241551\n",
            "Turn 23800: ll: -23473.1446742705\n",
            "Turn 23900: ll: -23442.780304427477\n",
            "Turn 24000: ll: -23434.8933969855\n",
            "Turn 24100: ll: -23427.55260080524\n",
            "Turn 24200: ll: -23436.17163569873\n",
            "Turn 24300: ll: -23399.61559365633\n",
            "Turn 24400: ll: -23373.573166874397\n",
            "Turn 24500: ll: -23358.785124498783\n",
            "Turn 24600: ll: -23347.58513329942\n",
            "Turn 24700: ll: -23332.876400324007\n",
            "Turn 24800: ll: -23321.99630329627\n",
            "Turn 24900: ll: -23310.468042362583\n",
            "Turn 25000: ll: -23299.119651651214\n",
            "Turn 25100: ll: -23302.420552639596\n",
            "Turn 25200: ll: -23283.001246892018\n",
            "Turn 25300: ll: -23291.297354036054\n",
            "Turn 25400: ll: -23353.204937586095\n",
            "Turn 25500: ll: -23306.62614293446\n",
            "Turn 25600: ll: -23390.42119565177\n",
            "Turn 25700: ll: -23246.047306090142\n",
            "Turn 25800: ll: -23319.224289312988\n",
            "Turn 25900: ll: -23205.009034970863\n",
            "Turn 26000: ll: -23162.311451264657\n",
            "Turn 26100: ll: -23154.56931337365\n",
            "Turn 26200: ll: -23146.22318727817\n",
            "Turn 26300: ll: -23125.968837301887\n",
            "Turn 26400: ll: -23118.603155834076\n",
            "Turn 26500: ll: -23105.051061746824\n",
            "Turn 26600: ll: -23098.030139880633\n",
            "Turn 26700: ll: -23087.05670811188\n",
            "Turn 26800: ll: -23082.388231997582\n",
            "Turn 26900: ll: -23058.957601126225\n",
            "Turn 27000: ll: -23045.224284203534\n",
            "Turn 27100: ll: -23041.48105530195\n",
            "Turn 27200: ll: -23106.62621664387\n",
            "Turn 27300: ll: -23033.0332561456\n",
            "Turn 27400: ll: -23022.360182762466\n",
            "Turn 27500: ll: -23005.646038183928\n",
            "Turn 27600: ll: -23007.36915076406\n",
            "Turn 27700: ll: -23012.99747002621\n",
            "Turn 27800: ll: -22991.706079966563\n",
            "Turn 27900: ll: -22977.69768395384\n",
            "Turn 28000: ll: -22964.751294053043\n",
            "Turn 28100: ll: -22936.898733167836\n",
            "Turn 28200: ll: -22924.861541612743\n",
            "Turn 28300: ll: -22905.29802654525\n",
            "Turn 28400: ll: -22894.47756620872\n",
            "Turn 28500: ll: -22889.79812124341\n",
            "Turn 28600: ll: -22869.141753997174\n",
            "Turn 28700: ll: -22859.00797694076\n",
            "Turn 28800: ll: -22857.593132152164\n",
            "Turn 28900: ll: -22872.593961051083\n",
            "Turn 29000: ll: -22862.71734285177\n",
            "Turn 29100: ll: -22882.931202293345\n",
            "Turn 29200: ll: -22846.38765678364\n",
            "Turn 29300: ll: -22847.150963608437\n",
            "Turn 29400: ll: -22817.094500909938\n",
            "Turn 29500: ll: -22782.040329944284\n",
            "Turn 29600: ll: -22784.58608894884\n",
            "Turn 29700: ll: -22764.50947607892\n",
            "Turn 29800: ll: -22793.6855463136\n",
            "Turn 29900: ll: -22811.85070123736\n",
            "Turn 30000: ll: -22828.1277780417\n",
            "Turn 30100: ll: -22890.61774684844\n",
            "Turn 30200: ll: -22783.6663284768\n",
            "Turn 30300: ll: -22756.884650226362\n",
            "Turn 30400: ll: -22778.20930185879\n",
            "Turn 30500: ll: -22802.5293800988\n",
            "Turn 30600: ll: -22827.95395197677\n",
            "Turn 30700: ll: -22812.216734142858\n",
            "Turn 30800: ll: -22727.865964464538\n",
            "Turn 30900: ll: -22717.10182190615\n",
            "Turn 31000: ll: -22678.077476543534\n",
            "Turn 31100: ll: -22683.782837377454\n",
            "Turn 31200: ll: -22647.492738638786\n",
            "Turn 31300: ll: -22638.262560608942\n",
            "Turn 31400: ll: -22627.76811129015\n",
            "Turn 31500: ll: -22629.709915922795\n",
            "Turn 31600: ll: -22585.987055653284\n",
            "Turn 31700: ll: -22562.81704499043\n",
            "Turn 31800: ll: -22558.450778440572\n",
            "Turn 31900: ll: -22543.20872385311\n",
            "Turn 32000: ll: -22532.105749993018\n",
            "Turn 32100: ll: -22539.57739357378\n",
            "Turn 32200: ll: -22538.60054213286\n",
            "Turn 32300: ll: -22504.010280540053\n",
            "Turn 32400: ll: -22485.79585168691\n",
            "Turn 32500: ll: -22479.674344240586\n",
            "Turn 32600: ll: -22468.961738411163\n",
            "Turn 32700: ll: -22453.53565691081\n",
            "Turn 32800: ll: -22442.670453509636\n",
            "Turn 32900: ll: -22434.8696353938\n",
            "Turn 33000: ll: -22424.985675230753\n",
            "Turn 33100: ll: -22416.014709034556\n",
            "Turn 33200: ll: -22421.43314162323\n",
            "Turn 33300: ll: -22422.019662786915\n",
            "Turn 33400: ll: -22417.163067693516\n",
            "Turn 33500: ll: -22392.489005934927\n",
            "Turn 33600: ll: -22361.76103743384\n",
            "Turn 33700: ll: -22348.26667264258\n",
            "Turn 33800: ll: -22339.290608056326\n",
            "Turn 33900: ll: -22329.063896801847\n",
            "Turn 34000: ll: -22326.50983410544\n",
            "Turn 34100: ll: -22326.535261287427\n",
            "Turn 34200: ll: -22353.745159850732\n",
            "Turn 34300: ll: -22367.86344533012\n",
            "Turn 34400: ll: -22289.110418268974\n",
            "Turn 34500: ll: -22275.762372901067\n",
            "Turn 34600: ll: -22265.935244664826\n",
            "Turn 34700: ll: -22269.467067807185\n",
            "Turn 34800: ll: -22296.71574015463\n",
            "Turn 34900: ll: -22282.96926320203\n",
            "Turn 35000: ll: -22285.51071870062\n",
            "Turn 35100: ll: -22246.20143487156\n",
            "Turn 35200: ll: -22261.276159706016\n",
            "Turn 35300: ll: -22209.955995743614\n",
            "Turn 35400: ll: -22200.37599895132\n",
            "Turn 35500: ll: -22194.13831198735\n",
            "Turn 35600: ll: -22186.176173174084\n",
            "Turn 35700: ll: -22233.497708826835\n",
            "Turn 35800: ll: -22263.0421182634\n",
            "Turn 35900: ll: -22365.553086876695\n",
            "Turn 36000: ll: -22139.960763393727\n",
            "Turn 36100: ll: -22131.679557719777\n",
            "Turn 36200: ll: -22125.41989789669\n",
            "Turn 36300: ll: -22116.072728443076\n",
            "Turn 36400: ll: -22124.919961181047\n",
            "Turn 36500: ll: -22098.31809236943\n",
            "Turn 36600: ll: -22089.372952930586\n",
            "Turn 36700: ll: -22078.579124142794\n",
            "Turn 36800: ll: -22072.441612428607\n",
            "Turn 36900: ll: -22070.78634939906\n",
            "Turn 37000: ll: -22118.43531266367\n",
            "Turn 37100: ll: -22119.851855422603\n",
            "Turn 37200: ll: -22058.030554553\n",
            "Turn 37300: ll: -22058.09468739516\n",
            "Turn 37400: ll: -22110.951744365448\n",
            "Turn 37500: ll: -22009.612301030997\n",
            "Turn 37600: ll: -22001.152518259856\n",
            "Turn 37700: ll: -22007.29802811719\n",
            "Turn 37800: ll: -21982.53754665269\n",
            "Turn 37900: ll: -22014.795008706933\n",
            "Turn 38000: ll: -21976.151321633253\n",
            "Turn 38100: ll: -21976.275209800733\n",
            "Turn 38200: ll: -21949.812284048458\n",
            "Turn 38300: ll: -21935.074581405104\n",
            "Turn 38400: ll: -21929.469765234506\n",
            "Turn 38500: ll: -21914.32060118708\n",
            "Turn 38600: ll: -21915.849112563097\n",
            "Turn 38700: ll: -21918.979392357753\n",
            "Turn 38800: ll: -21890.94719970791\n",
            "Turn 38900: ll: -21879.483612193057\n",
            "Turn 39000: ll: -21870.594191074153\n",
            "Turn 39100: ll: -21865.12790347074\n",
            "Turn 39200: ll: -21884.85685335916\n",
            "Turn 39300: ll: -21929.884219928033\n",
            "Turn 39400: ll: -21932.96554010414\n",
            "Turn 39500: ll: -21844.989685393943\n",
            "Turn 39600: ll: -21822.298377291983\n",
            "Turn 39700: ll: -21816.908262634694\n",
            "Turn 39800: ll: -21819.709538478855\n",
            "Turn 39900: ll: -21799.55447528552\n",
            "Turn 40000: ll: -21787.348630911714\n",
            "Turn 40100: ll: -21801.949363098247\n",
            "Turn 40200: ll: -21770.11930397617\n",
            "Turn 40300: ll: -21801.978248948828\n",
            "Turn 40400: ll: -21844.159626048175\n",
            "Turn 40500: ll: -21797.15952516804\n",
            "Turn 40600: ll: -21742.48254720737\n",
            "Turn 40700: ll: -21725.935240780163\n",
            "Turn 40800: ll: -21727.201819424386\n",
            "Turn 40900: ll: -21736.59534701641\n",
            "Turn 41000: ll: -21708.87702025326\n",
            "Turn 41100: ll: -21688.08350546949\n",
            "Turn 41200: ll: -21681.142653861432\n",
            "Turn 41300: ll: -21673.858624359113\n",
            "Turn 41400: ll: -21663.984346252415\n",
            "Turn 41500: ll: -21668.966553357706\n",
            "Turn 41600: ll: -21660.045585249085\n",
            "Turn 41700: ll: -21650.5561975921\n",
            "Turn 41800: ll: -21628.948332775777\n",
            "Turn 41900: ll: -21625.405737786496\n",
            "Turn 42000: ll: -21614.815281712028\n",
            "Turn 42100: ll: -21612.86005425545\n",
            "Turn 42200: ll: -21602.583170149606\n",
            "Turn 42300: ll: -21593.153809574243\n",
            "Turn 42400: ll: -21588.45180197961\n",
            "Turn 42500: ll: -21574.54358411982\n",
            "Turn 42600: ll: -21569.300828630832\n",
            "Turn 42700: ll: -21562.328141217105\n",
            "Turn 42800: ll: -21551.47538286625\n",
            "Turn 42900: ll: -21543.348087339138\n",
            "Turn 43000: ll: -21532.97253244555\n",
            "Turn 43100: ll: -21534.372705673668\n",
            "Turn 43200: ll: -21512.319873657936\n",
            "Turn 43300: ll: -21527.31652315639\n",
            "Turn 43400: ll: -21501.173473562885\n",
            "Turn 43500: ll: -21555.264289638435\n",
            "Turn 43600: ll: -21501.693280194886\n",
            "Turn 43700: ll: -21473.888378030766\n",
            "Turn 43800: ll: -21464.97724643824\n",
            "Turn 43900: ll: -21457.788124563915\n",
            "Turn 44000: ll: -21455.218616568818\n",
            "Turn 44100: ll: -21441.16836805013\n",
            "Turn 44200: ll: -21455.287916398156\n",
            "Turn 44300: ll: -21449.891654817155\n",
            "Turn 44400: ll: -21429.332938873384\n",
            "Turn 44500: ll: -21445.932347757247\n",
            "Turn 44600: ll: -21403.320048167574\n",
            "Turn 44700: ll: -21395.151379298564\n",
            "Turn 44800: ll: -21386.82407096593\n",
            "Turn 44900: ll: -21387.836030024395\n",
            "Turn 45000: ll: -21368.975375707363\n",
            "Turn 45100: ll: -21376.5683293794\n",
            "Turn 45200: ll: -21364.726115121273\n",
            "Turn 45300: ll: -21349.69362074924\n",
            "Turn 45400: ll: -21340.451551931983\n",
            "Turn 45500: ll: -21331.51997306857\n",
            "Turn 45600: ll: -21331.632002968123\n",
            "Turn 45700: ll: -21312.49343788439\n",
            "Turn 45800: ll: -21309.468616682367\n",
            "Turn 45900: ll: -21299.874950055033\n",
            "Turn 46000: ll: -21318.827131289654\n",
            "Turn 46100: ll: -21298.553613574317\n",
            "Turn 46200: ll: -21329.00636267173\n",
            "Turn 46300: ll: -21308.182257601235\n",
            "Turn 46400: ll: -21286.277476427014\n",
            "Turn 46500: ll: -21298.86281058422\n"
          ]
        },
        {
          "name": "stdout",
          "output_type": "stream",
          "text": [
            "Turn 46600: ll: -21315.073244633357\n",
            "Turn 46700: ll: -21300.65622827444\n",
            "Turn 46800: ll: -21350.52847840739\n",
            "Turn 46900: ll: -21385.956267503032\n",
            "Turn 47000: ll: -21318.287733413046\n",
            "Turn 47100: ll: -21316.294417718163\n",
            "Turn 47200: ll: -21280.754633465214\n",
            "Turn 47300: ll: -21335.519982622995\n",
            "Turn 47400: ll: -21425.3727700546\n",
            "Turn 47500: ll: -21411.007619574535\n",
            "Turn 47600: ll: -21418.282930113608\n",
            "Turn 47700: ll: -21432.140895645687\n",
            "Turn 47800: ll: -21359.03419734897\n",
            "Turn 47900: ll: -21329.85079719455\n",
            "Turn 48000: ll: -21264.275889988116\n",
            "Turn 48100: ll: -21218.502027901777\n",
            "Turn 48200: ll: -21143.476283614335\n",
            "Turn 48300: ll: -21135.807328996234\n",
            "Turn 48400: ll: -21167.854257219704\n",
            "Turn 48500: ll: -21222.101506665553\n",
            "Turn 48600: ll: -21209.450249806134\n",
            "Turn 48700: ll: -21167.677077140164\n",
            "Turn 48800: ll: -21151.6523523504\n",
            "Turn 48900: ll: -21130.593940551043\n",
            "Turn 49000: ll: -21115.570640493286\n",
            "Turn 49100: ll: -21075.37638831389\n",
            "Turn 49200: ll: -21067.307128069588\n",
            "Turn 49300: ll: -21058.176097691336\n",
            "Turn 49400: ll: -21060.01705001715\n",
            "Turn 49500: ll: -21045.464497961424\n",
            "Turn 49600: ll: -21034.379548949248\n",
            "Turn 49700: ll: -21027.22950632751\n",
            "Turn 49800: ll: -21032.073965970456\n",
            "Turn 49900: ll: -21023.115578256286\n",
            "Turn 50000: ll: -21023.689553003016\n",
            "Turn 50100: ll: -21006.09317746543\n",
            "Turn 50200: ll: -20994.55439434755\n",
            "Turn 50300: ll: -20994.62514468524\n",
            "Turn 50400: ll: -20985.660312557957\n",
            "Turn 50500: ll: -20980.402722771425\n",
            "Turn 50600: ll: -20966.265471499137\n",
            "Turn 50700: ll: -20986.78832201271\n",
            "Turn 50800: ll: -20948.898165134393\n",
            "Turn 50900: ll: -20956.508526094636\n",
            "Turn 51000: ll: -20974.759302774837\n",
            "Turn 51100: ll: -20939.641099261804\n",
            "Turn 51200: ll: -20946.771229884936\n",
            "Turn 51300: ll: -20910.986321978926\n",
            "Turn 51400: ll: -20930.370569458\n",
            "Turn 51500: ll: -20941.878542042992\n",
            "Turn 51600: ll: -20902.089809387588\n",
            "Turn 51700: ll: -20901.399672082698\n",
            "Turn 51800: ll: -20882.08771568218\n",
            "Turn 51900: ll: -20878.273380011466\n",
            "Turn 52000: ll: -20876.378409708705\n",
            "Turn 52100: ll: -20856.38903913212\n",
            "Turn 52200: ll: -20911.89624135464\n",
            "Turn 52300: ll: -20904.237823874835\n",
            "Turn 52400: ll: -20867.794187003354\n",
            "Turn 52500: ll: -20856.007141297072\n",
            "Turn 52600: ll: -20850.811317727406\n",
            "Turn 52700: ll: -20827.388437932037\n",
            "Turn 52800: ll: -20802.305861609042\n",
            "Turn 52900: ll: -20798.018146340182\n",
            "Turn 53000: ll: -20789.288534440246\n",
            "Turn 53100: ll: -20786.052811164205\n",
            "Turn 53200: ll: -20779.095171558554\n",
            "Turn 53300: ll: -20849.474305854776\n",
            "Turn 53400: ll: -20796.639294798355\n",
            "Turn 53500: ll: -20814.996022853593\n",
            "Turn 53600: ll: -20826.005998158056\n",
            "Turn 53700: ll: -20801.294348674855\n",
            "Turn 53800: ll: -20749.935971009792\n",
            "Turn 53900: ll: -20737.276663436423\n",
            "Turn 54000: ll: -20721.11192479852\n",
            "Turn 54100: ll: -20768.947404242484\n",
            "Turn 54200: ll: -20784.016558394476\n",
            "Turn 54300: ll: -20745.14151695138\n",
            "Turn 54400: ll: -20705.347261034432\n",
            "Turn 54500: ll: -20689.059772653112\n",
            "Turn 54600: ll: -20704.095597011794\n",
            "Turn 54700: ll: -20678.01020309454\n",
            "Turn 54800: ll: -20668.131853369807\n",
            "Turn 54900: ll: -20663.985078465732\n",
            "Turn 55000: ll: -20653.589177707472\n",
            "Turn 55100: ll: -20656.756768922656\n",
            "Turn 55200: ll: -20648.63663154657\n",
            "Turn 55300: ll: -20637.217066588215\n",
            "Turn 55400: ll: -20682.476785651772\n",
            "Turn 55500: ll: -20703.905392419052\n",
            "Turn 55600: ll: -20670.519510920727\n",
            "Turn 55700: ll: -20629.26699131234\n",
            "Turn 55800: ll: -20685.29971435525\n",
            "Turn 55900: ll: -20630.940103974688\n",
            "Turn 56000: ll: -20588.928777313078\n",
            "Turn 56100: ll: -20582.1445549958\n",
            "Turn 56200: ll: -20577.434853016428\n",
            "Turn 56300: ll: -20567.732229809277\n",
            "Turn 56400: ll: -20575.13004650807\n",
            "Turn 56500: ll: -20585.613363840763\n",
            "Turn 56600: ll: -20565.112564876836\n",
            "Turn 56700: ll: -20542.011799293003\n",
            "Turn 56800: ll: -20549.635742776518\n",
            "Turn 56900: ll: -20561.405700716583\n",
            "Turn 57000: ll: -20587.69147288811\n",
            "Turn 57100: ll: -20561.5486132816\n",
            "Turn 57200: ll: -20541.62732660203\n",
            "Turn 57300: ll: -20535.971454592203\n",
            "Turn 57400: ll: -20559.95195253403\n",
            "Turn 57500: ll: -20536.472480591285\n",
            "Turn 57600: ll: -20535.293887498992\n",
            "Turn 57700: ll: -20544.668629833905\n",
            "Turn 57800: ll: -20513.301033861804\n",
            "Turn 57900: ll: -20483.216606024085\n",
            "Turn 58000: ll: -20466.841760753\n",
            "Turn 58100: ll: -20460.240540101455\n",
            "Turn 58200: ll: -20455.436551164006\n",
            "Turn 58300: ll: -20447.373091418878\n",
            "Turn 58400: ll: -20441.16464692424\n",
            "Turn 58500: ll: -20434.377998053023\n",
            "Turn 58600: ll: -20428.90313181783\n",
            "Turn 58700: ll: -20420.886811178716\n",
            "Turn 58800: ll: -20414.348160419846\n",
            "Turn 58900: ll: -20428.550631986756\n",
            "Turn 59000: ll: -20410.518296838083\n",
            "Turn 59100: ll: -20415.05840911882\n",
            "Turn 59200: ll: -20436.94263619503\n",
            "Turn 59300: ll: -20415.72333352345\n",
            "Turn 59400: ll: -20391.947110052526\n",
            "Turn 59500: ll: -20379.137986231304\n",
            "Turn 59600: ll: -20387.41217154183\n",
            "Turn 59700: ll: -20407.114614281018\n",
            "Turn 59800: ll: -20401.53115985931\n",
            "Turn 59900: ll: -20348.157632204544\n",
            "Turn 60000: ll: -20369.17661513199\n",
            "Turn 60100: ll: -20427.85596821578\n",
            "Turn 60200: ll: -20380.196830690737\n",
            "Turn 60300: ll: -20381.034868410483\n",
            "Turn 60400: ll: -20378.285997000887\n",
            "Turn 60500: ll: -20340.08050465626\n",
            "Turn 60600: ll: -20328.250193842323\n",
            "Turn 60700: ll: -20408.990413075575\n",
            "Turn 60800: ll: -20439.800760407175\n",
            "Turn 60900: ll: -20430.69150625862\n",
            "Turn 61000: ll: -20451.952849298046\n",
            "Turn 61100: ll: -20303.38682156177\n",
            "Turn 61200: ll: -20267.265079289064\n",
            "Turn 61300: ll: -20255.106430454267\n",
            "Turn 61400: ll: -20250.66030133159\n",
            "Turn 61500: ll: -20248.885510039952\n",
            "Turn 61600: ll: -20275.215024035526\n",
            "Turn 61700: ll: -20248.91830501976\n",
            "Turn 61800: ll: -20251.785233795643\n",
            "Turn 61900: ll: -20224.19475393364\n",
            "Turn 62000: ll: -20232.099763681457\n",
            "Turn 62100: ll: -20212.079079555217\n",
            "Turn 62200: ll: -20204.95372663255\n",
            "Turn 62300: ll: -20206.731002964967\n",
            "Turn 62400: ll: -20201.042445587445\n",
            "Turn 62500: ll: -20202.004303439433\n",
            "Turn 62600: ll: -20209.38197347024\n",
            "Turn 62700: ll: -20192.873122981895\n",
            "Turn 62800: ll: -20172.31150306297\n",
            "Turn 62900: ll: -20167.10724652272\n",
            "Turn 63000: ll: -20164.23029853376\n",
            "Turn 63100: ll: -20152.928838661\n",
            "Turn 63200: ll: -20148.91851298044\n",
            "Turn 63300: ll: -20168.962588193608\n",
            "Turn 63400: ll: -20157.443007393536\n",
            "Turn 63500: ll: -20143.494689116822\n",
            "Turn 63600: ll: -20138.23904916976\n",
            "Turn 63700: ll: -20115.12081919564\n",
            "Turn 63800: ll: -20118.733630799325\n",
            "Turn 63900: ll: -20109.596771966273\n",
            "Turn 64000: ll: -20094.96430933298\n",
            "Turn 64100: ll: -20102.703348007868\n",
            "Turn 64200: ll: -20084.47882851887\n",
            "Turn 64300: ll: -20094.00876780362\n",
            "Turn 64400: ll: -20119.386775463077\n",
            "Turn 64500: ll: -20186.5311272056\n",
            "Turn 64600: ll: -20205.0956496734\n",
            "Turn 64700: ll: -20123.007603920836\n",
            "Turn 64800: ll: -20115.199976179385\n",
            "Turn 64900: ll: -20091.524681285387\n",
            "Turn 65000: ll: -20061.922769824072\n",
            "Turn 65100: ll: -20132.666917993105\n",
            "Turn 65200: ll: -20285.316605853062\n",
            "Turn 65300: ll: -20316.418226429785\n",
            "Turn 65400: ll: -20284.14307373957\n",
            "Turn 65500: ll: -20283.742239627376\n",
            "Turn 65600: ll: -20138.718943997665\n",
            "Turn 65700: ll: -20191.67068796474\n",
            "Turn 65800: ll: -20127.291000738303\n",
            "Turn 65900: ll: -20055.9087224166\n",
            "Turn 66000: ll: -20028.706022257524\n",
            "Turn 66100: ll: -20033.936946450296\n",
            "Turn 66200: ll: -19996.84977686593\n",
            "Turn 66300: ll: -20009.653391356478\n",
            "Turn 66400: ll: -19957.762554184592\n",
            "Turn 66500: ll: -19988.159081050806\n",
            "Turn 66600: ll: -19954.459036158252\n",
            "Turn 66700: ll: -19926.39137022324\n",
            "Turn 66800: ll: -19914.25959077438\n",
            "Turn 66900: ll: -19910.754813278385\n",
            "Turn 67000: ll: -19918.315954990932\n",
            "Turn 67100: ll: -19907.483112255402\n",
            "Turn 67200: ll: -19895.835569898918\n",
            "Turn 67300: ll: -19899.068358924793\n",
            "Turn 67400: ll: -19896.307101528248\n",
            "Turn 67500: ll: -19890.04820416389\n",
            "Turn 67600: ll: -19898.362548027508\n",
            "Turn 67700: ll: -19871.27613984153\n",
            "Turn 67800: ll: -19871.352637402626\n",
            "Turn 67900: ll: -19918.434109246766\n",
            "Turn 68000: ll: -19915.223991155683\n",
            "Turn 68100: ll: -19975.400528522485\n",
            "Turn 68200: ll: -19907.802399748893\n",
            "Turn 68300: ll: -19874.21055965699\n",
            "Turn 68400: ll: -19845.59237447192\n",
            "Turn 68500: ll: -19864.734375654603\n",
            "Turn 68600: ll: -19887.809308416952\n",
            "Turn 68700: ll: -19822.551184217184\n",
            "Turn 68800: ll: -19822.766335441556\n",
            "Turn 68900: ll: -19805.107513389332\n",
            "Turn 69000: ll: -19803.06728177912\n",
            "Turn 69100: ll: -19793.573581466873\n",
            "Turn 69200: ll: -19788.691319413963\n",
            "Turn 69300: ll: -19781.887810370463\n",
            "Turn 69400: ll: -19780.27485671424\n",
            "Turn 69500: ll: -19785.397760834065\n"
          ]
        },
        {
          "name": "stdout",
          "output_type": "stream",
          "text": [
            "Turn 69600: ll: -19774.291906812563\n",
            "Turn 69700: ll: -19792.851310360245\n",
            "Turn 69800: ll: -19766.506837956287\n",
            "Turn 69900: ll: -19790.537843318714\n",
            "Turn 70000: ll: -19783.655179621797\n",
            "Turn 70100: ll: -19756.517666863045\n",
            "Turn 70200: ll: -19748.831252124146\n",
            "Turn 70300: ll: -19752.152942185916\n",
            "Turn 70400: ll: -19728.866952336786\n",
            "Turn 70500: ll: -19755.355721130938\n",
            "Turn 70600: ll: -19735.51754110925\n",
            "Turn 70700: ll: -19733.749690727564\n",
            "Turn 70800: ll: -19821.01278714917\n",
            "Turn 70900: ll: -19838.83774469758\n",
            "Turn 71000: ll: -19743.58485325014\n",
            "Turn 71100: ll: -19732.894905009365\n",
            "Turn 71200: ll: -19754.131812619744\n",
            "Turn 71300: ll: -19711.306608165716\n",
            "Turn 71400: ll: -19674.444014858134\n",
            "Turn 71500: ll: -19670.248792262122\n",
            "Turn 71600: ll: -19675.29503815208\n",
            "Turn 71700: ll: -19661.40898753979\n",
            "Turn 71800: ll: -19659.228775914045\n",
            "Turn 71900: ll: -19690.98141428767\n",
            "Turn 72000: ll: -19691.038228898033\n",
            "Turn 72100: ll: -19682.95941404211\n",
            "Turn 72200: ll: -19661.694247532316\n",
            "Turn 72300: ll: -19638.321040629366\n",
            "Turn 72400: ll: -19671.198394890132\n",
            "Turn 72500: ll: -19662.97547181134\n",
            "Turn 72600: ll: -19666.422422924792\n",
            "Turn 72700: ll: -19638.155518643718\n",
            "Turn 72800: ll: -19637.86520610517\n",
            "Turn 72900: ll: -19614.81904889093\n",
            "Turn 73000: ll: -19617.469799374056\n",
            "Turn 73100: ll: -19647.5423601597\n",
            "Turn 73200: ll: -19691.870629084675\n",
            "Turn 73300: ll: -19648.789805817258\n",
            "Turn 73400: ll: -19601.311229699786\n",
            "Turn 73500: ll: -19571.404348403827\n",
            "Turn 73600: ll: -19561.798480870682\n",
            "Turn 73700: ll: -19557.035620018505\n",
            "Turn 73800: ll: -19552.616113404743\n",
            "Turn 73900: ll: -19555.929503889405\n",
            "Turn 74000: ll: -19543.951318408275\n",
            "Turn 74100: ll: -19561.632957564158\n",
            "Turn 74200: ll: -19548.632610758446\n",
            "Turn 74300: ll: -19542.810087044854\n",
            "Turn 74400: ll: -19526.319851432912\n",
            "Turn 74500: ll: -19527.13077001524\n",
            "Turn 74600: ll: -19519.05686255351\n",
            "Turn 74700: ll: -19512.584030802303\n",
            "Turn 74800: ll: -19513.118846087207\n",
            "Turn 74900: ll: -19506.156845990583\n",
            "Turn 75000: ll: -19506.211965506198\n",
            "Turn 75100: ll: -19492.917799723014\n",
            "Turn 75200: ll: -19489.556450304546\n",
            "Turn 75300: ll: -19488.763138027003\n",
            "Turn 75400: ll: -19478.486928288883\n",
            "Turn 75500: ll: -19477.719467649848\n",
            "Turn 75600: ll: -19475.272890406966\n",
            "Turn 75700: ll: -19482.28047410371\n",
            "Turn 75800: ll: -19467.501350007296\n",
            "Turn 75900: ll: -19467.65074343476\n",
            "Turn 76000: ll: -19474.75018209353\n",
            "Turn 76100: ll: -19465.781966991024\n",
            "Turn 76200: ll: -19444.84632213405\n",
            "Turn 76300: ll: -19441.09791453241\n",
            "Turn 76400: ll: -19441.384779619053\n",
            "Turn 76500: ll: -19423.44032912975\n",
            "Turn 76600: ll: -19420.502914791912\n",
            "Turn 76700: ll: -19411.35717108936\n",
            "Turn 76800: ll: -19405.683164437578\n",
            "Turn 76900: ll: -19400.79465902729\n",
            "Turn 77000: ll: -19397.69156188614\n",
            "Turn 77100: ll: -19393.612436922063\n",
            "Turn 77200: ll: -19384.891378691245\n",
            "Turn 77300: ll: -19383.0889833885\n",
            "Turn 77400: ll: -19375.63135366529\n",
            "Turn 77500: ll: -19382.52267779151\n",
            "Turn 77600: ll: -19371.150417113095\n",
            "Turn 77700: ll: -19368.397276030766\n",
            "Turn 77800: ll: -19359.95977930777\n",
            "Turn 77900: ll: -19379.20248160974\n",
            "Turn 78000: ll: -19373.495398495448\n",
            "Turn 78100: ll: -19339.81071042441\n",
            "Turn 78200: ll: -19332.16266463182\n",
            "Turn 78300: ll: -19366.75811455358\n",
            "Turn 78400: ll: -19333.860663457323\n",
            "Turn 78500: ll: -19315.98757363003\n",
            "Turn 78600: ll: -19310.968085306376\n",
            "Turn 78700: ll: -19305.596039002005\n",
            "Turn 78800: ll: -19309.61439034225\n",
            "Turn 78900: ll: -19301.111706820622\n",
            "Turn 79000: ll: -19290.705503170902\n",
            "Turn 79100: ll: -19286.83485649772\n",
            "Turn 79200: ll: -19282.10939068893\n",
            "Turn 79300: ll: -19281.960322687577\n",
            "Turn 79400: ll: -19284.11124137268\n",
            "Turn 79500: ll: -19276.909647715453\n",
            "Turn 79600: ll: -19304.475387062004\n",
            "Turn 79700: ll: -19285.62076721553\n",
            "Turn 79800: ll: -19257.284739194496\n",
            "Turn 79900: ll: -19245.98852893272\n",
            "Turn 80000: ll: -19243.182215377674\n",
            "Turn 80100: ll: -19251.69841209815\n",
            "Turn 80200: ll: -19239.353922702867\n",
            "Turn 80300: ll: -19231.357845065126\n",
            "Turn 80400: ll: -19231.319251923385\n",
            "Turn 80500: ll: -19226.578559604823\n",
            "Turn 80600: ll: -19235.49849996371\n",
            "Turn 80700: ll: -19224.247752035124\n",
            "Turn 80800: ll: -19207.97322933114\n",
            "Turn 80900: ll: -19203.743350267992\n",
            "Turn 81000: ll: -19198.50716021376\n",
            "Turn 81100: ll: -19201.52622775217\n",
            "Turn 81200: ll: -19195.515548840645\n",
            "Turn 81300: ll: -19212.948670701604\n",
            "Turn 81400: ll: -19175.81142333515\n",
            "Turn 81500: ll: -19175.474846474055\n",
            "Turn 81600: ll: -19184.399958310503\n",
            "Turn 81700: ll: -19164.616745940686\n",
            "Turn 81800: ll: -19159.6189616864\n",
            "Turn 81900: ll: -19154.572516503977\n",
            "Turn 82000: ll: -19157.898163646503\n",
            "Turn 82100: ll: -19149.19601091466\n",
            "Turn 82200: ll: -19144.240981564828\n",
            "Turn 82300: ll: -19138.86358064103\n",
            "Turn 82400: ll: -19178.625691112306\n",
            "Turn 82500: ll: -19243.107515896147\n",
            "Turn 82600: ll: -19201.368157075514\n",
            "Turn 82700: ll: -19123.66134474607\n",
            "Turn 82800: ll: -19146.423894739477\n",
            "Turn 82900: ll: -19107.179962324575\n",
            "Turn 83000: ll: -19103.206264863533\n",
            "Turn 83100: ll: -19098.34338965529\n",
            "Turn 83200: ll: -19091.997309869737\n",
            "Turn 83300: ll: -19087.83088519238\n",
            "Turn 83400: ll: -19122.131082499138\n",
            "Turn 83500: ll: -19106.113687617733\n",
            "Turn 83600: ll: -19083.55074767905\n",
            "Turn 83700: ll: -19120.68011661258\n",
            "Turn 83800: ll: -19096.54842013867\n",
            "Turn 83900: ll: -19077.53714804411\n",
            "Turn 84000: ll: -19071.457387646966\n",
            "Turn 84100: ll: -19072.028161006732\n",
            "Turn 84200: ll: -19078.18246738045\n",
            "Turn 84300: ll: -19054.176478081412\n",
            "Turn 84400: ll: -19038.1920564631\n",
            "Turn 84500: ll: -19034.797619450314\n",
            "Turn 84600: ll: -19030.582439048914\n",
            "Turn 84700: ll: -19023.681078330046\n",
            "Turn 84800: ll: -19020.73878726567\n",
            "Turn 84900: ll: -19013.632967552956\n",
            "Turn 85000: ll: -19014.203598994354\n",
            "Turn 85100: ll: -19015.790566641357\n",
            "Turn 85200: ll: -19005.756738272874\n",
            "Turn 85300: ll: -19011.30027658117\n",
            "Turn 85400: ll: -19051.32329111274\n",
            "Turn 85500: ll: -19024.04848594866\n",
            "Turn 85600: ll: -19079.473364337726\n",
            "Turn 85700: ll: -18992.218878395593\n",
            "Turn 85800: ll: -19038.039873972142\n",
            "Turn 85900: ll: -18962.111891840686\n",
            "Turn 86000: ll: -18958.22804858035\n",
            "Turn 86100: ll: -18962.188471846108\n",
            "Turn 86200: ll: -18955.59461364927\n",
            "Turn 86300: ll: -18950.760040492736\n",
            "Turn 86400: ll: -18942.515805546514\n",
            "Turn 86500: ll: -18936.6707237963\n",
            "Turn 86600: ll: -18934.464440899304\n",
            "Turn 86700: ll: -18930.416608846208\n",
            "Turn 86800: ll: -18930.547728065765\n",
            "Turn 86900: ll: -18916.308498043043\n",
            "Turn 87000: ll: -18909.43286089704\n",
            "Turn 87100: ll: -18912.667669711096\n",
            "Turn 87200: ll: -18965.735354910095\n",
            "Turn 87300: ll: -18909.034056393706\n",
            "Turn 87400: ll: -18905.762241127057\n",
            "Turn 87500: ll: -18895.74599851432\n",
            "Turn 87600: ll: -18900.450403373165\n",
            "Turn 87700: ll: -18914.549457250483\n",
            "Turn 87800: ll: -18897.024634209636\n",
            "Turn 87900: ll: -18891.391138876977\n",
            "Turn 88000: ll: -18876.251307421888\n",
            "Turn 88100: ll: -18864.111224567518\n",
            "Turn 88200: ll: -18860.070153714012\n",
            "Turn 88300: ll: -18855.88660465626\n",
            "Turn 88400: ll: -18850.539258417324\n",
            "Turn 88500: ll: -18853.042146739288\n",
            "Turn 88600: ll: -18842.070148768107\n",
            "Turn 88700: ll: -18837.343203904427\n",
            "Turn 88800: ll: -18842.788833271625\n",
            "Turn 88900: ll: -18851.527521944154\n",
            "Turn 89000: ll: -18851.58754573652\n",
            "Turn 89100: ll: -18863.9295978164\n",
            "Turn 89200: ll: -18840.231223827708\n",
            "Turn 89300: ll: -18843.316423206008\n",
            "Turn 89400: ll: -18831.097070943564\n",
            "Turn 89500: ll: -18803.230754047137\n",
            "Turn 89600: ll: -18805.42137849814\n",
            "Turn 89700: ll: -18794.936427186505\n",
            "Turn 89800: ll: -18807.720743980273\n",
            "Turn 89900: ll: -18817.542812872693\n",
            "Turn 90000: ll: -18826.18967173803\n",
            "Turn 90100: ll: -18850.855201098064\n",
            "Turn 90200: ll: -18824.305087095243\n",
            "Turn 90300: ll: -18806.029656742117\n",
            "Turn 90400: ll: -18821.273122394734\n",
            "Turn 90500: ll: -18857.57532084048\n",
            "Turn 90600: ll: -18879.830454079973\n",
            "Turn 90700: ll: -18882.234813721952\n",
            "Turn 90800: ll: -18805.099651822704\n",
            "Turn 90900: ll: -18793.790392691153\n",
            "Turn 91000: ll: -18768.374312068147\n",
            "Turn 91100: ll: -18773.38938863817\n",
            "Turn 91200: ll: -18769.625742160468\n",
            "Turn 91300: ll: -18765.571253799833\n",
            "Turn 91400: ll: -18745.965752132324\n",
            "Turn 91500: ll: -18757.883138311518\n",
            "Turn 91600: ll: -18736.96110195268\n",
            "Turn 91700: ll: -18724.71388838874\n",
            "Turn 91800: ll: -18726.32121114881\n",
            "Turn 91900: ll: -18712.352413658664\n",
            "Turn 92000: ll: -18708.527445781336\n",
            "Turn 92100: ll: -18715.95520129151\n",
            "Turn 92200: ll: -18711.15008763726\n",
            "Turn 92300: ll: -18694.12827715659\n",
            "Turn 92400: ll: -18686.54891934924\n",
            "Turn 92500: ll: -18688.22897524954\n"
          ]
        },
        {
          "name": "stdout",
          "output_type": "stream",
          "text": [
            "Turn 92600: ll: -18679.278805668087\n",
            "Turn 92700: ll: -18674.795728489233\n",
            "Turn 92800: ll: -18670.82922500586\n",
            "Turn 92900: ll: -18668.367709324943\n",
            "Turn 93000: ll: -18661.942970873497\n",
            "Turn 93100: ll: -18657.49254547697\n",
            "Turn 93200: ll: -18661.737941422543\n",
            "Turn 93300: ll: -18659.52372310146\n",
            "Turn 93400: ll: -18659.891978676227\n",
            "Turn 93500: ll: -18647.299443696917\n",
            "Turn 93600: ll: -18635.13060700074\n",
            "Turn 93700: ll: -18628.832235397145\n",
            "Turn 93800: ll: -18626.378485230176\n",
            "Turn 93900: ll: -18621.420083613833\n",
            "Turn 94000: ll: -18619.469818698082\n",
            "Turn 94100: ll: -18620.15167064243\n",
            "Turn 94200: ll: -18644.652718786267\n",
            "Turn 94300: ll: -18660.772632320368\n",
            "Turn 94400: ll: -18609.248518898617\n",
            "Turn 94500: ll: -18599.26938454341\n",
            "Turn 94600: ll: -18593.68967366955\n",
            "Turn 94700: ll: -18596.817887031022\n",
            "Turn 94800: ll: -18621.1828065757\n",
            "Turn 94900: ll: -18625.002759883006\n",
            "Turn 95000: ll: -18620.06172298506\n",
            "Turn 95100: ll: -18588.27789247832\n",
            "Turn 95200: ll: -18597.729696576906\n",
            "Turn 95300: ll: -18570.150600688416\n",
            "Turn 95400: ll: -18564.892634750373\n",
            "Turn 95500: ll: -18563.703743612947\n",
            "Turn 95600: ll: -18559.48100500679\n",
            "Turn 95700: ll: -18587.496439753406\n",
            "Turn 95800: ll: -18613.464960369703\n",
            "Turn 95900: ll: -18713.50417621096\n",
            "Turn 96000: ll: -18537.700921647905\n",
            "Turn 96100: ll: -18536.02418420749\n",
            "Turn 96200: ll: -18535.910442689157\n",
            "Turn 96300: ll: -18528.366943214118\n",
            "Turn 96400: ll: -18526.9397375345\n",
            "Turn 96500: ll: -18521.003935091576\n",
            "Turn 96600: ll: -18514.822289330696\n",
            "Turn 96700: ll: -18510.697250302343\n",
            "Turn 96800: ll: -18508.65412138593\n",
            "Turn 96900: ll: -18511.13120270372\n",
            "Turn 97000: ll: -18553.768503793908\n",
            "Turn 97100: ll: -18541.12237558092\n",
            "Turn 97200: ll: -18508.33832010212\n",
            "Turn 97300: ll: -18504.573083338066\n",
            "Turn 97400: ll: -18548.79116986724\n",
            "Turn 97500: ll: -18476.768909394305\n",
            "Turn 97600: ll: -18472.91434424545\n",
            "Turn 97700: ll: -18473.92300738563\n",
            "Turn 97800: ll: -18469.65822554141\n",
            "Turn 97900: ll: -18506.665210722203\n",
            "Turn 98000: ll: -18477.695106666026\n",
            "Turn 98100: ll: -18488.961480391066\n",
            "Turn 98200: ll: -18462.153782008972\n",
            "Turn 98300: ll: -18447.680446587212\n",
            "Turn 98400: ll: -18439.562617000527\n",
            "Turn 98500: ll: -18433.848242543696\n",
            "Turn 98600: ll: -18437.831928040876\n",
            "Turn 98700: ll: -18440.565727261797\n",
            "Turn 98800: ll: -18423.43205909661\n",
            "Turn 98900: ll: -18416.808260014295\n",
            "Turn 99000: ll: -18412.17266516012\n",
            "Turn 99100: ll: -18411.014858496055\n",
            "Turn 99200: ll: -18431.033411348777\n",
            "Turn 99300: ll: -18471.9883286384\n",
            "Turn 99400: ll: -18474.10257567611\n",
            "Turn 99500: ll: -18414.519635465607\n",
            "Turn 99600: ll: -18390.699618783605\n",
            "Turn 99700: ll: -18387.834491371148\n",
            "Turn 99800: ll: -18396.309349148913\n",
            "Turn 99900: ll: -18382.617114392124\n",
            "Turn 100000: ll: -18373.124815459916\n"
          ]
        }
      ],
      "source": [
        "X = sparse_matrix_train\n",
        "y = list(train['labels'])\n",
        "\n",
        "model = logistic_regression(X, y, learning_rate=1e-5, num_steps=100000)\n",
        "betas = model[0]"
      ]
    },
    {
      "cell_type": "code",
      "execution_count": 40,
      "metadata": {
        "id": "TzSwEKNpKPG4"
      },
      "outputs": [],
      "source": [
        "def predict(b, X, threshold=0.5):\n",
        "    \n",
        "    outcomes = []\n",
        "    idx = 0\n",
        "    \n",
        "    for i in tqdm(range(sparse_matrix_test.shape[0])):\n",
        "        outcome = sigmoid(np.dot(X[idx].toarray()[0], b))\n",
        "#         print(outcome)\n",
        "\n",
        "        if outcome > threshold:\n",
        "            outcomes.append(\"Democratic Party\")\n",
        "        else:\n",
        "            outcomes.append(\"Republican Party\")         \n",
        "        idx += 1\n",
        "        \n",
        "    return outcomes"
      ]
    },
    {
      "cell_type": "code",
      "execution_count": 41,
      "metadata": {
        "scrolled": true,
        "colab": {
          "base_uri": "https://localhost:8080/"
        },
        "id": "zYlbWF-PKPG4",
        "outputId": "338c61fa-b86a-44ca-8609-eac7ab7bb6fb"
      },
      "outputs": [
        {
          "output_type": "stream",
          "name": "stderr",
          "text": [
            "100%|██████████| 20000/20000 [00:04<00:00, 4581.46it/s]\n"
          ]
        }
      ],
      "source": [
        "predictions = predict(betas, sparse_matrix_test)"
      ]
    },
    {
      "cell_type": "code",
      "execution_count": 43,
      "metadata": {
        "colab": {
          "base_uri": "https://localhost:8080/"
        },
        "id": "Zv8zLa2LKPG4",
        "outputId": "ff47248c-1e48-4a35-eb27-d00af2919643"
      },
      "outputs": [
        {
          "output_type": "execute_result",
          "data": {
            "text/plain": [
              "(array(['Democratic Party', 'Republican Party'], dtype='<U16'),\n",
              " array([19999,     1]))"
            ]
          },
          "metadata": {},
          "execution_count": 43
        }
      ],
      "source": [
        "np.unique(predictions, return_counts=True)"
      ]
    },
    {
      "cell_type": "code",
      "execution_count": 44,
      "metadata": {
        "colab": {
          "base_uri": "https://localhost:8080/",
          "height": 423
        },
        "id": "FVZVZPqRKPG5",
        "outputId": "3fa3d047-6fa2-4533-84c0-fa1a1833b479"
      },
      "outputs": [
        {
          "output_type": "execute_result",
          "data": {
            "text/html": [
              "\n",
              "  <div id=\"df-bfeb28dd-81cc-444a-84d6-7f2d6cb44816\">\n",
              "    <div class=\"colab-df-container\">\n",
              "      <div>\n",
              "<style scoped>\n",
              "    .dataframe tbody tr th:only-of-type {\n",
              "        vertical-align: middle;\n",
              "    }\n",
              "\n",
              "    .dataframe tbody tr th {\n",
              "        vertical-align: top;\n",
              "    }\n",
              "\n",
              "    .dataframe thead th {\n",
              "        text-align: right;\n",
              "    }\n",
              "</style>\n",
              "<table border=\"1\" class=\"dataframe\">\n",
              "  <thead>\n",
              "    <tr style=\"text-align: right;\">\n",
              "      <th></th>\n",
              "      <th>uid_email</th>\n",
              "      <th>party_affiliation</th>\n",
              "    </tr>\n",
              "  </thead>\n",
              "  <tbody>\n",
              "    <tr>\n",
              "      <th>0</th>\n",
              "      <td>5dfbe09ce5b500dd3dcb9f93c8fb185f</td>\n",
              "      <td>Democratic Party</td>\n",
              "    </tr>\n",
              "    <tr>\n",
              "      <th>1</th>\n",
              "      <td>07e48f4183b98420a18503791fb412f6</td>\n",
              "      <td>Democratic Party</td>\n",
              "    </tr>\n",
              "    <tr>\n",
              "      <th>2</th>\n",
              "      <td>b58c8607d96a414db0e9cc10108c35f5</td>\n",
              "      <td>Democratic Party</td>\n",
              "    </tr>\n",
              "    <tr>\n",
              "      <th>3</th>\n",
              "      <td>3901d9539d69ada89e5c82e2f1ca950d</td>\n",
              "      <td>Democratic Party</td>\n",
              "    </tr>\n",
              "    <tr>\n",
              "      <th>4</th>\n",
              "      <td>6a3e8e6f31381e84a34571deee0f1238</td>\n",
              "      <td>Democratic Party</td>\n",
              "    </tr>\n",
              "    <tr>\n",
              "      <th>...</th>\n",
              "      <td>...</td>\n",
              "      <td>...</td>\n",
              "    </tr>\n",
              "    <tr>\n",
              "      <th>19995</th>\n",
              "      <td>9b11afd6a84d3806034d9080f4e9752a</td>\n",
              "      <td>Democratic Party</td>\n",
              "    </tr>\n",
              "    <tr>\n",
              "      <th>19996</th>\n",
              "      <td>888cacc2d660bf040f04ef1caf6ce844</td>\n",
              "      <td>Democratic Party</td>\n",
              "    </tr>\n",
              "    <tr>\n",
              "      <th>19997</th>\n",
              "      <td>712dc83f7a455870373c7a9eb30445d7</td>\n",
              "      <td>Democratic Party</td>\n",
              "    </tr>\n",
              "    <tr>\n",
              "      <th>19998</th>\n",
              "      <td>0bf3265244c2c06fff084c5a79a6387c</td>\n",
              "      <td>Democratic Party</td>\n",
              "    </tr>\n",
              "    <tr>\n",
              "      <th>19999</th>\n",
              "      <td>9b1f0f8d8a5da9840901f214ff59add7</td>\n",
              "      <td>Democratic Party</td>\n",
              "    </tr>\n",
              "  </tbody>\n",
              "</table>\n",
              "<p>20000 rows × 2 columns</p>\n",
              "</div>\n",
              "      <button class=\"colab-df-convert\" onclick=\"convertToInteractive('df-bfeb28dd-81cc-444a-84d6-7f2d6cb44816')\"\n",
              "              title=\"Convert this dataframe to an interactive table.\"\n",
              "              style=\"display:none;\">\n",
              "        \n",
              "  <svg xmlns=\"http://www.w3.org/2000/svg\" height=\"24px\"viewBox=\"0 0 24 24\"\n",
              "       width=\"24px\">\n",
              "    <path d=\"M0 0h24v24H0V0z\" fill=\"none\"/>\n",
              "    <path d=\"M18.56 5.44l.94 2.06.94-2.06 2.06-.94-2.06-.94-.94-2.06-.94 2.06-2.06.94zm-11 1L8.5 8.5l.94-2.06 2.06-.94-2.06-.94L8.5 2.5l-.94 2.06-2.06.94zm10 10l.94 2.06.94-2.06 2.06-.94-2.06-.94-.94-2.06-.94 2.06-2.06.94z\"/><path d=\"M17.41 7.96l-1.37-1.37c-.4-.4-.92-.59-1.43-.59-.52 0-1.04.2-1.43.59L10.3 9.45l-7.72 7.72c-.78.78-.78 2.05 0 2.83L4 21.41c.39.39.9.59 1.41.59.51 0 1.02-.2 1.41-.59l7.78-7.78 2.81-2.81c.8-.78.8-2.07 0-2.86zM5.41 20L4 18.59l7.72-7.72 1.47 1.35L5.41 20z\"/>\n",
              "  </svg>\n",
              "      </button>\n",
              "      \n",
              "  <style>\n",
              "    .colab-df-container {\n",
              "      display:flex;\n",
              "      flex-wrap:wrap;\n",
              "      gap: 12px;\n",
              "    }\n",
              "\n",
              "    .colab-df-convert {\n",
              "      background-color: #E8F0FE;\n",
              "      border: none;\n",
              "      border-radius: 50%;\n",
              "      cursor: pointer;\n",
              "      display: none;\n",
              "      fill: #1967D2;\n",
              "      height: 32px;\n",
              "      padding: 0 0 0 0;\n",
              "      width: 32px;\n",
              "    }\n",
              "\n",
              "    .colab-df-convert:hover {\n",
              "      background-color: #E2EBFA;\n",
              "      box-shadow: 0px 1px 2px rgba(60, 64, 67, 0.3), 0px 1px 3px 1px rgba(60, 64, 67, 0.15);\n",
              "      fill: #174EA6;\n",
              "    }\n",
              "\n",
              "    [theme=dark] .colab-df-convert {\n",
              "      background-color: #3B4455;\n",
              "      fill: #D2E3FC;\n",
              "    }\n",
              "\n",
              "    [theme=dark] .colab-df-convert:hover {\n",
              "      background-color: #434B5C;\n",
              "      box-shadow: 0px 1px 3px 1px rgba(0, 0, 0, 0.15);\n",
              "      filter: drop-shadow(0px 1px 2px rgba(0, 0, 0, 0.3));\n",
              "      fill: #FFFFFF;\n",
              "    }\n",
              "  </style>\n",
              "\n",
              "      <script>\n",
              "        const buttonEl =\n",
              "          document.querySelector('#df-bfeb28dd-81cc-444a-84d6-7f2d6cb44816 button.colab-df-convert');\n",
              "        buttonEl.style.display =\n",
              "          google.colab.kernel.accessAllowed ? 'block' : 'none';\n",
              "\n",
              "        async function convertToInteractive(key) {\n",
              "          const element = document.querySelector('#df-bfeb28dd-81cc-444a-84d6-7f2d6cb44816');\n",
              "          const dataTable =\n",
              "            await google.colab.kernel.invokeFunction('convertToInteractive',\n",
              "                                                     [key], {});\n",
              "          if (!dataTable) return;\n",
              "\n",
              "          const docLinkHtml = 'Like what you see? Visit the ' +\n",
              "            '<a target=\"_blank\" href=https://colab.research.google.com/notebooks/data_table.ipynb>data table notebook</a>'\n",
              "            + ' to learn more about interactive tables.';\n",
              "          element.innerHTML = '';\n",
              "          dataTable['output_type'] = 'display_data';\n",
              "          await google.colab.output.renderOutput(dataTable, element);\n",
              "          const docLink = document.createElement('div');\n",
              "          docLink.innerHTML = docLinkHtml;\n",
              "          element.appendChild(docLink);\n",
              "        }\n",
              "      </script>\n",
              "    </div>\n",
              "  </div>\n",
              "  "
            ],
            "text/plain": [
              "                              uid_email party_affiliation\n",
              "0      5dfbe09ce5b500dd3dcb9f93c8fb185f  Democratic Party\n",
              "1      07e48f4183b98420a18503791fb412f6  Democratic Party\n",
              "2      b58c8607d96a414db0e9cc10108c35f5  Democratic Party\n",
              "3      3901d9539d69ada89e5c82e2f1ca950d  Democratic Party\n",
              "4      6a3e8e6f31381e84a34571deee0f1238  Democratic Party\n",
              "...                                 ...               ...\n",
              "19995  9b11afd6a84d3806034d9080f4e9752a  Democratic Party\n",
              "19996  888cacc2d660bf040f04ef1caf6ce844  Democratic Party\n",
              "19997  712dc83f7a455870373c7a9eb30445d7  Democratic Party\n",
              "19998  0bf3265244c2c06fff084c5a79a6387c  Democratic Party\n",
              "19999  9b1f0f8d8a5da9840901f214ff59add7  Democratic Party\n",
              "\n",
              "[20000 rows x 2 columns]"
            ]
          },
          "metadata": {},
          "execution_count": 44
        }
      ],
      "source": [
        "test['party_affiliation'] = predictions\n",
        "submission_df = test[['uid_email', 'party_affiliation']]\n",
        "submission_df"
      ]
    },
    {
      "cell_type": "code",
      "execution_count": null,
      "metadata": {
        "id": "PZNYD7hfKPG5"
      },
      "outputs": [],
      "source": [
        "submission_df.to_csv('numpy_logit_submission.csv', index=False)"
      ]
    },
    {
      "cell_type": "markdown",
      "metadata": {
        "id": "-Knw306OKPG5"
      },
      "source": [
        "## Part 3: Logistic Regression with PyTorch"
      ]
    },
    {
      "cell_type": "code",
      "execution_count": 55,
      "metadata": {
        "id": "cYNhjmPlKPG5"
      },
      "outputs": [],
      "source": [
        "import torch"
      ]
    },
    {
      "cell_type": "code",
      "execution_count": 92,
      "metadata": {
        "id": "PMvucw_hKPG5"
      },
      "outputs": [],
      "source": [
        "def to_sparse_tensor(sparse_matrix):\n",
        "    X = sparse_matrix.tocoo()\n",
        "    # return torch.sparse.LongTensor(torch.LongTensor([coo.row.tolist(), coo.col.tolist(),]), torch.LongTensor(coo.data.astype(np.long)))\n",
        "    return torch.sparse_coo_tensor(np.mat([X.row, X.col]), X.data, size = X.shape).to(torch.float)\n",
        "\n",
        "sparse_tensor_train = to_sparse_tensor(sparse_matrix_train)\n",
        "sparse_tensor_dev = to_sparse_tensor(sparse_matrix_dev)\n",
        "sparse_tensor_test = to_sparse_tensor(sparse_matrix_test)"
      ]
    },
    {
      "cell_type": "code",
      "execution_count": 102,
      "metadata": {
        "colab": {
          "base_uri": "https://localhost:8080/"
        },
        "id": "313Iuz-NKPG5",
        "outputId": "af04b810-8b32-4d2e-e5e1-33bd27c99d37"
      },
      "outputs": [
        {
          "output_type": "execute_result",
          "data": {
            "text/plain": [
              "tensor(indices=tensor([[    0,     0,     0,  ..., 59998, 59998, 59998],\n",
              "                       [  100,   129,   157,  ..., 15136, 15253, 15356]]),\n",
              "       values=tensor([2., 1., 2.,  ..., 1., 3., 1.]),\n",
              "       size=(59999, 15389), nnz=9891710, layout=torch.sparse_coo)"
            ]
          },
          "metadata": {},
          "execution_count": 102
        }
      ],
      "source": [
        "sparse_tensor_train.to(torch.float)"
      ]
    },
    {
      "cell_type": "code",
      "execution_count": 94,
      "metadata": {
        "id": "jYyD9UQRKPG5"
      },
      "outputs": [],
      "source": [
        "y_train = torch.tensor(list(train['labels']), dtype=torch.float)"
      ]
    },
    {
      "cell_type": "code",
      "execution_count": 103,
      "metadata": {
        "colab": {
          "base_uri": "https://localhost:8080/"
        },
        "id": "o64MRSDuKPG5",
        "outputId": "c01eb2e1-4931-4d7e-dcdf-7e700515174d"
      },
      "outputs": [
        {
          "output_type": "execute_result",
          "data": {
            "text/plain": [
              "tensor([1., 1., 1.,  ..., 0., 1., 1.])"
            ]
          },
          "metadata": {},
          "execution_count": 103
        }
      ],
      "source": [
        "y_train"
      ]
    },
    {
      "cell_type": "code",
      "execution_count": 104,
      "metadata": {
        "id": "GJGKgtESKPG5"
      },
      "outputs": [],
      "source": [
        "import torch.nn as nn\n",
        "import torch.nn.functional as F\n",
        "\n",
        "class LogisticRegression(nn.Module):\n",
        "    def __init__(self, input_dim, output_dim): #input_dim, output_dim\n",
        "        super(LogisticRegression, self).__init__()\n",
        "        self.linear = nn.Linear(input_dim, output_dim) #input_dim, output_dim\n",
        "        \n",
        "    def forward(self, x):\n",
        "        outputs = F.sigmoid(self.linear(x))\n",
        "        return outputs\n",
        "\n",
        "input_dim = sparse_tensor_train.shape[1] #size of vocabulary\n",
        "output_dim = 1 #output should always be zero or one\n",
        "    \n",
        "model = LogisticRegression(input_dim, output_dim)"
      ]
    },
    {
      "cell_type": "code",
      "execution_count": 97,
      "metadata": {
        "id": "Lpx2wzLmKPG6"
      },
      "outputs": [],
      "source": [
        "import torch.optim as optim\n",
        "\n",
        "criterion = nn.BCELoss()\n",
        "optimizer = optim.SGD(model.parameters(), lr=0.05)"
      ]
    },
    {
      "cell_type": "code",
      "execution_count": 108,
      "metadata": {
        "colab": {
          "base_uri": "https://localhost:8080/",
          "height": 561
        },
        "id": "OT_kf1rmKPG6",
        "outputId": "b4b39036-d162-4d6d-98a6-8dc7a4794386"
      },
      "outputs": [
        {
          "output_type": "stream",
          "name": "stderr",
          "text": [
            "/usr/local/lib/python3.7/dist-packages/torch/nn/functional.py:1806: UserWarning: nn.functional.sigmoid is deprecated. Use torch.sigmoid instead.\n",
            "  warnings.warn(\"nn.functional.sigmoid is deprecated. Use torch.sigmoid instead.\")\n"
          ]
        },
        {
          "output_type": "stream",
          "name": "stdout",
          "text": [
            "torch.Size([59999])\n",
            "torch.Size([59999])\n",
            "torch.Size([59999])\n",
            "torch.Size([59999])\n",
            "torch.Size([59999])\n",
            "torch.Size([59999])\n",
            "torch.Size([59999])\n"
          ]
        },
        {
          "output_type": "error",
          "ename": "KeyboardInterrupt",
          "evalue": "ignored",
          "traceback": [
            "\u001b[0;31m---------------------------------------------------------------------------\u001b[0m",
            "\u001b[0;31mKeyboardInterrupt\u001b[0m                         Traceback (most recent call last)",
            "\u001b[0;32m<ipython-input-108-448bb33a6d03>\u001b[0m in \u001b[0;36m<module>\u001b[0;34m()\u001b[0m\n\u001b[1;32m      7\u001b[0m \u001b[0;34m\u001b[0m\u001b[0m\n\u001b[1;32m      8\u001b[0m     \u001b[0;31m#forward pass\u001b[0m\u001b[0;34m\u001b[0m\u001b[0;34m\u001b[0m\u001b[0;34m\u001b[0m\u001b[0m\n\u001b[0;32m----> 9\u001b[0;31m     \u001b[0mpredictions\u001b[0m \u001b[0;34m=\u001b[0m \u001b[0mmodel\u001b[0m\u001b[0;34m(\u001b[0m\u001b[0msparse_tensor_train\u001b[0m\u001b[0;34m)\u001b[0m\u001b[0;34m.\u001b[0m\u001b[0msqueeze\u001b[0m\u001b[0;34m(\u001b[0m\u001b[0;34m)\u001b[0m\u001b[0;34m\u001b[0m\u001b[0;34m\u001b[0m\u001b[0m\n\u001b[0m\u001b[1;32m     10\u001b[0m \u001b[0;34m\u001b[0m\u001b[0m\n\u001b[1;32m     11\u001b[0m     \u001b[0mprint\u001b[0m\u001b[0;34m(\u001b[0m\u001b[0mpredictions\u001b[0m\u001b[0;34m.\u001b[0m\u001b[0mshape\u001b[0m\u001b[0;34m)\u001b[0m\u001b[0;34m\u001b[0m\u001b[0;34m\u001b[0m\u001b[0m\n",
            "\u001b[0;32m/usr/local/lib/python3.7/dist-packages/torch/nn/modules/module.py\u001b[0m in \u001b[0;36m_call_impl\u001b[0;34m(self, *input, **kwargs)\u001b[0m\n\u001b[1;32m   1100\u001b[0m         if not (self._backward_hooks or self._forward_hooks or self._forward_pre_hooks or _global_backward_hooks\n\u001b[1;32m   1101\u001b[0m                 or _global_forward_hooks or _global_forward_pre_hooks):\n\u001b[0;32m-> 1102\u001b[0;31m             \u001b[0;32mreturn\u001b[0m \u001b[0mforward_call\u001b[0m\u001b[0;34m(\u001b[0m\u001b[0;34m*\u001b[0m\u001b[0minput\u001b[0m\u001b[0;34m,\u001b[0m \u001b[0;34m**\u001b[0m\u001b[0mkwargs\u001b[0m\u001b[0;34m)\u001b[0m\u001b[0;34m\u001b[0m\u001b[0;34m\u001b[0m\u001b[0m\n\u001b[0m\u001b[1;32m   1103\u001b[0m         \u001b[0;31m# Do not call functions when jit is used\u001b[0m\u001b[0;34m\u001b[0m\u001b[0;34m\u001b[0m\u001b[0;34m\u001b[0m\u001b[0m\n\u001b[1;32m   1104\u001b[0m         \u001b[0mfull_backward_hooks\u001b[0m\u001b[0;34m,\u001b[0m \u001b[0mnon_full_backward_hooks\u001b[0m \u001b[0;34m=\u001b[0m \u001b[0;34m[\u001b[0m\u001b[0;34m]\u001b[0m\u001b[0;34m,\u001b[0m \u001b[0;34m[\u001b[0m\u001b[0;34m]\u001b[0m\u001b[0;34m\u001b[0m\u001b[0;34m\u001b[0m\u001b[0m\n",
            "\u001b[0;32m<ipython-input-104-bd82386e7ebd>\u001b[0m in \u001b[0;36mforward\u001b[0;34m(self, x)\u001b[0m\n\u001b[1;32m      8\u001b[0m \u001b[0;34m\u001b[0m\u001b[0m\n\u001b[1;32m      9\u001b[0m     \u001b[0;32mdef\u001b[0m \u001b[0mforward\u001b[0m\u001b[0;34m(\u001b[0m\u001b[0mself\u001b[0m\u001b[0;34m,\u001b[0m \u001b[0mx\u001b[0m\u001b[0;34m)\u001b[0m\u001b[0;34m:\u001b[0m\u001b[0;34m\u001b[0m\u001b[0;34m\u001b[0m\u001b[0m\n\u001b[0;32m---> 10\u001b[0;31m         \u001b[0moutputs\u001b[0m \u001b[0;34m=\u001b[0m \u001b[0mF\u001b[0m\u001b[0;34m.\u001b[0m\u001b[0msigmoid\u001b[0m\u001b[0;34m(\u001b[0m\u001b[0mself\u001b[0m\u001b[0;34m.\u001b[0m\u001b[0mlinear\u001b[0m\u001b[0;34m(\u001b[0m\u001b[0mx\u001b[0m\u001b[0;34m)\u001b[0m\u001b[0;34m)\u001b[0m\u001b[0;34m\u001b[0m\u001b[0;34m\u001b[0m\u001b[0m\n\u001b[0m\u001b[1;32m     11\u001b[0m         \u001b[0;32mreturn\u001b[0m \u001b[0moutputs\u001b[0m\u001b[0;34m\u001b[0m\u001b[0;34m\u001b[0m\u001b[0m\n\u001b[1;32m     12\u001b[0m \u001b[0;34m\u001b[0m\u001b[0m\n",
            "\u001b[0;32m/usr/local/lib/python3.7/dist-packages/torch/nn/modules/module.py\u001b[0m in \u001b[0;36m_call_impl\u001b[0;34m(self, *input, **kwargs)\u001b[0m\n\u001b[1;32m   1100\u001b[0m         if not (self._backward_hooks or self._forward_hooks or self._forward_pre_hooks or _global_backward_hooks\n\u001b[1;32m   1101\u001b[0m                 or _global_forward_hooks or _global_forward_pre_hooks):\n\u001b[0;32m-> 1102\u001b[0;31m             \u001b[0;32mreturn\u001b[0m \u001b[0mforward_call\u001b[0m\u001b[0;34m(\u001b[0m\u001b[0;34m*\u001b[0m\u001b[0minput\u001b[0m\u001b[0;34m,\u001b[0m \u001b[0;34m**\u001b[0m\u001b[0mkwargs\u001b[0m\u001b[0;34m)\u001b[0m\u001b[0;34m\u001b[0m\u001b[0;34m\u001b[0m\u001b[0m\n\u001b[0m\u001b[1;32m   1103\u001b[0m         \u001b[0;31m# Do not call functions when jit is used\u001b[0m\u001b[0;34m\u001b[0m\u001b[0;34m\u001b[0m\u001b[0;34m\u001b[0m\u001b[0m\n\u001b[1;32m   1104\u001b[0m         \u001b[0mfull_backward_hooks\u001b[0m\u001b[0;34m,\u001b[0m \u001b[0mnon_full_backward_hooks\u001b[0m \u001b[0;34m=\u001b[0m \u001b[0;34m[\u001b[0m\u001b[0;34m]\u001b[0m\u001b[0;34m,\u001b[0m \u001b[0;34m[\u001b[0m\u001b[0;34m]\u001b[0m\u001b[0;34m\u001b[0m\u001b[0;34m\u001b[0m\u001b[0m\n",
            "\u001b[0;32m/usr/local/lib/python3.7/dist-packages/torch/nn/modules/linear.py\u001b[0m in \u001b[0;36mforward\u001b[0;34m(self, input)\u001b[0m\n\u001b[1;32m    101\u001b[0m \u001b[0;34m\u001b[0m\u001b[0m\n\u001b[1;32m    102\u001b[0m     \u001b[0;32mdef\u001b[0m \u001b[0mforward\u001b[0m\u001b[0;34m(\u001b[0m\u001b[0mself\u001b[0m\u001b[0;34m,\u001b[0m \u001b[0minput\u001b[0m\u001b[0;34m:\u001b[0m \u001b[0mTensor\u001b[0m\u001b[0;34m)\u001b[0m \u001b[0;34m->\u001b[0m \u001b[0mTensor\u001b[0m\u001b[0;34m:\u001b[0m\u001b[0;34m\u001b[0m\u001b[0;34m\u001b[0m\u001b[0m\n\u001b[0;32m--> 103\u001b[0;31m         \u001b[0;32mreturn\u001b[0m \u001b[0mF\u001b[0m\u001b[0;34m.\u001b[0m\u001b[0mlinear\u001b[0m\u001b[0;34m(\u001b[0m\u001b[0minput\u001b[0m\u001b[0;34m,\u001b[0m \u001b[0mself\u001b[0m\u001b[0;34m.\u001b[0m\u001b[0mweight\u001b[0m\u001b[0;34m,\u001b[0m \u001b[0mself\u001b[0m\u001b[0;34m.\u001b[0m\u001b[0mbias\u001b[0m\u001b[0;34m)\u001b[0m\u001b[0;34m\u001b[0m\u001b[0;34m\u001b[0m\u001b[0m\n\u001b[0m\u001b[1;32m    104\u001b[0m \u001b[0;34m\u001b[0m\u001b[0m\n\u001b[1;32m    105\u001b[0m     \u001b[0;32mdef\u001b[0m \u001b[0mextra_repr\u001b[0m\u001b[0;34m(\u001b[0m\u001b[0mself\u001b[0m\u001b[0;34m)\u001b[0m \u001b[0;34m->\u001b[0m \u001b[0mstr\u001b[0m\u001b[0;34m:\u001b[0m\u001b[0;34m\u001b[0m\u001b[0;34m\u001b[0m\u001b[0m\n",
            "\u001b[0;32m/usr/local/lib/python3.7/dist-packages/torch/nn/functional.py\u001b[0m in \u001b[0;36mlinear\u001b[0;34m(input, weight, bias)\u001b[0m\n\u001b[1;32m   1846\u001b[0m     \u001b[0;32mif\u001b[0m \u001b[0mhas_torch_function_variadic\u001b[0m\u001b[0;34m(\u001b[0m\u001b[0minput\u001b[0m\u001b[0;34m,\u001b[0m \u001b[0mweight\u001b[0m\u001b[0;34m,\u001b[0m \u001b[0mbias\u001b[0m\u001b[0;34m)\u001b[0m\u001b[0;34m:\u001b[0m\u001b[0;34m\u001b[0m\u001b[0;34m\u001b[0m\u001b[0m\n\u001b[1;32m   1847\u001b[0m         \u001b[0;32mreturn\u001b[0m \u001b[0mhandle_torch_function\u001b[0m\u001b[0;34m(\u001b[0m\u001b[0mlinear\u001b[0m\u001b[0;34m,\u001b[0m \u001b[0;34m(\u001b[0m\u001b[0minput\u001b[0m\u001b[0;34m,\u001b[0m \u001b[0mweight\u001b[0m\u001b[0;34m,\u001b[0m \u001b[0mbias\u001b[0m\u001b[0;34m)\u001b[0m\u001b[0;34m,\u001b[0m \u001b[0minput\u001b[0m\u001b[0;34m,\u001b[0m \u001b[0mweight\u001b[0m\u001b[0;34m,\u001b[0m \u001b[0mbias\u001b[0m\u001b[0;34m=\u001b[0m\u001b[0mbias\u001b[0m\u001b[0;34m)\u001b[0m\u001b[0;34m\u001b[0m\u001b[0;34m\u001b[0m\u001b[0m\n\u001b[0;32m-> 1848\u001b[0;31m     \u001b[0;32mreturn\u001b[0m \u001b[0mtorch\u001b[0m\u001b[0;34m.\u001b[0m\u001b[0m_C\u001b[0m\u001b[0;34m.\u001b[0m\u001b[0m_nn\u001b[0m\u001b[0;34m.\u001b[0m\u001b[0mlinear\u001b[0m\u001b[0;34m(\u001b[0m\u001b[0minput\u001b[0m\u001b[0;34m,\u001b[0m \u001b[0mweight\u001b[0m\u001b[0;34m,\u001b[0m \u001b[0mbias\u001b[0m\u001b[0;34m)\u001b[0m\u001b[0;34m\u001b[0m\u001b[0;34m\u001b[0m\u001b[0m\n\u001b[0m\u001b[1;32m   1849\u001b[0m \u001b[0;34m\u001b[0m\u001b[0m\n\u001b[1;32m   1850\u001b[0m \u001b[0;34m\u001b[0m\u001b[0m\n",
            "\u001b[0;31mKeyboardInterrupt\u001b[0m: "
          ]
        }
      ],
      "source": [
        "idx = 0\n",
        "\n",
        "for step in range(1000):\n",
        "    \n",
        "#     model.train()\n",
        "    optimizer.zero_grad()\n",
        "    \n",
        "    #forward pass\n",
        "    predictions = model(sparse_tensor_train).squeeze()\n",
        "    \n",
        "    print(predictions.shape)\n",
        "\n",
        "    #compute loss\n",
        "    loss = criterion(predictions, y_train)\n",
        "    \n",
        "    #backward pass\n",
        "    loss.backward()\n",
        "    optimizer.step()\n",
        "    \n",
        "    idx += 1\n",
        "    \n",
        "    if idx % 100 == 99:\n",
        "        \n",
        "        #Report Loss\n",
        "        print(f\"Turn {i + 1}: ll: {ll}\")\n",
        "        \n",
        "        #Evaluate on Dev Data\n",
        "        pass"
      ]
    },
    {
      "cell_type": "code",
      "execution_count": null,
      "metadata": {
        "id": "OnYF9ECTKPG6"
      },
      "outputs": [],
      "source": [
        "indices = np.arange(10)\n",
        "\n",
        "for epoch in range(1000):\n",
        "    running_loss = 0.0\n",
        "    \n",
        "    #Random Sampling\n",
        "    np.random.shuffle(indices)\n",
        "    \n",
        "    for sample in range(len(indices)):\n",
        "        i = indices[sample]\n",
        "        \n",
        "        X = sparse_matrix_train[i]\n",
        "        target = train_y[i]\n",
        "        \n",
        "        \n",
        "    "
      ]
    }
  ],
  "metadata": {
    "kernelspec": {
      "display_name": "Python 3",
      "language": "python",
      "name": "python3"
    },
    "language_info": {
      "codemirror_mode": {
        "name": "ipython",
        "version": 3
      },
      "file_extension": ".py",
      "mimetype": "text/x-python",
      "name": "python",
      "nbconvert_exporter": "python",
      "pygments_lexer": "ipython3",
      "version": "3.8.5"
    },
    "colab": {
      "name": "Numpy_Logistic_Regression.ipynb",
      "provenance": [],
      "collapsed_sections": []
    }
  },
  "nbformat": 4,
  "nbformat_minor": 0
}