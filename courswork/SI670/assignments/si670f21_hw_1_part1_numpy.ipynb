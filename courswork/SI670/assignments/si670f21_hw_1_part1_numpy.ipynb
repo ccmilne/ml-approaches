{
 "cells": [
  {
   "cell_type": "markdown",
   "metadata": {
    "id": "T81ynTUsJt5_",
    "nbgrader": {
     "checksum": "41334a296fe9ffff295c134417340fc5",
     "grade": false,
     "grade_id": "cell-cf5099926e9f16fa",
     "locked": true,
     "schema_version": 1,
     "solution": false
    }
   },
   "source": [
    "## SI 670 Applied Machine Learning, Assignment 1 (Part 1):\n",
    "## NumPy Exercises (30 pts).   Due Thursday Sept 16 2021, 12:59pm.\n",
    "\n",
    "\n",
    "Submit your completed notebook file to the Canvas site - IMPORTANT: please name your submitted file si670-hw1-part1-youruniqname.ipynb.\n",
    "\n",
    "As a reminder, the notebook code you submit must be your own work. Feel free to discuss general approaches to the homework with classmates.\n",
    "\n",
    "The [NumPy](https://numpy.org/) library and its n-dimensional arrays in particular are indispensable to applied machine learning in Python, as many popular machine learning libraries, such as [Scikit-Learn](https://scikit-learn.org/stable/), are built on top of NumPy. Having a strong command of NumPy serves as a great stepping stone into the exciting world of applied machine learning. The purpose of this assignment is to help you review and practice some of the common operations and coding patterns associated with `np.ndarray` objects. "
   ]
  },
  {
   "cell_type": "code",
   "execution_count": 1,
   "metadata": {
    "id": "eveKVV7iJt6B",
    "nbgrader": {
     "checksum": "3d060955d07cc6e9a283f662736f321d",
     "grade": false,
     "grade_id": "cell-7696bde2345190bb",
     "locked": true,
     "schema_version": 1,
     "solution": false
    }
   },
   "outputs": [],
   "source": [
    "# Since this is a NumPy exercise, please use NumPy as the only external library in your work\n",
    "import numpy as np"
   ]
  },
  {
   "cell_type": "markdown",
   "metadata": {
    "id": "OYR4zdHJJt6C",
    "nbgrader": {
     "checksum": "1872f1d24efb2c14ea9d62b1368bc609",
     "grade": false,
     "grade_id": "cell-5192a5893e9a8115",
     "locked": true,
     "schema_version": 1,
     "solution": false
    }
   },
   "source": [
    "### Question 1. Array Creation (5 pts)\n",
    "\n",
    "Write a function to create an `n` by `d` `np.ndarray` of an integer type with numbers from `0` to `k` (exclusive) filled in. The numbers should be aranged in order and along the rows. For example, with `k=100`, `n=20` and `d=5`, your function should return:\n",
    "\n",
    "```\n",
    "array([[ 0,  1,  2,  3,  4],\n",
    "       [ 5,  6,  7,  8,  9],\n",
    "       ...\n",
    "       [90, 91, 92, 93, 94],\n",
    "       [95, 96, 97, 98, 99]])\n",
    "```\n",
    "\n",
    "**This function should return an integer `np.ndarray` of shape `(n, d)`.**"
   ]
  },
  {
   "cell_type": "code",
   "execution_count": 49,
   "metadata": {
    "id": "ZxQnvUHKJt6C",
    "nbgrader": {
     "checksum": "b359511d6f9a821d6e23fb162b0cc319",
     "grade": false,
     "grade_id": "cell-0562c45651419b03",
     "locked": false,
     "schema_version": 1,
     "solution": true
    }
   },
   "outputs": [],
   "source": [
    "def create_array(k, n, d):\n",
    "    \"\"\"\n",
    "    This function returns an n by d matrix with numbers from 0 to k (exclusive) filled in. \n",
    "    \"\"\"\n",
    "    assert n * d == k, \"Q1: The values of n and d are not compatible with the value of k. \"\n",
    "    \n",
    "    array = np.arange(k).reshape((n, d))\n",
    "    \n",
    "    return array"
   ]
  },
  {
   "cell_type": "code",
   "execution_count": 50,
   "metadata": {},
   "outputs": [
    {
     "name": "stdout",
     "output_type": "stream",
     "text": [
      "[[ 0  1  2  3  4]\n",
      " [ 5  6  7  8  9]\n",
      " [10 11 12 13 14]\n",
      " [15 16 17 18 19]\n",
      " [20 21 22 23 24]\n",
      " [25 26 27 28 29]\n",
      " [30 31 32 33 34]\n",
      " [35 36 37 38 39]\n",
      " [40 41 42 43 44]\n",
      " [45 46 47 48 49]\n",
      " [50 51 52 53 54]\n",
      " [55 56 57 58 59]\n",
      " [60 61 62 63 64]\n",
      " [65 66 67 68 69]\n",
      " [70 71 72 73 74]\n",
      " [75 76 77 78 79]\n",
      " [80 81 82 83 84]\n",
      " [85 86 87 88 89]\n",
      " [90 91 92 93 94]\n",
      " [95 96 97 98 99]]\n"
     ]
    }
   ],
   "source": [
    "#testing\n",
    "q1 = create_array(k=100, n=20, d=5)\n",
    "print(q1)"
   ]
  },
  {
   "cell_type": "markdown",
   "metadata": {
    "id": "-9OrI7JrJt6D",
    "nbgrader": {
     "checksum": "b5ed80081317f724b120960f271d80d9",
     "grade": false,
     "grade_id": "cell-d17102a8aade0d25",
     "locked": true,
     "schema_version": 1,
     "solution": false
    }
   },
   "source": [
    "### Question 2. Row Sum (5 pts)\n",
    "\n",
    "Complete the function below that returns the sum of all **rows** in a 2-D matrix as a **row** vector. For example, given matrix\n",
    "\n",
    "```\n",
    "array([[ 0,  1,  2,  3,  4],\n",
    "       [ 5,  6,  7,  8,  9],\n",
    "       ...\n",
    "       [90, 91, 92, 93, 94],\n",
    "       [95, 96, 97, 98, 99]])\n",
    "```\n",
    "\n",
    "it should return\n",
    "```\n",
    "array([ 950,  970,  990, 1010, 1030])\n",
    "```\n",
    "\n",
    "**This function should return a `np.ndarray` of shape `(arr.shape[-1], )`, given the input 2D matrix `arr`.**"
   ]
  },
  {
   "cell_type": "code",
   "execution_count": 51,
   "metadata": {
    "id": "ajdDU9sdJt6D",
    "nbgrader": {
     "checksum": "5effab256e9f98114e8ed7c444c55e19",
     "grade": false,
     "grade_id": "cell-7da0be2f62cc82c6",
     "locked": false,
     "schema_version": 1,
     "solution": true
    }
   },
   "outputs": [],
   "source": [
    "def calc_row_sum(arr):\n",
    "    \"\"\"\n",
    "    This function calculates the sum of all rows in a 2D matrix \"arr\". \n",
    "    \"\"\"\n",
    "    row_sum = arr.sum(axis=0)\n",
    "    \n",
    "    return row_sum"
   ]
  },
  {
   "cell_type": "code",
   "execution_count": 52,
   "metadata": {},
   "outputs": [
    {
     "name": "stdout",
     "output_type": "stream",
     "text": [
      "[ 950  970  990 1010 1030]\n"
     ]
    }
   ],
   "source": [
    "q2 = calc_row_sum(q1)\n",
    "print(q2)"
   ]
  },
  {
   "cell_type": "markdown",
   "metadata": {
    "id": "X8qtmi7RJt6E",
    "nbgrader": {
     "checksum": "eb6b46b7c9a656986cebcb0060f8feda",
     "grade": false,
     "grade_id": "cell-151d159eb6cc7465",
     "locked": true,
     "schema_version": 1,
     "solution": false
    }
   },
   "source": [
    "### Question 3. Column Sum (5 pts)\n",
    "\n",
    "Complete the function below that returns the sum of all **columns** in a 2-D matrix as a **column** vector. For example, given matrix\n",
    "\n",
    "```\n",
    "array([[ 0,  1,  2,  3,  4],\n",
    "       [ 5,  6,  7,  8,  9],\n",
    "       ...\n",
    "       [90, 91, 92, 93, 94],\n",
    "       [95, 96, 97, 98, 99]])\n",
    "```\n",
    "\n",
    "it should return\n",
    "```\n",
    "array([[ 10],\n",
    "       [ 35],\n",
    "       ...\n",
    "       [460],\n",
    "       [485]])\n",
    "```\n",
    "\n",
    "**This function should return a `np.ndarray` of shape `(arr.shape[0], 1)`, given the input 2D matrix `arr`.**"
   ]
  },
  {
   "cell_type": "code",
   "execution_count": 53,
   "metadata": {
    "id": "_5f4s6JgJt6E",
    "nbgrader": {
     "checksum": "b964b46d9b840ad4c5feacf8ffaba671",
     "grade": false,
     "grade_id": "cell-fac24fc5a519ef06",
     "locked": false,
     "schema_version": 1,
     "solution": true
    }
   },
   "outputs": [],
   "source": [
    "def calc_col_sum(arr):\n",
    "    \"\"\"\n",
    "    This function calculates the sum of all columns in a 2D matrix \"arr\". \n",
    "    \"\"\"\n",
    "    col_sum = arr.sum(axis=1)\n",
    "    \n",
    "    return col_sum"
   ]
  },
  {
   "cell_type": "code",
   "execution_count": 54,
   "metadata": {},
   "outputs": [
    {
     "name": "stdout",
     "output_type": "stream",
     "text": [
      "[ 10  35  60  85 110 135 160 185 210 235 260 285 310 335 360 385 410 435\n",
      " 460 485]\n"
     ]
    }
   ],
   "source": [
    "q3 = calc_col_sum(q1)\n",
    "print(q3)"
   ]
  },
  {
   "cell_type": "markdown",
   "metadata": {
    "id": "QZTll0KhJt6F",
    "nbgrader": {
     "checksum": "fe99f27e25891e74ff9de7adcdc6cbc4",
     "grade": false,
     "grade_id": "cell-33882a911ba5c477",
     "locked": true,
     "schema_version": 1,
     "solution": false
    }
   },
   "source": [
    "### Question 4. Sum of Entries from Even Rows and Columns  (5 pts)\n",
    "\n",
    "Write a function to return the sum of entries with **an even row and column index** in a 2-D matrix as a **single number**. For example, given matrix\n",
    "\n",
    "```\n",
    "array([[ 0,  1,  2,  3,  4],\n",
    "       [ 5,  6,  7,  8,  9]])\n",
    "```\n",
    "\n",
    "it should return `6`, because `6 = 0 + 2 + 4`. \n",
    "\n",
    "**This function should return a single number given the input 2D matrix `arr`.**"
   ]
  },
  {
   "cell_type": "code",
   "execution_count": 55,
   "metadata": {
    "id": "yzxIo2p5Jt6G",
    "nbgrader": {
     "checksum": "f4cf38799d1ae6389ef011535d52b257",
     "grade": false,
     "grade_id": "cell-61b34fdd39e99b03",
     "locked": false,
     "schema_version": 1,
     "solution": true
    }
   },
   "outputs": [],
   "source": [
    "def calc_even_row_col_sum(arr):\n",
    "    \"\"\"\n",
    "    This function calculates the sum of entries with an even row and column index\n",
    "    \"\"\"\n",
    "    even_row_col_sum = arr[0::2, 0::2].sum()\n",
    "    \n",
    "    return even_row_col_sum"
   ]
  },
  {
   "cell_type": "code",
   "execution_count": 56,
   "metadata": {},
   "outputs": [
    {
     "name": "stdout",
     "output_type": "stream",
     "text": [
      "6\n"
     ]
    }
   ],
   "source": [
    "arr = np.array([[0, 1, 2, 3, 4], [5, 6, 7, 8, 9]])\n",
    "q4 = calc_even_row_col_sum(arr)\n",
    "print(q4)"
   ]
  },
  {
   "cell_type": "code",
   "execution_count": 57,
   "metadata": {},
   "outputs": [
    {
     "data": {
      "text/plain": [
       "1410"
      ]
     },
     "execution_count": 57,
     "metadata": {},
     "output_type": "execute_result"
    }
   ],
   "source": [
    "test=create_array(100,20,5)\n",
    "calc_even_row_col_sum(test)"
   ]
  },
  {
   "cell_type": "markdown",
   "metadata": {
    "id": "X1EpWJbDJt6H",
    "nbgrader": {
     "checksum": "b7cad594d30dc8eb1eeed11c72e46854",
     "grade": false,
     "grade_id": "cell-69dd1eef26cd5aac",
     "locked": true,
     "schema_version": 1,
     "solution": false
    }
   },
   "source": [
    "### Question 5. Row Selection  (5 pts)\n",
    "\n",
    "Write a function to return the `top_n` **rows** of a 2-D matrix in descending order of their sum of entries. For example, given matrix\n",
    "\n",
    "```\n",
    "array([[ 6,  7,  8,  9, 10, 11],\n",
    "       [12, 13, 14, 15, 16, 17],\n",
    "       [18, 19, 20, 21, 22, 23],\n",
    "       [ 0,  1,  2,  3,  4,  5],\n",
    "       [24, 25, 26, 27, 28, 29]])\n",
    "```\n",
    "\n",
    "and `top_n=3`, it should return\n",
    "```\n",
    "array([[24, 25, 26, 27, 28, 29],\n",
    "       [18, 19, 20, 21, 22, 23],\n",
    "       [12, 13, 14, 15, 16, 17]])\n",
    "```\n",
    "\n",
    "**This function should return a `np.ndarray` of shape `(top_n, arr.shape[-1])`, given the input 2D matrix `arr`.**"
   ]
  },
  {
   "cell_type": "code",
   "execution_count": 58,
   "metadata": {
    "id": "rBEVPNM9Jt6H",
    "nbgrader": {
     "checksum": "7ac8ab509c9ec7efd1f2be1754121ea2",
     "grade": false,
     "grade_id": "cell-8e5c85428bc3e008",
     "locked": false,
     "schema_version": 1,
     "solution": true
    }
   },
   "outputs": [],
   "source": [
    "def select_rows(arr, top_n):\n",
    "    \"\"\"\n",
    "    This function selects the top_n rows that have the largest sum of entries\n",
    "    \"\"\"\n",
    "    sorted_matrix = arr[np.argsort(arr.sum(axis=1))][::-1]  \n",
    "    sel_rows = sorted_matrix[0:top_n]\n",
    "\n",
    "    return sel_rows"
   ]
  },
  {
   "cell_type": "code",
   "execution_count": 59,
   "metadata": {},
   "outputs": [
    {
     "name": "stdout",
     "output_type": "stream",
     "text": [
      "[[24 25 26 27 28 29]\n",
      " [18 19 20 21 22 23]\n",
      " [12 13 14 15 16 17]]\n"
     ]
    }
   ],
   "source": [
    "arr = np.array([[ 6,  7,  8,  9, 10, 11],\n",
    "               [12, 13, 14, 15, 16, 17],\n",
    "               [18, 19, 20, 21, 22, 23],\n",
    "               [ 0,  1,  2,  3,  4,  5],\n",
    "               [24, 25, 26, 27, 28, 29]])\n",
    "\n",
    "q5 = select_rows(arr, top_n=3)\n",
    "print(q5)"
   ]
  },
  {
   "cell_type": "markdown",
   "metadata": {
    "id": "ILnDogDvJt6I",
    "nbgrader": {
     "checksum": "35bc786ea476aeec3aee9f384a380321",
     "grade": false,
     "grade_id": "cell-eef73d2512084cc8",
     "locked": true,
     "schema_version": 1,
     "solution": false
    }
   },
   "source": [
    "### Question 6. Pairwise Cosine Similarity  (5 pts)\n",
    "\n",
    "Write a function to compute all pairwise cosine similarity of the **row vectors** in a 2-D matrix. For example, given matrix\n",
    "\n",
    "```\n",
    "array([[ 0,  1,  2,  3,  4],\n",
    "       [ 5,  6,  7,  8,  9],\n",
    "       [10, 11, 12, 13, 14]])\n",
    "```\n",
    "\n",
    "it should return\n",
    "```\n",
    "array([[1.        , 0.91465912, 0.87845859],\n",
    "       [0.91465912, 1.        , 0.99663684],\n",
    "       [0.87845859, 0.99663684, 1.        ]])\n",
    "```\n",
    "\n",
    "where the `(i, j)` entry of the result is the cosine similarity between the row vector `arr[i]` and the row vector `arr[j]`:  \n",
    "\n",
    "```\n",
    "cos_sim[i, j] == CosSim(arr[i], arr[j]).\n",
    "```\n",
    "\n",
    "\n",
    "\n",
    "As usual, the cosine similarity between two vectors $x, y$ is defined as:\n",
    "\n",
    "\\begin{equation*}\n",
    "\\mathrm{CosSim}(x, y) = \\frac{x^{T}y}{\\left\\lVert x \\right\\rVert_{2} \\left\\lVert y \\right\\rVert_{2}} = \\left(\\frac{x}{\\left\\lVert x \\right\\rVert_{2}}\\right)^{T}\\left(\\frac{y}{\\left\\lVert y \\right\\rVert_{2}}\\right)\n",
    "\\end{equation*}\n",
    "\n",
    "**This function should return a `np.ndarray` of shape `(arr.shape[0], arr.shape[0])`, given the input 2D matrix `arr`.**"
   ]
  },
  {
   "cell_type": "code",
   "execution_count": 4,
   "metadata": {
    "id": "4sTUlRA5Jt6I",
    "nbgrader": {
     "checksum": "684416c4498854d8f75aad85e9955b8e",
     "grade": false,
     "grade_id": "cell-4b71f9b9bd2e9139",
     "locked": false,
     "schema_version": 1,
     "solution": true
    }
   },
   "outputs": [],
   "source": [
    "def calc_pairwise_cos_sim(arr):\n",
    "    \"\"\"\n",
    "    This function computes all pairwise cosine similarity\n",
    "    \"\"\"   \n",
    "    reshaped = arr / np.linalg.norm(arr, 2, axis=1).reshape(-1, 1)\n",
    "    #print(reshaped)\n",
    "    cos_sim = np.dot(reshaped, reshaped.T)\n",
    "        \n",
    "    return cos_sim"
   ]
  },
  {
   "cell_type": "code",
   "execution_count": 5,
   "metadata": {},
   "outputs": [
    {
     "name": "stdout",
     "output_type": "stream",
     "text": [
      "[[1.         0.91465912 0.87845859]\n",
      " [0.91465912 1.         0.99663684]\n",
      " [0.87845859 0.99663684 1.        ]]\n"
     ]
    }
   ],
   "source": [
    "arr = np.array([[ 0,  1,  2,  3,  4],\n",
    "                [ 5,  6,  7,  8,  9],\n",
    "                [10, 11, 12, 13, 14]])\n",
    "\n",
    "q6 = calc_pairwise_cos_sim(arr)\n",
    "print(q6)"
   ]
  },
  {
   "cell_type": "markdown",
   "metadata": {
    "id": "xuk1A2P2Jt6J",
    "nbgrader": {
     "checksum": "44cff3d8a4af26cf8e2b2711a36ce7ef",
     "grade": false,
     "grade_id": "cell-00bcd9708ed8e4a3",
     "locked": true,
     "schema_version": 1,
     "solution": false
    }
   },
   "source": [
    "While this \"appetiser\" exercise cannot possibly cover all aspects of NumPy, we do hope it has helped you identify your own areas of improvement and stimulated your \"appetite\" for practising NumPy more!"
   ]
  }
 ],
 "metadata": {
  "colab": {
   "name": "si670f21_hw_1_part1_numpy.ipynb",
   "provenance": []
  },
  "kernelspec": {
   "display_name": "Python 3",
   "language": "python",
   "name": "python3"
  },
  "language_info": {
   "codemirror_mode": {
    "name": "ipython",
    "version": 3
   },
   "file_extension": ".py",
   "mimetype": "text/x-python",
   "name": "python",
   "nbconvert_exporter": "python",
   "pygments_lexer": "ipython3",
   "version": "3.8.5"
  }
 },
 "nbformat": 4,
 "nbformat_minor": 4
}
