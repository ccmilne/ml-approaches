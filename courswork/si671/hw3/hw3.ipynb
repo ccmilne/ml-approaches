{
 "cells": [
  {
   "cell_type": "markdown",
   "metadata": {},
   "source": [
    "# SI 671: Data Mining HW #3\n",
    "\n",
    "Nov. 18, 2021\n",
    "\n",
    "Cameron Milne"
   ]
  },
  {
   "cell_type": "markdown",
   "metadata": {
    "tags": []
   },
   "source": [
    "## Part 1: Exploratory Social Network Analysis"
   ]
  },
  {
   "cell_type": "markdown",
   "metadata": {},
   "source": [
    "### Importing Data"
   ]
  },
  {
   "cell_type": "code",
   "execution_count": 1098,
   "metadata": {},
   "outputs": [],
   "source": [
    "import numpy as np\n",
    "import pandas as pd\n",
    "import networkx as nx\n",
    "import matplotlib.pyplot as plt\n",
    "\n",
    "import warnings\n",
    "warnings.filterwarnings(\"ignore\")"
   ]
  },
  {
   "cell_type": "code",
   "execution_count": 1099,
   "metadata": {},
   "outputs": [
    {
     "data": {
      "text/html": [
       "<div>\n",
       "<style scoped>\n",
       "    .dataframe tbody tr th:only-of-type {\n",
       "        vertical-align: middle;\n",
       "    }\n",
       "\n",
       "    .dataframe tbody tr th {\n",
       "        vertical-align: top;\n",
       "    }\n",
       "\n",
       "    .dataframe thead th {\n",
       "        text-align: right;\n",
       "    }\n",
       "</style>\n",
       "<table border=\"1\" class=\"dataframe\">\n",
       "  <thead>\n",
       "    <tr style=\"text-align: right;\">\n",
       "      <th></th>\n",
       "      <th>FromNodeId</th>\n",
       "      <th>ToNodeId</th>\n",
       "    </tr>\n",
       "  </thead>\n",
       "  <tbody>\n",
       "    <tr>\n",
       "      <th>0</th>\n",
       "      <td>1</td>\n",
       "      <td>2</td>\n",
       "    </tr>\n",
       "    <tr>\n",
       "      <th>1</th>\n",
       "      <td>1</td>\n",
       "      <td>4</td>\n",
       "    </tr>\n",
       "  </tbody>\n",
       "</table>\n",
       "</div>"
      ],
      "text/plain": [
       "   FromNodeId  ToNodeId\n",
       "0           1         2\n",
       "1           1         4"
      ]
     },
     "execution_count": 1099,
     "metadata": {},
     "output_type": "execute_result"
    }
   ],
   "source": [
    "amazon = pd.read_csv('amazonNetwork.csv')\n",
    "amazon.head(2)"
   ]
  },
  {
   "cell_type": "code",
   "execution_count": 1100,
   "metadata": {},
   "outputs": [
    {
     "name": "stdout",
     "output_type": "stream",
     "text": [
      "True\n",
      "Name: \n",
      "Type: DiGraph\n",
      "Number of nodes: 2647\n",
      "Number of edges: 10841\n",
      "Average in degree:   4.0956\n",
      "Average out degree:   4.0956\n"
     ]
    }
   ],
   "source": [
    "G = nx.from_pandas_edgelist(amazon, source='FromNodeId',target='ToNodeId', create_using=nx.DiGraph())\n",
    "print(nx.is_directed(G)) # check, expect 'True'\n",
    "print(nx.info(G))"
   ]
  },
  {
   "cell_type": "markdown",
   "metadata": {},
   "source": [
    "There are a total of 2647 nodes and 10841 edges. This means there are 2647 unique products in the dataset and 10841 relationships between those products."
   ]
  },
  {
   "cell_type": "markdown",
   "metadata": {},
   "source": [
    "### Feature Extraction and Exploration\n",
    "\n",
    "The following code chunks cover various NetworkX properties of the graph generated above:\n",
    "\n",
    "- Betweenness Centrality\n",
    "- Closeness Centrality\n",
    "- Degree Centrality\n",
    "- Eigenvector Centrality\n",
    "- Clustering Coefficient\n",
    "\n",
    "Each of these features are used to create dictionaries with a value for every node's ID. These dictionaries will be used in part 2 for generating features. Each of code chunks also display a histogram with value counts to get a sense of the distribution"
   ]
  },
  {
   "cell_type": "markdown",
   "metadata": {},
   "source": [
    "#### Betweeness Centrality\n",
    "\n",
    "Betweenness centrality assigns a score based on the number of times a node lies on the shortest path between other nodes. It's the percentage of all the shortest paths between any nodes which it's passed through. Specifically for the Amazon co-purchases data, it's a measure of a product's influence on others. \n",
    "\n",
    "Below is a dictionary *betweenness_centrality* that stores the betweenness centrality for every node's ID. The top three nodes are listed. Node 18 has the highest value at approximately 0.147 which indicates it's one of the most popular products in the network. "
   ]
  },
  {
   "cell_type": "code",
   "execution_count": 1101,
   "metadata": {},
   "outputs": [
    {
     "name": "stdout",
     "output_type": "stream",
     "text": [
      "[(18, 0.14755123846462548), (8, 0.14064924942426882), (97, 0.12884258103167212)]\n"
     ]
    }
   ],
   "source": [
    "betweenness_centrality = nx.centrality.betweenness_centrality(G) #saves results to a dictionary for feature extraction\n",
    "print((sorted(betweenness_centrality.items(), key=lambda item: item[1], reverse=True))[:3])"
   ]
  },
  {
   "cell_type": "markdown",
   "metadata": {},
   "source": [
    "The Betweenness Centrality Histogram displays the distribution of values in the dictionary. The output demonstrates this could be a useful feature for machine learning in the second part. "
   ]
  },
  {
   "cell_type": "code",
   "execution_count": 1102,
   "metadata": {},
   "outputs": [
    {
     "data": {
      "text/plain": [
       "(0.0, 0.01)"
      ]
     },
     "execution_count": 1102,
     "metadata": {},
     "output_type": "execute_result"
    },
    {
     "data": {
      "image/png": "[encoded data removed]",
      "text/plain": [
       "<Figure size 1080x576 with 1 Axes>"
      ]
     },
     "metadata": {
      "needs_background": "light"
     },
     "output_type": "display_data"
    }
   ],
   "source": [
    "plt.figure(figsize=(15,8))\n",
    "plt.hist(betweenness_centrality.values(), bins=1000)\n",
    "plt.xticks(ticks=[0, 0.02, 0.1, 0.2, 0.3, 0.4, 0.5])  # set the x axis ticks\n",
    "plt.title('Betweenness Centrality Histogram ', fontdict ={'size': 15}, loc='center') \n",
    "plt.xlabel('Betweenness Centrality', fontdict ={'size': 10})\n",
    "plt.ylabel('Counts',fontdict ={'size': 10})\n",
    "plt.xlim([0, 0.01])"
   ]
  },
  {
   "cell_type": "markdown",
   "metadata": {},
   "source": [
    "#### Closeness Centrality\n",
    "\n",
    "Closeness centrality assigns a score based on a node's closeness to all other nodes in the network. It's another measure of product relevancy. The higher the measure, the closer a node is to the center of the network of products.\n",
    "\n",
    "Below is a dictionary *closeness_centrality* that stores the betweenness centrality for every node's ID. The top three nodes are listed. Node 8 has the highest value at approximately 0.195 which indicates it's one of the most popular products in the network. "
   ]
  },
  {
   "cell_type": "code",
   "execution_count": 1103,
   "metadata": {},
   "outputs": [
    {
     "name": "stdout",
     "output_type": "stream",
     "text": [
      "[(8, 0.19516508604388655), (23, 0.16990260028693674), (21, 0.1695715352045382)]\n"
     ]
    },
    {
     "data": {
      "text/plain": [
       "Text(0, 0.5, 'Counts')"
      ]
     },
     "execution_count": 1103,
     "metadata": {},
     "output_type": "execute_result"
    },
    {
     "data": {
      "image/png": "[encoded data removed]",
      "text/plain": [
       "<Figure size 1080x576 with 1 Axes>"
      ]
     },
     "metadata": {
      "needs_background": "light"
     },
     "output_type": "display_data"
    }
   ],
   "source": [
    "closeness_centrality = nx.closeness_centrality(G)\n",
    "print((sorted(closeness_centrality.items(), key=lambda item: item[1], reverse=True))[:3])\n",
    "\n",
    "plt.figure(figsize=(15,8))\n",
    "plt.hist(closeness_centrality.values(), bins=60)\n",
    "plt.title('Closeness Centrality Histogram ', fontdict ={'size': 15}, loc='center') \n",
    "plt.xlabel('Closeness Centrality', fontdict ={'size': 10})\n",
    "plt.ylabel('Counts',fontdict ={'size': 10})"
   ]
  },
  {
   "cell_type": "markdown",
   "metadata": {},
   "source": [
    "#### Degree Centrality\n",
    "\n",
    "Degree centrality assigns an importance score based simply on the number of links held by each node. The higher the degree centrality of a node, the more edges connecting that node and its neighbors. For our purposes, a higher degree centrality for a product means that it's related to more recommended products. \n",
    "\n",
    "Below is a dictionary *degree_centrality* that stores the degree centrality for every node's ID. The top three nodes are listed. Node 8 has the highest value at approximately 0.02 which means that it has a relationship with about 2% of the entire collection\n",
    "\n",
    "A Degree Centrality Histogram displays the distribution of values underneath. The output demonstrates this could be a useful feature for machine learning in the second part. "
   ]
  },
  {
   "cell_type": "code",
   "execution_count": 1104,
   "metadata": {},
   "outputs": [
    {
     "name": "stdout",
     "output_type": "stream",
     "text": [
      "[(8, 0.020408163265306124), (481, 0.01927437641723356), (18, 0.016250944822373395)]\n"
     ]
    }
   ],
   "source": [
    "degree_centrality = nx.degree_centrality(G)\n",
    "print((sorted(degree_centrality.items(), key=lambda item: item[1], reverse=True))[:3])"
   ]
  },
  {
   "cell_type": "code",
   "execution_count": 1105,
   "metadata": {},
   "outputs": [
    {
     "data": {
      "text/plain": [
       "(0.0, 0.025)"
      ]
     },
     "execution_count": 1105,
     "metadata": {},
     "output_type": "execute_result"
    },
    {
     "data": {
      "image/png": "[encoded data removed]",
      "text/plain": [
       "<Figure size 1080x576 with 1 Axes>"
      ]
     },
     "metadata": {
      "needs_background": "light"
     },
     "output_type": "display_data"
    }
   ],
   "source": [
    "plt.figure(figsize=(15,8))\n",
    "plt.hist(degree_centrality.values(), bins=50)\n",
    "plt.xticks(ticks=[0, 0.025, 0.05, 0.1, 0.15, 0.2])  # set the x axis ticks\n",
    "plt.title('Degree Centrality Histogram ', fontdict ={'size': 15}, loc='center') \n",
    "plt.xlabel('Degree Centrality', fontdict ={'size': 10})\n",
    "plt.ylabel('Counts',fontdict ={'size': 10})\n",
    "plt.xlim([0, 0.025])"
   ]
  },
  {
   "cell_type": "markdown",
   "metadata": {
    "tags": []
   },
   "source": [
    "#### Eigenvector Centrality\n",
    "\n",
    "Eigenvector centrality assigns a score based on a node's connectivity with other important nodes. It measures a product's influence based on how well it is connected inside the network. A product with a high eigenvector centrality value meants it's connected with other products that have a high eigenvector values. \n",
    "\n",
    "Below is a dictionary *eigenvector_centrality* that stores the eigenvector centrality for every node's ID. The top three nodes are listed. Node 262 has the highest value at approximately 0.344 which indicates it's one of the most popular products on the basis of popular nodes."
   ]
  },
  {
   "cell_type": "code",
   "execution_count": 1106,
   "metadata": {},
   "outputs": [
    {
     "name": "stdout",
     "output_type": "stream",
     "text": [
      "[(1004, 0.35431961658299266), (1005, 0.3236302143756237), (747, 0.3056174246440942)]\n"
     ]
    }
   ],
   "source": [
    "eigenvector_centrality = nx.eigenvector_centrality_numpy(G)  # save results in a variable to use again \n",
    "print((sorted(eigenvector_centrality.items(), key=lambda item: item[1], reverse=True))[:3])"
   ]
  },
  {
   "cell_type": "code",
   "execution_count": 1107,
   "metadata": {},
   "outputs": [
    {
     "data": {
      "text/plain": [
       "(-0.5, 0.5)"
      ]
     },
     "execution_count": 1107,
     "metadata": {},
     "output_type": "execute_result"
    },
    {
     "data": {
      "image/png": "[encoded data removed]",
      "text/plain": [
       "<Figure size 1080x576 with 1 Axes>"
      ]
     },
     "metadata": {
      "needs_background": "light"
     },
     "output_type": "display_data"
    }
   ],
   "source": [
    "plt.figure(figsize=(15,8))\n",
    "plt.hist(eigenvector_centrality.values(), bins=100)\n",
    "plt.xticks(ticks=[0, 0.01, 0.02, 0.04, 0.06, 0.08])  # set the x axis ticks\n",
    "plt.title('Eigenvector Centrality Histogram ', fontdict ={'size': 15}, loc='center') \n",
    "plt.xlabel('Eigenvector Centrality', fontdict ={'size': 10})\n",
    "plt.ylabel('Counts',fontdict ={'size': 10})\n",
    "plt.xlim([-0.5, 0.5])"
   ]
  },
  {
   "cell_type": "markdown",
   "metadata": {},
   "source": [
    "#### Clustering Coefficients\n",
    "\n",
    "Clustering coefficients assign a score based on the probability that two randomly selected friends of a node are connected to each other. The closer the the average clustering coefficient is to 1, the more clustered the graph is on general. \n",
    "\n",
    "Below is a dictionary *clustering_coefficients* that stores the clustering coefficients for every node's ID. The top three nodes are listed. These are nodes that found two connected nodes that are connected with each other. \n",
    "\n",
    "This might be one feature that doesn't help as much as others. \"Random\" pairings might hurt in a network where many products are related to many other products. "
   ]
  },
  {
   "cell_type": "code",
   "execution_count": 1108,
   "metadata": {},
   "outputs": [
    {
     "name": "stdout",
     "output_type": "stream",
     "text": [
      "[(44, 1.0), (351, 1.0), (1122, 1.0)]\n"
     ]
    }
   ],
   "source": [
    "clustering_coefficients = nx.clustering(G)  # save results in a variable to use again \n",
    "print((sorted(clustering_coefficients.items(), key=lambda item: item[1], reverse=True))[:3])"
   ]
  },
  {
   "cell_type": "code",
   "execution_count": 1109,
   "metadata": {},
   "outputs": [
    {
     "data": {
      "text/plain": [
       "Text(0, 0.5, 'Counts')"
      ]
     },
     "execution_count": 1109,
     "metadata": {},
     "output_type": "execute_result"
    },
    {
     "data": {
      "image/png": "[encoded data removed]",
      "text/plain": [
       "<Figure size 1080x576 with 1 Axes>"
      ]
     },
     "metadata": {
      "needs_background": "light"
     },
     "output_type": "display_data"
    }
   ],
   "source": [
    "plt.figure(figsize=(15,8))\n",
    "plt.hist(nx.clustering(G).values(), bins=50)\n",
    "plt.title('Clustering Coefficient Histogram ', fontdict ={'size': 35}, loc='center') \n",
    "plt.xlabel('Clustering Coefficient', fontdict ={'size': 20})\n",
    "plt.ylabel('Counts',fontdict ={'size': 20})"
   ]
  },
  {
   "cell_type": "markdown",
   "metadata": {},
   "source": [
    "### Other Relevant Information"
   ]
  },
  {
   "cell_type": "code",
   "execution_count": 1110,
   "metadata": {},
   "outputs": [
    {
     "data": {
      "text/plain": [
       "9.592795477759587"
      ]
     },
     "execution_count": 1110,
     "metadata": {},
     "output_type": "execute_result"
    }
   ],
   "source": [
    "nx.average_shortest_path_length(G)"
   ]
  },
  {
   "cell_type": "markdown",
   "metadata": {},
   "source": [
    "The average shortest distance for the Amazon co-purchases dataset is 9.59. This means that any two random items are likely to be 9.59 recommendations apart."
   ]
  },
  {
   "cell_type": "code",
   "execution_count": 1111,
   "metadata": {},
   "outputs": [
    {
     "name": "stdout",
     "output_type": "stream",
     "text": [
      "0.4339169154480595\n",
      "0.4086089178720651\n"
     ]
    }
   ],
   "source": [
    "print(nx.transitivity(G))\n",
    "print(nx.average_clustering(G))"
   ]
  },
  {
   "cell_type": "markdown",
   "metadata": {},
   "source": [
    "The fraction of all possible triangles in the DiGraph is 0.4339. Transitivity is an important metric because it demonstrates the likelihood of a product related to a product related to a product. In other words, what's the strength of the network's connectivity?\n",
    "\n",
    "The clustering coefficient is 0.4086, an average clustering coefficient for each node. This is somewhat related to the transitivity and is the average of all clustering coefficients--the probability that two randomly selected friends of a node are connected to each other. "
   ]
  },
  {
   "cell_type": "code",
   "execution_count": 1112,
   "metadata": {
    "scrolled": true
   },
   "outputs": [
    {
     "name": "stdout",
     "output_type": "stream",
     "text": [
      "0. Node...8\n",
      "1. Node...481\n",
      "2. Node...33\n",
      "3. Node...18\n",
      "4. Node...23\n",
      "5. Node...30\n",
      "6. Node...346\n",
      "7. Node...99\n",
      "8. Node...93\n",
      "9. Node...21\n"
     ]
    }
   ],
   "source": [
    "import operator\n",
    "\n",
    "pageranks = nx.pagerank(G, alpha=0.5, weight='count')\n",
    "pageranks = {k:v for k, v in sorted(pageranks.items(), key=lambda t: t[1], reverse=True)}\n",
    "top10 = list(pageranks.keys())[0:10]\n",
    "for i, airport in enumerate(top10):\n",
    "    print(\"{}. Node...{}\".format(i, airport))\n"
   ]
  },
  {
   "cell_type": "markdown",
   "metadata": {},
   "source": [
    "The top 10 node IDs are listed above according to the pagerank algorithm. The algorithm is a way of measuring the importance of a node by analyzing the quantity and quality of nodes that relate to it.\n",
    "\n",
    "The nodes above are consistent with findings from other functions. For example, nodes 8 and 481 (the top 2 in the pageranks dictionary) also have the top 2 highest degree centralities. Additionally, node 8 is within the top three betweenness centralities and closeness centralities, supporting the strength of that node's influence. "
   ]
  },
  {
   "cell_type": "markdown",
   "metadata": {
    "tags": []
   },
   "source": [
    "## Part 2: Predicting Review-Rating using Features derived from network properties\n",
    "\n",
    "The following sections (1) read in the training data, (2) explore relevant columns, (3) generate features for training, (4) implement models, and (5) evaluate the models for best performance\n",
    "\n",
    "The prediction is treated as a regressor problem. The following models are explored:\n",
    "- SVR\n",
    "- SVC (linear)\n",
    "- Linear Regression\n",
    "- Multi-layer Perceptron\n",
    "- KNN\n",
    "- Logistic Regression\n",
    "- Ridge\n",
    "- Lasso\n",
    "\n",
    "These models will be evaluated through mean absolute error and the model with the lowest value will be chosen for the test data submission"
   ]
  },
  {
   "cell_type": "markdown",
   "metadata": {},
   "source": [
    "### Data Exploration"
   ]
  },
  {
   "cell_type": "code",
   "execution_count": 1113,
   "metadata": {},
   "outputs": [],
   "source": [
    "train = pd.read_csv('reviewTrain.csv')\n",
    "test = pd.read_csv('reviewTest.csv')"
   ]
  },
  {
   "cell_type": "code",
   "execution_count": 1114,
   "metadata": {},
   "outputs": [
    {
     "data": {
      "text/html": [
       "<div>\n",
       "<style scoped>\n",
       "    .dataframe tbody tr th:only-of-type {\n",
       "        vertical-align: middle;\n",
       "    }\n",
       "\n",
       "    .dataframe tbody tr th {\n",
       "        vertical-align: top;\n",
       "    }\n",
       "\n",
       "    .dataframe thead th {\n",
       "        text-align: right;\n",
       "    }\n",
       "</style>\n",
       "<table border=\"1\" class=\"dataframe\">\n",
       "  <thead>\n",
       "    <tr style=\"text-align: right;\">\n",
       "      <th></th>\n",
       "      <th>id</th>\n",
       "      <th>title</th>\n",
       "      <th>group</th>\n",
       "      <th>review</th>\n",
       "    </tr>\n",
       "  </thead>\n",
       "  <tbody>\n",
       "    <tr>\n",
       "      <th>0</th>\n",
       "      <td>3</td>\n",
       "      <td>World War II Allied Fighter Planes Trading Cards</td>\n",
       "      <td>Book</td>\n",
       "      <td>5.0</td>\n",
       "    </tr>\n",
       "    <tr>\n",
       "      <th>1</th>\n",
       "      <td>5</td>\n",
       "      <td>Prayers That Avail Much for Business: Executive</td>\n",
       "      <td>Book</td>\n",
       "      <td>0.0</td>\n",
       "    </tr>\n",
       "    <tr>\n",
       "      <th>2</th>\n",
       "      <td>7</td>\n",
       "      <td>Batik</td>\n",
       "      <td>Music</td>\n",
       "      <td>4.5</td>\n",
       "    </tr>\n",
       "    <tr>\n",
       "      <th>3</th>\n",
       "      <td>10</td>\n",
       "      <td>The Edward Said Reader</td>\n",
       "      <td>Book</td>\n",
       "      <td>4.0</td>\n",
       "    </tr>\n",
       "    <tr>\n",
       "      <th>4</th>\n",
       "      <td>11</td>\n",
       "      <td>Resetting the Clock : Five Anti-Aging Hormone...</td>\n",
       "      <td>Book</td>\n",
       "      <td>5.0</td>\n",
       "    </tr>\n",
       "  </tbody>\n",
       "</table>\n",
       "</div>"
      ],
      "text/plain": [
       "   id                                              title   group  review\n",
       "0   3   World War II Allied Fighter Planes Trading Cards    Book     5.0\n",
       "1   5    Prayers That Avail Much for Business: Executive    Book     0.0\n",
       "2   7                                              Batik   Music     4.5\n",
       "3  10                             The Edward Said Reader    Book     4.0\n",
       "4  11   Resetting the Clock : Five Anti-Aging Hormone...    Book     5.0"
      ]
     },
     "execution_count": 1114,
     "metadata": {},
     "output_type": "execute_result"
    }
   ],
   "source": [
    "train.head(5)"
   ]
  },
  {
   "cell_type": "code",
   "execution_count": 1115,
   "metadata": {},
   "outputs": [
    {
     "data": {
      "text/html": [
       "<div>\n",
       "<style scoped>\n",
       "    .dataframe tbody tr th:only-of-type {\n",
       "        vertical-align: middle;\n",
       "    }\n",
       "\n",
       "    .dataframe tbody tr th {\n",
       "        vertical-align: top;\n",
       "    }\n",
       "\n",
       "    .dataframe thead th {\n",
       "        text-align: right;\n",
       "    }\n",
       "</style>\n",
       "<table border=\"1\" class=\"dataframe\">\n",
       "  <thead>\n",
       "    <tr style=\"text-align: right;\">\n",
       "      <th></th>\n",
       "      <th>id</th>\n",
       "      <th>title</th>\n",
       "      <th>group</th>\n",
       "      <th>review</th>\n",
       "    </tr>\n",
       "  </thead>\n",
       "  <tbody>\n",
       "    <tr>\n",
       "      <th>0</th>\n",
       "      <td>90</td>\n",
       "      <td>The Eagle Has Landed</td>\n",
       "      <td>Book</td>\n",
       "      <td>NaN</td>\n",
       "    </tr>\n",
       "    <tr>\n",
       "      <th>1</th>\n",
       "      <td>1372</td>\n",
       "      <td>Che in Africa: Che Guevara's Congo Diary</td>\n",
       "      <td>Book</td>\n",
       "      <td>NaN</td>\n",
       "    </tr>\n",
       "    <tr>\n",
       "      <th>2</th>\n",
       "      <td>1382</td>\n",
       "      <td>The Darwin Awards II : Unnatural Selection</td>\n",
       "      <td>Book</td>\n",
       "      <td>NaN</td>\n",
       "    </tr>\n",
       "    <tr>\n",
       "      <th>3</th>\n",
       "      <td>253</td>\n",
       "      <td>Celtic Glory</td>\n",
       "      <td>Music</td>\n",
       "      <td>NaN</td>\n",
       "    </tr>\n",
       "    <tr>\n",
       "      <th>4</th>\n",
       "      <td>671</td>\n",
       "      <td>Sublte Aromatherapy</td>\n",
       "      <td>Book</td>\n",
       "      <td>NaN</td>\n",
       "    </tr>\n",
       "  </tbody>\n",
       "</table>\n",
       "</div>"
      ],
      "text/plain": [
       "     id                                        title   group  review\n",
       "0    90                         The Eagle Has Landed    Book     NaN\n",
       "1  1372     Che in Africa: Che Guevara's Congo Diary    Book     NaN\n",
       "2  1382   The Darwin Awards II : Unnatural Selection    Book     NaN\n",
       "3   253                                 Celtic Glory   Music     NaN\n",
       "4   671                          Sublte Aromatherapy    Book     NaN"
      ]
     },
     "execution_count": 1115,
     "metadata": {},
     "output_type": "execute_result"
    }
   ],
   "source": [
    "test.head(5)"
   ]
  },
  {
   "cell_type": "code",
   "execution_count": 1116,
   "metadata": {},
   "outputs": [
    {
     "data": {
      "text/plain": [
       " Book     1213\n",
       " Music     318\n",
       " Video      80\n",
       " DVD        62\n",
       " Toy         1\n",
       "Name: group, dtype: int64"
      ]
     },
     "execution_count": 1116,
     "metadata": {},
     "output_type": "execute_result"
    }
   ],
   "source": [
    "train.group.value_counts()"
   ]
  },
  {
   "cell_type": "code",
   "execution_count": 1117,
   "metadata": {},
   "outputs": [
    {
     "data": {
      "text/plain": [
       " Book     726\n",
       " Music    197\n",
       " DVD       39\n",
       " Video     38\n",
       "Name: group, dtype: int64"
      ]
     },
     "execution_count": 1117,
     "metadata": {},
     "output_type": "execute_result"
    }
   ],
   "source": [
    "test.group.value_counts()"
   ]
  },
  {
   "cell_type": "markdown",
   "metadata": {},
   "source": [
    "Because toys are not seen in the test file, we should drop the one row from the training data. "
   ]
  },
  {
   "cell_type": "code",
   "execution_count": 1118,
   "metadata": {},
   "outputs": [],
   "source": [
    "train = train[train['group'].str.contains(\"Toy\") == False]"
   ]
  },
  {
   "cell_type": "code",
   "execution_count": 1119,
   "metadata": {},
   "outputs": [
    {
     "data": {
      "text/plain": [
       " Book     1213\n",
       " Music     318\n",
       " Video      80\n",
       " DVD        62\n",
       "Name: group, dtype: int64"
      ]
     },
     "execution_count": 1119,
     "metadata": {},
     "output_type": "execute_result"
    }
   ],
   "source": [
    "train.group.value_counts() #confirming \"Toy\" was dropped"
   ]
  },
  {
   "cell_type": "markdown",
   "metadata": {},
   "source": [
    "This histogram lays out the distribution of reviews for each product which will be the labels in every model"
   ]
  },
  {
   "cell_type": "code",
   "execution_count": 1120,
   "metadata": {
    "scrolled": false
   },
   "outputs": [
    {
     "data": {
      "text/plain": [
       "Text(0, 0.5, 'Count')"
      ]
     },
     "execution_count": 1120,
     "metadata": {},
     "output_type": "execute_result"
    },
    {
     "data": {
      "image/png": "[encoded data removed]",
      "text/plain": [
       "<Figure size 720x432 with 1 Axes>"
      ]
     },
     "metadata": {
      "needs_background": "light"
     },
     "output_type": "display_data"
    }
   ],
   "source": [
    "plt.figure(figsize=(10,6))\n",
    "plt.hist(train['review'], bins=30)\n",
    "plt.xlabel('review'); plt.ylabel('Count')"
   ]
  },
  {
   "cell_type": "markdown",
   "metadata": {},
   "source": [
    "The features added to the *train* dataframe pull from the NetworkX functions above. The following features used:\n",
    "\n",
    "- Eigenvector Centrality\n",
    "- Betweenness Centrality\n",
    "- Closeness Centrality\n",
    "- Degree Centrality\n",
    "- Pageranks\n",
    "\n",
    "Additionally, dummy variables were created for each category within \"Group\" (Book, DVD, Music, Toy, Video)."
   ]
  },
  {
   "cell_type": "code",
   "execution_count": 1121,
   "metadata": {},
   "outputs": [
    {
     "name": "stdout",
     "output_type": "stream",
     "text": [
      "Wall time: 0 ns\n"
     ]
    }
   ],
   "source": [
    "def generate_features(df):\n",
    "    \n",
    "    #New features\n",
    "    df['eigenvector_centrality'] = df['id'].apply(lambda x: eigenvector_centrality.get(x)) \n",
    "    df['betweenness_centrality'] = df['id'].apply(lambda x: betweenness_centrality.get(x))\n",
    "    df['closeness_centrality'] = df['id'].apply(lambda x: closeness_centrality.get(x))\n",
    "    df['degree_centrality'] = df['id'].apply(lambda x: degree_centrality.get(x))\n",
    "    df['pageranks'] = df['id'].apply(lambda x: pageranks.get(x)) \n",
    "    \n",
    "    #convert labels to numeric\n",
    "    df['review'] = df['review'].astype(\"string\")\n",
    "    df['review'] = pd.to_numeric(df['review'])*2\n",
    "    \n",
    "    #generate dummies for group column\n",
    "    new = pd.get_dummies(df, columns = ['group'])\n",
    "\n",
    "    %time\n",
    "    return new\n",
    "\n",
    "train_features = generate_features(train)"
   ]
  },
  {
   "cell_type": "code",
   "execution_count": 1122,
   "metadata": {},
   "outputs": [
    {
     "data": {
      "text/plain": [
       "Index(['id', 'title', 'review', 'eigenvector_centrality',\n",
       "       'betweenness_centrality', 'closeness_centrality', 'degree_centrality',\n",
       "       'pageranks', 'group_ Book', 'group_ DVD', 'group_ Music',\n",
       "       'group_ Video'],\n",
       "      dtype='object')"
      ]
     },
     "execution_count": 1122,
     "metadata": {},
     "output_type": "execute_result"
    }
   ],
   "source": [
    "train_features.columns #Confirming new features"
   ]
  },
  {
   "cell_type": "markdown",
   "metadata": {},
   "source": [
    "This table displays the percentage of missing values for every column. It will give a sense of what is worth dropping or imputing if necessary"
   ]
  },
  {
   "cell_type": "code",
   "execution_count": 1123,
   "metadata": {},
   "outputs": [],
   "source": [
    "#https://stackoverflow.com/questions/26266362/how-to-count-the-nan-values-in-a-column-in-pandas-dataframe\n",
    "def missing_values_table(df):\n",
    "    mis_val = df.isnull().sum()\n",
    "    mis_val_percent = 100 * df.isnull().sum() / len(df)\n",
    "    mis_val_table = pd.concat([mis_val, mis_val_percent], axis=1)\n",
    "    mis_val_table_ren_columns = mis_val_table.rename(\n",
    "    columns = {0 : 'Missing Values', 1 : '% of Total Values'})\n",
    "    mis_val_table_ren_columns = mis_val_table_ren_columns[\n",
    "        mis_val_table_ren_columns.iloc[:,1] != 0].sort_values(\n",
    "    '% of Total Values', ascending=False).round(1)\n",
    "    print (\"Your selected dataframe has \" + str(df.shape[1]) + \" columns.\\n\"      \n",
    "        \"There are \" + str(mis_val_table_ren_columns.shape[0]) +\n",
    "            \" columns that have missing values.\")\n",
    "    return mis_val_table_ren_columns"
   ]
  },
  {
   "cell_type": "code",
   "execution_count": 1124,
   "metadata": {},
   "outputs": [
    {
     "name": "stdout",
     "output_type": "stream",
     "text": [
      "Your selected dataframe has 12 columns.\n",
      "There are 5 columns that have missing values.\n"
     ]
    },
    {
     "data": {
      "text/html": [
       "<div>\n",
       "<style scoped>\n",
       "    .dataframe tbody tr th:only-of-type {\n",
       "        vertical-align: middle;\n",
       "    }\n",
       "\n",
       "    .dataframe tbody tr th {\n",
       "        vertical-align: top;\n",
       "    }\n",
       "\n",
       "    .dataframe thead th {\n",
       "        text-align: right;\n",
       "    }\n",
       "</style>\n",
       "<table border=\"1\" class=\"dataframe\">\n",
       "  <thead>\n",
       "    <tr style=\"text-align: right;\">\n",
       "      <th></th>\n",
       "      <th>Missing Values</th>\n",
       "      <th>% of Total Values</th>\n",
       "    </tr>\n",
       "  </thead>\n",
       "  <tbody>\n",
       "    <tr>\n",
       "      <th>eigenvector_centrality</th>\n",
       "      <td>21</td>\n",
       "      <td>1.3</td>\n",
       "    </tr>\n",
       "    <tr>\n",
       "      <th>betweenness_centrality</th>\n",
       "      <td>21</td>\n",
       "      <td>1.3</td>\n",
       "    </tr>\n",
       "    <tr>\n",
       "      <th>closeness_centrality</th>\n",
       "      <td>21</td>\n",
       "      <td>1.3</td>\n",
       "    </tr>\n",
       "    <tr>\n",
       "      <th>degree_centrality</th>\n",
       "      <td>21</td>\n",
       "      <td>1.3</td>\n",
       "    </tr>\n",
       "    <tr>\n",
       "      <th>pageranks</th>\n",
       "      <td>21</td>\n",
       "      <td>1.3</td>\n",
       "    </tr>\n",
       "  </tbody>\n",
       "</table>\n",
       "</div>"
      ],
      "text/plain": [
       "                        Missing Values  % of Total Values\n",
       "eigenvector_centrality              21                1.3\n",
       "betweenness_centrality              21                1.3\n",
       "closeness_centrality                21                1.3\n",
       "degree_centrality                   21                1.3\n",
       "pageranks                           21                1.3"
      ]
     },
     "execution_count": 1124,
     "metadata": {},
     "output_type": "execute_result"
    }
   ],
   "source": [
    "missing_values_table(train_features)"
   ]
  },
  {
   "cell_type": "markdown",
   "metadata": {},
   "source": [
    "1.3% of the data across all categories is extremely small, so we can safely drop those rows before modelling"
   ]
  },
  {
   "cell_type": "code",
   "execution_count": 1125,
   "metadata": {},
   "outputs": [],
   "source": [
    "train_features.dropna(inplace=True)"
   ]
  },
  {
   "cell_type": "markdown",
   "metadata": {},
   "source": [
    "### Models"
   ]
  },
  {
   "cell_type": "markdown",
   "metadata": {},
   "source": [
    "Splitting the data via a function will make for easier replication across models"
   ]
  },
  {
   "cell_type": "code",
   "execution_count": 1126,
   "metadata": {},
   "outputs": [],
   "source": [
    "def split_data():\n",
    "    '''\n",
    "    Splits data in order to be used for\n",
    "    ML methods later\n",
    "    '''\n",
    "    from sklearn.model_selection import train_test_split\n",
    "    X = train_features.drop(columns=[\"id\", \"review\", \"title\",])\n",
    "    y = train_features[\"review\"]\n",
    "    X_train, X_test, y_train, y_test = train_test_split(X, y, test_size=0.33, random_state=42)\n",
    "    return X_train, X_test, y_train, y_test\n",
    "\n",
    "X_train, X_test, y_train, y_test = split_data()"
   ]
  },
  {
   "cell_type": "code",
   "execution_count": 1127,
   "metadata": {},
   "outputs": [
    {
     "data": {
      "text/plain": [
       "Index(['eigenvector_centrality', 'betweenness_centrality',\n",
       "       'closeness_centrality', 'degree_centrality', 'pageranks', 'group_ Book',\n",
       "       'group_ DVD', 'group_ Music', 'group_ Video'],\n",
       "      dtype='object')"
      ]
     },
     "execution_count": 1127,
     "metadata": {},
     "output_type": "execute_result"
    }
   ],
   "source": [
    "X_train.columns #Confirmation of training features"
   ]
  },
  {
   "cell_type": "markdown",
   "metadata": {},
   "source": [
    "StandardScaler was chosen over MinMax to normalize features. Because features vary on magnitudes of about 5, StandardScaler can convert all of the values within a feature to a scale that looks like a standard normally distributed range (with a mean of zero and unit variance). MinMax would have take the lowest and highest value, failing to adjust for the differences across features. "
   ]
  },
  {
   "cell_type": "code",
   "execution_count": 1128,
   "metadata": {},
   "outputs": [],
   "source": [
    "def scale_data(X_train, y_test):\n",
    "    from sklearn.preprocessing import StandardScaler\n",
    "    scaler = StandardScaler()\n",
    "    X_train_scaled = scaler.fit_transform(X_train)\n",
    "    X_test_scaled = scaler.transform(X_test)\n",
    "    return X_train_scaled, X_test_scaled\n",
    "\n",
    "X_train_scaled, X_test_scaled = scale_data(X_train, y_test)"
   ]
  },
  {
   "cell_type": "markdown",
   "metadata": {},
   "source": [
    "The models are implemented below through functions. Where available, the feature importance is also listed. However, because the \"coef_\" applies only to linear kernels, it's not available for functions such as KNN and MLP"
   ]
  },
  {
   "cell_type": "code",
   "execution_count": 1129,
   "metadata": {},
   "outputs": [
    {
     "name": "stdout",
     "output_type": "stream",
     "text": [
      "                  feature  feature_importance\n",
      "0  eigenvector_centrality            0.006152\n",
      "1  betweenness_centrality            0.009732\n",
      "2    closeness_centrality            0.004114\n",
      "3       degree_centrality            0.059598\n",
      "4               pageranks            0.012972\n",
      "5             group_ Book            0.153297\n",
      "6              group_ DVD            0.083881\n",
      "7            group_ Music            0.229807\n",
      "8            group_ Video            0.032886\n"
     ]
    },
    {
     "data": {
      "text/plain": [
       "(1.4754, SVR(kernel='linear'))"
      ]
     },
     "execution_count": 1129,
     "metadata": {},
     "output_type": "execute_result"
    }
   ],
   "source": [
    "def SVR():\n",
    "    '''\n",
    "    Fits a SVR model to the training data after using \n",
    "    MinMaxScaler on the features. It returns a tuple \n",
    "    with the model and the mean absolute error\n",
    "    '''\n",
    "    from sklearn.svm import SVR\n",
    "    from sklearn.metrics import mean_squared_error\n",
    "    \n",
    "    X_train, X_test, y_train, y_test = split_data()\n",
    "    X_train_scaled, X_test_scaled = scale_data(X_train, y_test)\n",
    "\n",
    "    svr = SVR(kernel='linear')\n",
    "    svr.fit(X_train_scaled, y_train)\n",
    "\n",
    "    y_pred = svr.predict(X_test_scaled)\n",
    "    mae = mean_absolute_error(y_pred, y_test) / 2\n",
    "    \n",
    "    feature_importance = pd.DataFrame({\n",
    "        'feature': list(X_train.columns),\n",
    "        'feature_importance': [abs(i) for i in svr.coef_[0]]\n",
    "    })\n",
    "    feature_importance.sort_values('feature_importance', ascending=False)\n",
    "    print(feature_importance)\n",
    "    \n",
    "    return (round(mae, 4), svr)\n",
    "\n",
    "SVR_results = SVR()\n",
    "SVR_results"
   ]
  },
  {
   "cell_type": "code",
   "execution_count": 1130,
   "metadata": {},
   "outputs": [
    {
     "name": "stdout",
     "output_type": "stream",
     "text": [
      "                  feature  feature_importance\n",
      "0  eigenvector_centrality        2.206568e-15\n",
      "1  betweenness_centrality        1.252033e-04\n",
      "2    closeness_centrality        4.194574e-05\n",
      "3       degree_centrality        3.934632e-04\n",
      "4               pageranks        5.020121e-04\n",
      "5             group_ Book        3.693729e-05\n",
      "6              group_ DVD        0.000000e+00\n",
      "7            group_ Music        2.081668e-17\n",
      "8            group_ Video        8.038446e-05\n"
     ]
    },
    {
     "data": {
      "text/plain": [
       "(2.6227, SVC(C=0.1, gamma=1, kernel='linear'))"
      ]
     },
     "execution_count": 1130,
     "metadata": {},
     "output_type": "execute_result"
    }
   ],
   "source": [
    "def SVC():\n",
    "    '''\n",
    "    Fits a SVC model to the training data after using \n",
    "    MinMaxScaler on the features. It returns a tuple with \n",
    "    the model and the mean absolute error.\n",
    "    '''\n",
    "    from sklearn.svm import SVC\n",
    "    from sklearn.metrics import mean_squared_error\n",
    "    \n",
    "    X_train, X_test, y_train, y_test = split_data()\n",
    "    X_train_scaled, X_test_scaled = scale_data(X_train, y_test)\n",
    "\n",
    "    #SVC\n",
    "    svc = SVC(kernel='linear', C=0.1, gamma=1)\n",
    "    svc.fit(X_train_scaled, y_train)\n",
    "\n",
    "    accuracy = svc.score(X_test_scaled, y_test)\n",
    "    y_pred = svc.predict(X_test_scaled)\n",
    "    mae = mean_absolute_error(y_pred, y_test) / 2\n",
    "\n",
    "    feature_importance = pd.DataFrame({\n",
    "        'feature': list(X_train.columns),\n",
    "        'feature_importance': [abs(i) for i in svc.coef_[0]]\n",
    "    })\n",
    "    feature_importance.sort_values('feature_importance', ascending=False)\n",
    "    print(feature_importance)\n",
    "    \n",
    "    return (round(mae, 4), svc)\n",
    "\n",
    "SVC_results = SVC()\n",
    "SVC_results"
   ]
  },
  {
   "cell_type": "code",
   "execution_count": 1131,
   "metadata": {
    "scrolled": true
   },
   "outputs": [
    {
     "data": {
      "text/plain": [
       "(1.708, LinearRegression(normalize=True))"
      ]
     },
     "execution_count": 1131,
     "metadata": {},
     "output_type": "execute_result"
    }
   ],
   "source": [
    "def LinearRegression():\n",
    "    '''\n",
    "    Fits a Linear Regression model to the training \n",
    "    data after using MinMaxScaler on the features. \n",
    "    It returns a tuple with the model and the mean \n",
    "    absolute error.\n",
    "    '''\n",
    "    from sklearn.linear_model import LinearRegression\n",
    "    from sklearn.model_selection import GridSearchCV\n",
    "    from sklearn.metrics import mean_squared_error\n",
    "    \n",
    "    #Split and Scale\n",
    "    X_train, X_test, y_train, y_test = split_data()\n",
    "    X_train_scaled, X_test_scaled = scale_data(X_train, y_test)\n",
    "    \n",
    "    parameters = {'fit_intercept':[True,False], 'normalize':[True,False], 'copy_X':[True, False]}    \n",
    "    lr = LinearRegression()\n",
    "    grid = GridSearchCV(lr, parameters, scoring='neg_mean_absolute_error')\n",
    "    grid.fit(X_train_scaled, y_train)\n",
    "\n",
    "    new = LinearRegression(fit_intercept=grid.best_params_['fit_intercept'], normalize=grid.best_params_['normalize'], copy_X=grid.best_params_['copy_X'],)\n",
    "    new.fit(X_train_scaled, y_train)\n",
    "    y_pred = new.predict(X_test_scaled)\n",
    "    mae = mean_absolute_error(y_pred, y_test) / 2\n",
    "    return (round(mae, 4), new)\n",
    "    \n",
    "LinearRegression_results = LinearRegression()\n",
    "LinearRegression_results"
   ]
  },
  {
   "cell_type": "code",
   "execution_count": 1132,
   "metadata": {},
   "outputs": [
    {
     "data": {
      "text/plain": [
       "(1.7331, MLPRegressor(alpha=0.0005, hidden_layer_sizes=(1,), solver='lbfgs'))"
      ]
     },
     "execution_count": 1132,
     "metadata": {},
     "output_type": "execute_result"
    }
   ],
   "source": [
    "def MLP():\n",
    "    '''\n",
    "    Fits a multi-layer perceptron model to the training \n",
    "    data after using MinMaxScaler on the features. \n",
    "    It returns a tuple with the model and the mean \n",
    "    '''\n",
    "    from sklearn.neural_network import MLPRegressor\n",
    "    from sklearn.model_selection import GridSearchCV\n",
    "    from sklearn.metrics import mean_squared_error\n",
    "    \n",
    "    #Split and Scale\n",
    "    X_train, X_test, y_train, y_test = split_data()\n",
    "    X_train_scaled, X_test_scaled = scale_data(X_train, y_test)\n",
    "    \n",
    "    param_list = {\"hidden_layer_sizes\": [(1,),(50,)], \"activation\": [\"identity\", \"logistic\", \"tanh\", \"relu\"], \"solver\": [\"lbfgs\", \"sgd\", \"adam\"], \"alpha\": [0.00005,0.0005]}\n",
    "    mlp = MLPRegressor()\n",
    "    grid = GridSearchCV(mlp, param_list, scoring='neg_mean_absolute_error')\n",
    "    grid.fit(X_train_scaled, y_train)\n",
    "\n",
    "    #Fit New Model\n",
    "    new = MLPRegressor(   \n",
    "         activation=grid.best_params_['activation'],\n",
    "         alpha=grid.best_params_['alpha'],\n",
    "         hidden_layer_sizes=grid.best_params_['hidden_layer_sizes'],\n",
    "         solver=grid.best_params_['solver'],\n",
    "    )\n",
    "    new.fit(X_train_scaled, y_train)\n",
    "    y_pred = new.predict(X_test_scaled)\n",
    "    mae = mean_absolute_error(y_pred, y_test) / 2\n",
    "    return (round(mae, 4), new)\n",
    "    \n",
    "MLP_results = MLP()\n",
    "MLP_results"
   ]
  },
  {
   "cell_type": "code",
   "execution_count": 1133,
   "metadata": {},
   "outputs": [
    {
     "data": {
      "text/plain": [
       "(1.6984, KNeighborsRegressor(n_neighbors=10))"
      ]
     },
     "execution_count": 1133,
     "metadata": {},
     "output_type": "execute_result"
    }
   ],
   "source": [
    "def KNN():\n",
    "    '''\n",
    "    Fits a KNN regressor model to the training \n",
    "    data after using MinMaxScaler on the features. \n",
    "    It returns a tuple with the model and the mean \n",
    "    '''\n",
    "    from sklearn.neighbors import KNeighborsRegressor\n",
    "    from sklearn.metrics import mean_squared_error\n",
    "    \n",
    "    #Split and Scale\n",
    "    X_train, X_test, y_train, y_test = split_data()\n",
    "    X_train_scaled, X_test_scaled = scale_data(X_train, y_test)\n",
    "    \n",
    "    knn = KNeighborsRegressor(n_neighbors=10)\n",
    "    knn = knn.fit(X_train_scaled, y_train)\n",
    "    y_pred = knn.predict(X_test_scaled)\n",
    "    mae = mean_absolute_error(y_pred, y_test) / 2\n",
    "    return (round(mae, 4), knn)\n",
    "    \n",
    "KNN_results = KNN()\n",
    "KNN_results"
   ]
  },
  {
   "cell_type": "code",
   "execution_count": 1134,
   "metadata": {},
   "outputs": [
    {
     "name": "stdout",
     "output_type": "stream",
     "text": [
      "                  feature  feature_importance\n",
      "0  eigenvector_centrality            0.100218\n",
      "1  betweenness_centrality            0.025080\n",
      "2    closeness_centrality            0.058712\n",
      "3       degree_centrality            0.062852\n",
      "4               pageranks            0.048801\n",
      "5             group_ Book            0.288417\n",
      "6              group_ DVD            0.264842\n",
      "7            group_ Music            0.169937\n",
      "8            group_ Video            0.056523\n"
     ]
    },
    {
     "data": {
      "text/plain": [
       "(2.598, LogisticRegression(solver='liblinear'))"
      ]
     },
     "execution_count": 1134,
     "metadata": {},
     "output_type": "execute_result"
    }
   ],
   "source": [
    "def LogisticRegression():\n",
    "    '''\n",
    "    Fits a Logistic Regression model to the training \n",
    "    data after using MinMaxScaler on the features. \n",
    "    It returns a tuple with the model and the mean \n",
    "    '''\n",
    "    from sklearn.linear_model import LogisticRegression\n",
    "    from sklearn.metrics import mean_squared_error\n",
    "    \n",
    "    #Split and Scale\n",
    "    X_train, X_test, y_train, y_test = split_data()\n",
    "    X_train_scaled, X_test_scaled = scale_data(X_train, y_test)\n",
    "    \n",
    "    #Instantiate Model\n",
    "    model = LogisticRegression(solver='liblinear')\n",
    "    model.fit(X_train_scaled, y_train)\n",
    "    \n",
    "    #Evaluate\n",
    "    y_pred = model.predict(X_test_scaled)\n",
    "    mae = mean_absolute_error(y_pred, y_test) / 2\n",
    "    \n",
    "    feature_importance = pd.DataFrame({\n",
    "        'feature': list(X_train.columns),\n",
    "        'feature_importance': [abs(i) for i in model.coef_[0]]\n",
    "    })\n",
    "    feature_importance.sort_values('feature_importance', ascending=False)\n",
    "    print(feature_importance)\n",
    "    \n",
    "    return (round(mae, 4), model)\n",
    "    \n",
    "LogisticRegression_results = LogisticRegression()\n",
    "LogisticRegression_results"
   ]
  },
  {
   "cell_type": "code",
   "execution_count": 1135,
   "metadata": {},
   "outputs": [
    {
     "data": {
      "text/plain": [
       "(1.714, Ridge(alpha=1000))"
      ]
     },
     "execution_count": 1135,
     "metadata": {},
     "output_type": "execute_result"
    }
   ],
   "source": [
    "def Ridge():\n",
    "    '''\n",
    "    Fits a Ridge model to the training \n",
    "    data after using MinMaxScaler on the features. \n",
    "    It returns a tuple with the model and the mean \n",
    "    '''\n",
    "    from sklearn import linear_model\n",
    "    from sklearn.metrics import mean_squared_error\n",
    "\n",
    "    #Split and Scale\n",
    "    X_train, X_test, y_train, y_test = split_data()\n",
    "    X_train_scaled, X_test_scaled = scale_data(X_train, y_test)\n",
    "    \n",
    "    #Instantiate Model\n",
    "    model = linear_model.Ridge(alpha=1000)\n",
    "    model.fit(X_train_scaled, y_train)\n",
    "    \n",
    "    #Evaluate\n",
    "    y_pred = model.predict(X_test_scaled)\n",
    "    mae = mean_absolute_error(y_pred, y_test) / 2\n",
    "       \n",
    "    return (round(mae, 4), model)\n",
    "\n",
    "Ridge_results = Ridge()\n",
    "Ridge_results"
   ]
  },
  {
   "cell_type": "code",
   "execution_count": 1136,
   "metadata": {},
   "outputs": [
    {
     "data": {
      "text/plain": [
       "(1.7333, Lasso())"
      ]
     },
     "execution_count": 1136,
     "metadata": {},
     "output_type": "execute_result"
    }
   ],
   "source": [
    "def Lasso():\n",
    "    '''\n",
    "    Fits a Lasso model to the training \n",
    "    data after using MinMaxScaler on the features. \n",
    "    It returns a tuple with the model and the mean \n",
    "    '''\n",
    "    from sklearn import linear_model\n",
    "    from sklearn.metrics import mean_squared_error\n",
    "\n",
    "    #Split and Scale\n",
    "    X_train, X_test, y_train, y_test = split_data()\n",
    "    X_train_scaled, X_test_scaled = scale_data(X_train, y_test)\n",
    "    \n",
    "    #Instantiate Model\n",
    "    model = linear_model.Lasso()\n",
    "    model.fit(X_train_scaled, y_train)\n",
    "    \n",
    "    #Evaluate\n",
    "    y_pred = model.predict(X_test_scaled)\n",
    "    mae = mean_absolute_error(y_pred, y_test) / 2\n",
    "    return (round(mae, 4), model)\n",
    "\n",
    "Lasso_results = Lasso()\n",
    "Lasso_results"
   ]
  },
  {
   "cell_type": "markdown",
   "metadata": {},
   "source": [
    "Each of the model results are listed below for ease of viewing with the mean absolute error followed by the model and its parameters. The SVR model is the best performing at a mean absolute error of 1.475 and will be used for the test data"
   ]
  },
  {
   "cell_type": "code",
   "execution_count": 1137,
   "metadata": {},
   "outputs": [
    {
     "name": "stdout",
     "output_type": "stream",
     "text": [
      "(1.4754, SVR(kernel='linear'))\n",
      "(2.6227, SVC(C=0.1, gamma=1, kernel='linear'))\n",
      "(1.708, LinearRegression(normalize=True))\n",
      "(1.7331, MLPRegressor(alpha=0.0005, hidden_layer_sizes=(1,), solver='lbfgs'))\n",
      "(1.6984, KNeighborsRegressor(n_neighbors=10))\n",
      "(2.598, LogisticRegression(solver='liblinear'))\n",
      "(1.714, Ridge(alpha=1000))\n",
      "(1.7333, Lasso())\n"
     ]
    }
   ],
   "source": [
    "model_results = [\n",
    "    SVR_results, \n",
    "    SVC_results, \n",
    "    LinearRegression_results, \n",
    "    MLP_results, \n",
    "    KNN_results, \n",
    "    LogisticRegression_results, \n",
    "    Ridge_results, \n",
    "    Lasso_results\n",
    "]\n",
    "\n",
    "for model in model_results:\n",
    "    print(model)"
   ]
  },
  {
   "cell_type": "markdown",
   "metadata": {},
   "source": [
    "## Test Data & Submission Materials\n",
    "\n",
    "Now that SVR has been revealed as the most effective model on the training data, we can implement the model on the testing data. Below, the *reviewTest.csv* file is uploaded again. Then, I generate the same features, fill the null values with the median of those columns (because the submission file needs to be complete), and then refit the SVR model.   "
   ]
  },
  {
   "cell_type": "code",
   "execution_count": 1138,
   "metadata": {},
   "outputs": [
    {
     "data": {
      "text/html": [
       "<div>\n",
       "<style scoped>\n",
       "    .dataframe tbody tr th:only-of-type {\n",
       "        vertical-align: middle;\n",
       "    }\n",
       "\n",
       "    .dataframe tbody tr th {\n",
       "        vertical-align: top;\n",
       "    }\n",
       "\n",
       "    .dataframe thead th {\n",
       "        text-align: right;\n",
       "    }\n",
       "</style>\n",
       "<table border=\"1\" class=\"dataframe\">\n",
       "  <thead>\n",
       "    <tr style=\"text-align: right;\">\n",
       "      <th></th>\n",
       "      <th>id</th>\n",
       "      <th>title</th>\n",
       "      <th>group</th>\n",
       "      <th>review</th>\n",
       "    </tr>\n",
       "  </thead>\n",
       "  <tbody>\n",
       "    <tr>\n",
       "      <th>0</th>\n",
       "      <td>90</td>\n",
       "      <td>The Eagle Has Landed</td>\n",
       "      <td>Book</td>\n",
       "      <td>NaN</td>\n",
       "    </tr>\n",
       "    <tr>\n",
       "      <th>1</th>\n",
       "      <td>1372</td>\n",
       "      <td>Che in Africa: Che Guevara's Congo Diary</td>\n",
       "      <td>Book</td>\n",
       "      <td>NaN</td>\n",
       "    </tr>\n",
       "    <tr>\n",
       "      <th>2</th>\n",
       "      <td>1382</td>\n",
       "      <td>The Darwin Awards II : Unnatural Selection</td>\n",
       "      <td>Book</td>\n",
       "      <td>NaN</td>\n",
       "    </tr>\n",
       "  </tbody>\n",
       "</table>\n",
       "</div>"
      ],
      "text/plain": [
       "     id                                        title  group  review\n",
       "0    90                         The Eagle Has Landed   Book     NaN\n",
       "1  1372     Che in Africa: Che Guevara's Congo Diary   Book     NaN\n",
       "2  1382   The Darwin Awards II : Unnatural Selection   Book     NaN"
      ]
     },
     "execution_count": 1138,
     "metadata": {},
     "output_type": "execute_result"
    }
   ],
   "source": [
    "test = pd.read_csv('reviewTest.csv')\n",
    "test.head(3)"
   ]
  },
  {
   "cell_type": "code",
   "execution_count": 1139,
   "metadata": {},
   "outputs": [
    {
     "name": "stdout",
     "output_type": "stream",
     "text": [
      "Wall time: 0 ns\n"
     ]
    }
   ],
   "source": [
    "test_features = generate_features(test)"
   ]
  },
  {
   "cell_type": "code",
   "execution_count": 1140,
   "metadata": {},
   "outputs": [
    {
     "name": "stdout",
     "output_type": "stream",
     "text": [
      "Your selected dataframe has 12 columns.\n",
      "There are 6 columns that have missing values.\n"
     ]
    },
    {
     "data": {
      "text/html": [
       "<div>\n",
       "<style scoped>\n",
       "    .dataframe tbody tr th:only-of-type {\n",
       "        vertical-align: middle;\n",
       "    }\n",
       "\n",
       "    .dataframe tbody tr th {\n",
       "        vertical-align: top;\n",
       "    }\n",
       "\n",
       "    .dataframe thead th {\n",
       "        text-align: right;\n",
       "    }\n",
       "</style>\n",
       "<table border=\"1\" class=\"dataframe\">\n",
       "  <thead>\n",
       "    <tr style=\"text-align: right;\">\n",
       "      <th></th>\n",
       "      <th>Missing Values</th>\n",
       "      <th>% of Total Values</th>\n",
       "    </tr>\n",
       "  </thead>\n",
       "  <tbody>\n",
       "    <tr>\n",
       "      <th>review</th>\n",
       "      <td>1000</td>\n",
       "      <td>100.0</td>\n",
       "    </tr>\n",
       "    <tr>\n",
       "      <th>eigenvector_centrality</th>\n",
       "      <td>6</td>\n",
       "      <td>0.6</td>\n",
       "    </tr>\n",
       "    <tr>\n",
       "      <th>betweenness_centrality</th>\n",
       "      <td>6</td>\n",
       "      <td>0.6</td>\n",
       "    </tr>\n",
       "    <tr>\n",
       "      <th>closeness_centrality</th>\n",
       "      <td>6</td>\n",
       "      <td>0.6</td>\n",
       "    </tr>\n",
       "    <tr>\n",
       "      <th>degree_centrality</th>\n",
       "      <td>6</td>\n",
       "      <td>0.6</td>\n",
       "    </tr>\n",
       "    <tr>\n",
       "      <th>pageranks</th>\n",
       "      <td>6</td>\n",
       "      <td>0.6</td>\n",
       "    </tr>\n",
       "  </tbody>\n",
       "</table>\n",
       "</div>"
      ],
      "text/plain": [
       "                        Missing Values  % of Total Values\n",
       "review                            1000              100.0\n",
       "eigenvector_centrality               6                0.6\n",
       "betweenness_centrality               6                0.6\n",
       "closeness_centrality                 6                0.6\n",
       "degree_centrality                    6                0.6\n",
       "pageranks                            6                0.6"
      ]
     },
     "execution_count": 1140,
     "metadata": {},
     "output_type": "execute_result"
    }
   ],
   "source": [
    "missing_values_table(test_features)"
   ]
  },
  {
   "cell_type": "code",
   "execution_count": 1141,
   "metadata": {},
   "outputs": [],
   "source": [
    "test_features['eigenvector_centrality'].fillna(test_features['eigenvector_centrality'].median(), inplace=True)\n",
    "test_features['betweenness_centrality'].fillna(test_features['betweenness_centrality'].median(), inplace=True)\n",
    "test_features['closeness_centrality'].fillna(test_features['closeness_centrality'].median(), inplace=True)\n",
    "test_features['degree_centrality'].fillna(test_features['degree_centrality'].median(), inplace=True)\n",
    "test_features['pageranks'].fillna(test_features['pageranks'].median(), inplace=True)"
   ]
  },
  {
   "cell_type": "code",
   "execution_count": 1142,
   "metadata": {},
   "outputs": [
    {
     "name": "stdout",
     "output_type": "stream",
     "text": [
      "Your selected dataframe has 12 columns.\n",
      "There are 1 columns that have missing values.\n"
     ]
    },
    {
     "data": {
      "text/html": [
       "<div>\n",
       "<style scoped>\n",
       "    .dataframe tbody tr th:only-of-type {\n",
       "        vertical-align: middle;\n",
       "    }\n",
       "\n",
       "    .dataframe tbody tr th {\n",
       "        vertical-align: top;\n",
       "    }\n",
       "\n",
       "    .dataframe thead th {\n",
       "        text-align: right;\n",
       "    }\n",
       "</style>\n",
       "<table border=\"1\" class=\"dataframe\">\n",
       "  <thead>\n",
       "    <tr style=\"text-align: right;\">\n",
       "      <th></th>\n",
       "      <th>Missing Values</th>\n",
       "      <th>% of Total Values</th>\n",
       "    </tr>\n",
       "  </thead>\n",
       "  <tbody>\n",
       "    <tr>\n",
       "      <th>review</th>\n",
       "      <td>1000</td>\n",
       "      <td>100.0</td>\n",
       "    </tr>\n",
       "  </tbody>\n",
       "</table>\n",
       "</div>"
      ],
      "text/plain": [
       "        Missing Values  % of Total Values\n",
       "review            1000              100.0"
      ]
     },
     "execution_count": 1142,
     "metadata": {},
     "output_type": "execute_result"
    }
   ],
   "source": [
    "missing_values_table(test_features)"
   ]
  },
  {
   "cell_type": "code",
   "execution_count": 1143,
   "metadata": {},
   "outputs": [
    {
     "data": {
      "text/plain": [
       "Index(['id', 'title', 'review', 'eigenvector_centrality',\n",
       "       'betweenness_centrality', 'closeness_centrality', 'degree_centrality',\n",
       "       'pageranks', 'group_ Book', 'group_ DVD', 'group_ Music',\n",
       "       'group_ Video'],\n",
       "      dtype='object')"
      ]
     },
     "execution_count": 1143,
     "metadata": {},
     "output_type": "execute_result"
    }
   ],
   "source": [
    "test_features.columns"
   ]
  },
  {
   "cell_type": "code",
   "execution_count": 1144,
   "metadata": {},
   "outputs": [
    {
     "data": {
      "text/plain": [
       "array([8.00781633, 8.01707942, 7.99975732, 8.95482703, 7.99635382,\n",
       "       7.97754404, 8.95135284, 8.01316198, 8.03676193, 8.98178726])"
      ]
     },
     "execution_count": 1144,
     "metadata": {},
     "output_type": "execute_result"
    }
   ],
   "source": [
    "from sklearn.svm import SVR\n",
    "from sklearn.preprocessing import MinMaxScaler, StandardScaler\n",
    "from sklearn.metrics import mean_squared_error\n",
    "from sklearn.model_selection import train_test_split\n",
    "\n",
    "#Splitting\n",
    "X_train, X_test, y_train, y_test = split_data()\n",
    "\n",
    "#Scaling\n",
    "scaler = StandardScaler()\n",
    "X_train_scaled = scaler.fit_transform(X_train)\n",
    "X_test_scaled = scaler.transform(X_test)\n",
    "\n",
    "#Working Model\n",
    "svr = SVR(kernel='linear')\n",
    "svr.fit(X_train_scaled, y_train)\n",
    "\n",
    "#submission data\n",
    "test_data = test_features.drop(columns=[\"id\", \"review\", \"title\"])\n",
    "\n",
    "# scaler = MinMaxScaler()\n",
    "test_data_scaled = scaler.transform(test_data)\n",
    "\n",
    "y_pred = svr.predict(test_data_scaled)\n",
    "y_pred[:10] #sample 10 values."
   ]
  },
  {
   "cell_type": "code",
   "execution_count": 1146,
   "metadata": {},
   "outputs": [
    {
     "data": {
      "text/plain": [
       "numpy.ndarray"
      ]
     },
     "execution_count": 1146,
     "metadata": {},
     "output_type": "execute_result"
    }
   ],
   "source": [
    "type(y_pred)"
   ]
  },
  {
   "cell_type": "code",
   "execution_count": 1147,
   "metadata": {},
   "outputs": [],
   "source": [
    "converted = y_pred.round(0) / 2 #Round predictions to whole number and divide by two"
   ]
  },
  {
   "cell_type": "code",
   "execution_count": 1148,
   "metadata": {},
   "outputs": [],
   "source": [
    "test['review'] = converted.tolist() #replace NAN values in \"Review\" column"
   ]
  },
  {
   "cell_type": "code",
   "execution_count": 1149,
   "metadata": {},
   "outputs": [],
   "source": [
    "submission_data = test[['id', 'title', 'group', 'review']]"
   ]
  },
  {
   "cell_type": "code",
   "execution_count": 1150,
   "metadata": {},
   "outputs": [
    {
     "data": {
      "text/plain": [
       "4.0    803\n",
       "4.5    197\n",
       "Name: review, dtype: int64"
      ]
     },
     "execution_count": 1150,
     "metadata": {},
     "output_type": "execute_result"
    }
   ],
   "source": [
    "submission_data.review.value_counts()"
   ]
  },
  {
   "cell_type": "code",
   "execution_count": 1151,
   "metadata": {},
   "outputs": [
    {
     "data": {
      "text/html": [
       "<div>\n",
       "<style scoped>\n",
       "    .dataframe tbody tr th:only-of-type {\n",
       "        vertical-align: middle;\n",
       "    }\n",
       "\n",
       "    .dataframe tbody tr th {\n",
       "        vertical-align: top;\n",
       "    }\n",
       "\n",
       "    .dataframe thead th {\n",
       "        text-align: right;\n",
       "    }\n",
       "</style>\n",
       "<table border=\"1\" class=\"dataframe\">\n",
       "  <thead>\n",
       "    <tr style=\"text-align: right;\">\n",
       "      <th></th>\n",
       "      <th>id</th>\n",
       "      <th>title</th>\n",
       "      <th>group</th>\n",
       "      <th>review</th>\n",
       "    </tr>\n",
       "  </thead>\n",
       "  <tbody>\n",
       "    <tr>\n",
       "      <th>0</th>\n",
       "      <td>90</td>\n",
       "      <td>The Eagle Has Landed</td>\n",
       "      <td>Book</td>\n",
       "      <td>4.0</td>\n",
       "    </tr>\n",
       "    <tr>\n",
       "      <th>1</th>\n",
       "      <td>1372</td>\n",
       "      <td>Che in Africa: Che Guevara's Congo Diary</td>\n",
       "      <td>Book</td>\n",
       "      <td>4.0</td>\n",
       "    </tr>\n",
       "    <tr>\n",
       "      <th>2</th>\n",
       "      <td>1382</td>\n",
       "      <td>The Darwin Awards II : Unnatural Selection</td>\n",
       "      <td>Book</td>\n",
       "      <td>4.0</td>\n",
       "    </tr>\n",
       "  </tbody>\n",
       "</table>\n",
       "</div>"
      ],
      "text/plain": [
       "     id                                        title  group  review\n",
       "0    90                         The Eagle Has Landed   Book     4.0\n",
       "1  1372     Che in Africa: Che Guevara's Congo Diary   Book     4.0\n",
       "2  1382   The Darwin Awards II : Unnatural Selection   Book     4.0"
      ]
     },
     "execution_count": 1151,
     "metadata": {},
     "output_type": "execute_result"
    }
   ],
   "source": [
    "submission_data.head(3)"
   ]
  },
  {
   "cell_type": "code",
   "execution_count": 1152,
   "metadata": {},
   "outputs": [],
   "source": [
    "import csv\n",
    "\n",
    "with open('reviewTest_submission.csv', 'w', newline='', encoding='utf-8') as f:\n",
    "    csvwriter = csv.writer(f)\n",
    "    csvwriter.writerow(submission_data.columns)\n",
    "    csvwriter.writerows(submission_data.values)"
   ]
  }
 ],
 "metadata": {
  "kernelspec": {
   "display_name": "Python 3",
   "language": "python",
   "name": "python3"
  },
  "language_info": {
   "codemirror_mode": {
    "name": "ipython",
    "version": 3
   },
   "file_extension": ".py",
   "mimetype": "text/x-python",
   "name": "python",
   "nbconvert_exporter": "python",
   "pygments_lexer": "ipython3",
   "version": "3.8.5"
  }
 },
 "nbformat": 4,
 "nbformat_minor": 5
}
